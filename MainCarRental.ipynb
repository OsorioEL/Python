{
 "cells": [
  {
   "cell_type": "markdown",
   "metadata": {},
   "source": [
    "## This is the MainCarRental Notebook that imports the classes for the Car Rental Program Project and prints the main menu that interacts with the Customer."
   ]
  },
  {
   "cell_type": "code",
   "execution_count": 1,
   "metadata": {},
   "outputs": [],
   "source": [
    "from CarRental import Rental, Customer, CustomerDataManagement"
   ]
  },
  {
   "cell_type": "code",
   "execution_count": 2,
   "metadata": {},
   "outputs": [],
   "source": [
    "def Print_Main_Menu():  # Main Menu # \n",
    "    print('\\n')\n",
    "    print(\"---------------------------------- Welcome To Luxury Car Rentals --------------------------------\")\n",
    "    print(\"1. Display Available Cars Inventory\")\n",
    "    print(\"2. Rent Vehicle(s)\")\n",
    "    print(\"3. Return Vehicle(s)\")\n",
    "    print(\"4. Exit Menu\")\n",
    "    print(\"--------------------------------------------------------------------------------------------------\")\n",
    "    print('\\n')\n",
    "    return input(\"Please select an option from the menu above: \")"
   ]
  },
  {
   "cell_type": "code",
   "execution_count": 3,
   "metadata": {},
   "outputs": [],
   "source": [
    "def main():\n",
    "    \n",
    "    # The main method will call the Print_Main_Menu() function that will display the main menu to the user. As long as the user does not select the exit option, the program will continue to run.\n",
    "    # Due to design constraints, all data is held in memory and will be lost once the program is terminated.\n",
    "    # Once the user selects the exit option, the program will terminate and all data will be lost\n",
    "    \n",
    "    \n",
    "    # The following objects are created to store the rental inventory data, customer information, and customer object as soon as the main program is invoked and disappear once the program is terminated.\n",
    "    rental_vehicle = Rental()       # This is the rental class object that will be used to store the rental inventory data and rental information as long as the program is running \n",
    "    customer_record_management = CustomerDataManagement() # This stores the customer management object which is used to store the customer information as long as the program is running\n",
    "    customer = None # This will be used to store the customer object which will be used to access the customer information and rental information\n",
    "    \n",
    "    # This method is used to retrieve the customer record from the database, which in this case is a dictionary in memory in the CustomerDataManagement class. If the customer record is found, the customer object is created and returned. If the customer record is not found, the method will return None.\n",
    "    def get_customer_record(customer_id):\n",
    "        customer_record = customer_record_management.find_customer(customer_id) # This method is used to find the customer record in the database\n",
    "        if customer_record is not None: # If the record exists, the customer object is created and populated with the customer information\n",
    "            customer_name=customer_record[1]['first_name'] + \" \" + customer_record[1]['last_name']\n",
    "            customer = Customer(customer_record[1]['first_name'], customer_record[1]['last_name'], customer_record[0], customer_record[1]['email'], customer_record[1]['phone']) # This creates the customer object\n",
    "            print(\"Welcome back, \" + customer_name + \"!\")\n",
    "            return customer # returns the customer object\n",
    "        else:\n",
    "            return customer_record   # returns None if the customer record is not found         \n",
    "   \n",
    "    while True: # This loop will continue to run until the user selects the exit option\n",
    "        \n",
    "        choice = Print_Main_Menu()    \n",
    "        \n",
    "        # The following 'If/Else' block will execute the user's choice from the main menu. The user can select from options 1, 2, 3 or 4. If the user selects option 4, the program will terminate.\n",
    "        if choice == '1': # First choice is to display the available cars inventory\n",
    "            print('\\n')\n",
    "            print(\"Available Cars Inventory\")\n",
    "            print(\"-------------------------------\")\n",
    "            rental_vehicle.display_inventory()  # This Rental method is used to display the rental inventory   \n",
    "            input(\"Press Enter to continue...\" )\n",
    "            print('\\n')  \n",
    "        elif choice == '2': # Second choice is to start the rental process ONLY if all eligibility requirements are met.\n",
    "            print(\"Rent Vehicle(s)\")\n",
    "            print(\"-------------------------------\")\n",
    "            str = input(\"Do you have an account with us? (yes/no): \")\n",
    "            # First eligibility requirement is to have an account in the system. If customer has an account the program will ask for the driver's license number to retrieve the customer record.\n",
    "            if str=='yes':\n",
    "                customer_id = input(\"Enter your Driver's License Number: \")\n",
    "                customer = get_customer_record(customer_id) # This CustomerDataManagement method is used to retrieve the customer record from the database\n",
    "                active_rental=customer_record_management.check_for_active_rentals(rental_vehicle, customer_id) # This CustomerDataManagement method is used to check if the customer has an active rental it returns True if the customer has an active rental and False if the customer does not have an active rental.\n",
    "                print('\\n')\n",
    "                print(\"Active Rental: \", active_rental)\n",
    "                print('\\n')\n",
    "                # In the following 'If/Else' block, the program checks if the customer record was found. If found it checks further that the customer does not have an active rental.\n",
    "                # If an active rental is found, the program will not allow the customer to rent another vehicle until the current rental is returned.\n",
    "                # If the customer record was not found, the program will tell user no account was found and continues to loop back to main menu.\n",
    "                # IF the customer record is found AND the customer does not have outstanding rentals the program proceeds to allow the customer to rent a vehicle.\n",
    "                if customer is not None: \n",
    "                    if not active_rental: # Second eligibility is for the user with an account to not have an active rental\n",
    "                        input(\"Press Enter to continue...\" )\n",
    "                        # This is where the logic block for requesting a car is executed by the customer.car_request() method\n",
    "                        customer.car_request(rental_vehicle) \n",
    "                        continue  \n",
    "                    else:\n",
    "                        print(\"It looks like you have an active rental. Please return the vehicle(s) before renting another one.\")\n",
    "                        input(\"Press Enter to continue...\" )\n",
    "                        continue \n",
    "                else:\n",
    "                    print(\"Customer ID not found. Please try again.\")\n",
    "                    input(\"Press Enter to continue...\")\n",
    "                    continue \n",
    "                                      \n",
    "            elif str=='no': # If the customer does not have an account, the program will ask for the customer's information to create an account.\n",
    "                age_verification = input(\"Enter your age: \")\n",
    "                if not age_verification.isdigit(): # This checks if the user input is a number\n",
    "                    continue\n",
    "                if int(age_verification) < 18: # Third elibility requirement is that the user must be 18 years or older to rent a vehicle\n",
    "                    print(\"You must be 18 years or older to rent a vehicle.\")\n",
    "                    input(\"Press Enter to continue...\")\n",
    "                    continue\n",
    "                #####################################################################################################################################################################################\n",
    "                # The following block does not check to make sure that the user input is a valid for only characters in the name, valid  email address or phone number. This is a future enhancement.\n",
    "                ####################################################################################################################################################################################\n",
    "                fname = input(\"Enter your first name: \")\n",
    "                lname = input(\"Enter your last name: \")                 \n",
    "                driver_license = input(\"Enter your driver's license number: \") # This is the most important piece of information as it used as the key for all rentals and customer information\n",
    "                email = input(\"Enter your email address: \")\n",
    "                phone = input(\"Enter your phone number: \")\n",
    "                duplicate_license = customer_record_management.checkDuplicate(driver_license) # This checks if the customer already exists in the database\n",
    "                # If the customer already exists in the database, the program will not allow the customer to create a new account and will loop back to the main menu\n",
    "                if duplicate_license:\n",
    "                    print(\"Customer already exists in the database. Please try again.\")\n",
    "                    input(\"Press Enter to continue...\")\n",
    "                    continue\n",
    "                else: # If no duplicate account is found, the system will create a new account with the User's input information and allow the customer to continue with the rental process, by calling the customer.car_request() method\n",
    "                    customer_record_management.add_customer(fname, lname, driver_license, email, phone)\n",
    "                    customer = Customer(fname, lname, driver_license, email, phone)\n",
    "                    customer_record_management.display_customers(driver_license)\n",
    "                    input(\"Press Enter to continue...\" )\n",
    "                    # This is where the logic block for requesting a car is executed by the customer.car_request() method\n",
    "                    customer.car_request(rental_vehicle)\n",
    "                    continue\n",
    "        elif choice == '3': # Third choice is to return the vehicle(s) that the customer has rented\n",
    "            print(\"Return Vehicle(s)\")\n",
    "            print(\"-------------------------------\")\n",
    "            dl=input(\"Enter your Driver's License Number: \")\n",
    "            customer=get_customer_record(dl)\n",
    "            if customer is not None: # A customer record must be found in order to proceed with the return process. If the customer record is not found, the program will loop back to the main menu.\n",
    "                print(\"Found it!\")\n",
    "                # Next check to make sure that the customer has an active rental. If the customer does not have an active rental, the program will not allow the customer to try to return a vehicle.\n",
    "                active_rental=customer_record_management.check_for_active_rentals(rental_vehicle, dl)\n",
    "                if not active_rental:\n",
    "                    print(\"It looks like you do not have an active rental. Please rent a vehicle first.\")\n",
    "                    input(\"Press Enter to continue...\")\n",
    "                    #continue\n",
    "                else:   \n",
    "                    customer.car_return(dl,rental_vehicle,customer_record_management) # This is where the logic block for returning a car is executed by the customer.car_return() method\n",
    "            else: # If the customer record is not found, the program will loop back to the main menu\n",
    "                print(\"Customer ID not found. Please try again.\")\n",
    "                input(\"Press Enter to continue...\")\n",
    "                #continue\n",
    "            continue # This will loop back to the main menu\n",
    "        elif choice == '4': # This last choice ends the program and all data is lost.\n",
    "            print(\"Exit Menu\")\n",
    "            print(\"-------------------------------\")\n",
    "            print(\"Thank you for using the Car Rental System. Goodbye!\")\n",
    "            break\n",
    "        else:\n",
    "            print(\"Invalid Input. Please try again.\")\n",
    "            continue\n",
    "\n",
    "    \n"
   ]
  },
  {
   "cell_type": "code",
   "execution_count": null,
   "metadata": {},
   "outputs": [
    {
     "name": "stdout",
     "output_type": "stream",
     "text": [
      "\n",
      "\n",
      "---------------------------------- Welcome To Luxury Car Rentals --------------------------------\n",
      "1. Display Available Cars Inventory\n",
      "2. Rent Vehicle(s)\n",
      "3. Return Vehicle(s)\n",
      "4. Exit Menu\n",
      "--------------------------------------------------------------------------------------------------\n",
      "\n",
      "\n"
     ]
    },
    {
     "name": "stdout",
     "output_type": "stream",
     "text": [
      "Please select an option from the menu above:  1\n"
     ]
    },
    {
     "name": "stdout",
     "output_type": "stream",
     "text": [
      "\n",
      "\n",
      "Available Cars Inventory\n",
      "-------------------------------\n",
      "Vehicle ID :Vin1 | \u001b[4mFerrari 488 Pista Coupe\u001b[0m 2020 Color: Red Passengers: 2 Luggage: 4 Transmission: Auto Doors: 2 Rates: Hourly: $105 Daily: $2520 Weekly: $17640\n",
      "Vehicle ID :Vin2 | \u001b[4mLamborghini Aventador SVJ\u001b[0m 2022 Color: Black Passengers: 4 Luggage: 4 Transmission: Auto Doors: 4 Rates: Hourly: $125 Daily: $3000 Weekly: $21000\n",
      "Vehicle ID :Vin3 | \u001b[4mMcLaren 720S\u001b[0m 2022 Color: Blue Passengers: 2 Luggage: 2 Transmission: Auto Doors: 2 Rates: Hourly: $105 Daily: $2520 Weekly: $17640\n",
      "Vehicle ID :Vin4 | \u001b[4mPorsche 911 GT3\u001b[0m 2022 Color: White Passengers: 2 Luggage: 2 Transmission: Auto Doors: 2 Rates: Hourly: $85 Daily: $2040 Weekly: $14280\n",
      "Vehicle ID :Vin5 | \u001b[4mAudi R8\u001b[0m 2020 Color: Silver Passengers: 2 Luggage: 4 Transmission: Manual Doors: 2 Rates: Hourly: $125 Daily: $3000 Weekly: $21000\n",
      "Vehicle ID :Vin6 | \u001b[4mBMW M8\u001b[0m 2022 Color: Black Passengers: 2 Luggage: 2 Transmission: Manual Doors: 2 Rates: Hourly: $115 Daily: $2760 Weekly: $19320\n",
      "Vehicle ID :Vin7 | \u001b[4mMercedes-Benz AMG GT\u001b[0m 2024 Color: Red Passengers: 2 Luggage: 2 Transmission: Auto Doors: 2 Rates: Hourly: $146 Daily: $3504 Weekly: $24528\n",
      "Vehicle ID :Vin8 | \u001b[4mRoll Royce Phantom\u001b[0m 2022 Color: Blue Passengers: 4 Luggage: 5 Transmission: Auto Doors: 4 Rates: Hourly: $167 Daily: $4008 Weekly: $28056\n",
      "Vehicle ID :Vin9 | \u001b[4mLamborghini Aventador SV Roadster\u001b[0m 2018 Color: Yellow Passengers: 2 Luggage: 2 Transmission: Auto Doors: 2 Rates: Hourly: $95 Daily: $2280 Weekly: $15960\n",
      "Vehicle ID :Vin10 | \u001b[4mMercedes-Benz Brabus G Class 4x4 AMG\u001b[0m 2019 Color: Red Passengers: 5 Luggage: 9 Transmission: Auto Doors: 5 Rates: Hourly: $188 Daily: $4512 Weekly: $31584\n",
      "Vehicle ID :Vin11 | \u001b[4mNissan GT-R\u001b[0m 2018 Color: Blue Passengers: 2 Luggage: 4 Transmission: Manual Doors: 2 Rates: Hourly: $85 Daily: $2040 Weekly: $14280\n",
      "Vehicle ID :Vin12 | \u001b[4mRolls Royce Dawn Convertible\u001b[0m 2019 Color: Blue Passengers: 4 Luggage: 4 Transmission: Auto Doors: 2 Rates: Hourly: $146 Daily: $3504 Weekly: $24528\n",
      "Vehicle ID :Vin13 | \u001b[4mFerrari 488 GTS Convertible\u001b[0m 2019 Color: Blue Passengers: 2 Luggage: 2 Transmission: Auto Doors: 2 Rates: Hourly: $125 Daily: $3000 Weekly: $21000\n",
      "Vehicle ID :Vin14 | \u001b[4mMaserati Quatroporte S Granlusso\u001b[0m 2021 Color: White Passengers: 5 Luggage: 4 Transmission: Auto Doors: 4 Rates: Hourly: $146 Daily: $3504 Weekly: $24528\n",
      "Vehicle ID :Vin15 | \u001b[4mLamborghini Huracan EVO SPyder\u001b[0m 2021 Color: Green Passengers: 2 Luggage: 2 Transmission: Auto Doors: 2 Rates: Hourly: $157 Daily: $3768 Weekly: $26376\n",
      "Vehicle ID :Vin16 | \u001b[4mRolls Royce Cullinan\u001b[0m 2021 Color: White Passengers: 7 Luggage: 5 Transmission: Auto Doors: 4 Rates: Hourly: $157 Daily: $3768 Weekly: $26376\n",
      "Vehicle ID :Vin17 | \u001b[4mDodge Charger SRT Hellcat Widebody\u001b[0m 2022 Color: Blue Passengers: 5 Luggage: 5 Transmission: Auto Doors: 4 Rates: Hourly: $130 Daily: $3120 Weekly: $21840\n",
      "Vehicle ID :Vin18 | \u001b[4mPorsche 911 Carrera 4S Cabriolet\u001b[0m 2023 Color: Red Passengers: 2 Luggage: 2 Transmission: Auto Doors: 2 Rates: Hourly: $80 Daily: $1920 Weekly: $13440\n",
      "Vehicle ID :Vin19 | \u001b[4mMercedes-Benz Maybach GLS 600 AMG\u001b[0m 2023 Color: Blue Passengers: 4 Luggage: 5 Transmission: Auto Doors: 4 Rates: Hourly: $146 Daily: $3504 Weekly: $24528\n",
      "Vehicle ID :Vin20 | \u001b[4mJeep Gladiator 6x6\u001b[0m 2024 Color: Red Passengers: 7 Luggage: 8 Transmission: Auto Doors: 4 Rates: Hourly: $208 Daily: $4992 Weekly: $34944\n"
     ]
    },
    {
     "name": "stdout",
     "output_type": "stream",
     "text": [
      "Press Enter to continue... \n"
     ]
    },
    {
     "name": "stdout",
     "output_type": "stream",
     "text": [
      "\n",
      "\n",
      "\n",
      "\n",
      "---------------------------------- Welcome To Luxury Car Rentals --------------------------------\n",
      "1. Display Available Cars Inventory\n",
      "2. Rent Vehicle(s)\n",
      "3. Return Vehicle(s)\n",
      "4. Exit Menu\n",
      "--------------------------------------------------------------------------------------------------\n",
      "\n",
      "\n"
     ]
    },
    {
     "name": "stdout",
     "output_type": "stream",
     "text": [
      "Please select an option from the menu above:  2\n"
     ]
    },
    {
     "name": "stdout",
     "output_type": "stream",
     "text": [
      "Rent Vehicle(s)\n",
      "-------------------------------\n"
     ]
    },
    {
     "name": "stdout",
     "output_type": "stream",
     "text": [
      "Do you have an account with us? (yes/no):  yes\n",
      "Enter your Driver's License Number:  DL1234\n"
     ]
    },
    {
     "name": "stdout",
     "output_type": "stream",
     "text": [
      "\n",
      "\n",
      "Active Rental:  False\n",
      "\n",
      "\n",
      "Customer ID not found. Please try again.\n"
     ]
    },
    {
     "name": "stdout",
     "output_type": "stream",
     "text": [
      "Press Enter to continue... \n"
     ]
    },
    {
     "name": "stdout",
     "output_type": "stream",
     "text": [
      "\n",
      "\n",
      "---------------------------------- Welcome To Luxury Car Rentals --------------------------------\n",
      "1. Display Available Cars Inventory\n",
      "2. Rent Vehicle(s)\n",
      "3. Return Vehicle(s)\n",
      "4. Exit Menu\n",
      "--------------------------------------------------------------------------------------------------\n",
      "\n",
      "\n"
     ]
    },
    {
     "name": "stdout",
     "output_type": "stream",
     "text": [
      "Please select an option from the menu above:  2\n"
     ]
    },
    {
     "name": "stdout",
     "output_type": "stream",
     "text": [
      "Rent Vehicle(s)\n",
      "-------------------------------\n"
     ]
    },
    {
     "name": "stdout",
     "output_type": "stream",
     "text": [
      "Do you have an account with us? (yes/no):  no\n",
      "Enter your age:  1\n"
     ]
    },
    {
     "name": "stdout",
     "output_type": "stream",
     "text": [
      "You must be 18 years or older to rent a vehicle.\n"
     ]
    },
    {
     "name": "stdout",
     "output_type": "stream",
     "text": [
      "Press Enter to continue... \n"
     ]
    },
    {
     "name": "stdout",
     "output_type": "stream",
     "text": [
      "\n",
      "\n",
      "---------------------------------- Welcome To Luxury Car Rentals --------------------------------\n",
      "1. Display Available Cars Inventory\n",
      "2. Rent Vehicle(s)\n",
      "3. Return Vehicle(s)\n",
      "4. Exit Menu\n",
      "--------------------------------------------------------------------------------------------------\n",
      "\n",
      "\n"
     ]
    },
    {
     "name": "stdout",
     "output_type": "stream",
     "text": [
      "Please select an option from the menu above:  2\n"
     ]
    },
    {
     "name": "stdout",
     "output_type": "stream",
     "text": [
      "Rent Vehicle(s)\n",
      "-------------------------------\n"
     ]
    },
    {
     "name": "stdout",
     "output_type": "stream",
     "text": [
      "Do you have an account with us? (yes/no):  no\n",
      "Enter your age:  22\n",
      "Enter your first name:  Mike\n",
      "Enter your last name:  Doop\n",
      "Enter your driver's license number:  DL12\n",
      "Enter your email address:  \n",
      "Enter your phone number:  \n"
     ]
    },
    {
     "name": "stdout",
     "output_type": "stream",
     "text": [
      "\n",
      "\n",
      "Customer Information: \n",
      "-------------------------\n",
      "Customer Account Number:  DL12\n",
      "First Name:  Mike\n",
      "Last Name:  Doop\n",
      "Email:  \n",
      "Phone:  \n"
     ]
    },
    {
     "name": "stdout",
     "output_type": "stream",
     "text": [
      "Press Enter to continue... \n"
     ]
    },
    {
     "name": "stdout",
     "output_type": "stream",
     "text": [
      "\n",
      "\n"
     ]
    },
    {
     "name": "stdout",
     "output_type": "stream",
     "text": [
      "How many vehicles would you like to rent?  1\n"
     ]
    },
    {
     "name": "stdout",
     "output_type": "stream",
     "text": [
      "AVAILABILITY :  20  available cars\n",
      "\n",
      "\n",
      "Rental Period Choices:\n",
      "1. Hourly\n",
      "2. Daily\n",
      "3. Weekly\n",
      "\n",
      "\n",
      "Enter Option for rental period. Example, type: 3 for weekly rental. Note: (All vehicles must be rented at same time and returned at the same time.)\n"
     ]
    },
    {
     "name": "stdout",
     "output_type": "stream",
     "text": [
      " 1\n"
     ]
    },
    {
     "name": "stdout",
     "output_type": "stream",
     "text": [
      "\n",
      "\n",
      "------Available Vehicles------\n",
      "\n",
      "\n",
      "Vehicle ID :Vin1 | \u001b[4mFerrari 488 Pista Coupe\u001b[0m 2020 Color: Red Passengers: 2 Luggage: 4 Transmission: Auto Doors: 2 Rates: Hourly: $105 Daily: $2520 Weekly: $17640\n",
      "Vehicle ID :Vin2 | \u001b[4mLamborghini Aventador SVJ\u001b[0m 2022 Color: Black Passengers: 4 Luggage: 4 Transmission: Auto Doors: 4 Rates: Hourly: $125 Daily: $3000 Weekly: $21000\n",
      "Vehicle ID :Vin3 | \u001b[4mMcLaren 720S\u001b[0m 2022 Color: Blue Passengers: 2 Luggage: 2 Transmission: Auto Doors: 2 Rates: Hourly: $105 Daily: $2520 Weekly: $17640\n",
      "Vehicle ID :Vin4 | \u001b[4mPorsche 911 GT3\u001b[0m 2022 Color: White Passengers: 2 Luggage: 2 Transmission: Auto Doors: 2 Rates: Hourly: $85 Daily: $2040 Weekly: $14280\n",
      "Vehicle ID :Vin5 | \u001b[4mAudi R8\u001b[0m 2020 Color: Silver Passengers: 2 Luggage: 4 Transmission: Manual Doors: 2 Rates: Hourly: $125 Daily: $3000 Weekly: $21000\n",
      "Vehicle ID :Vin6 | \u001b[4mBMW M8\u001b[0m 2022 Color: Black Passengers: 2 Luggage: 2 Transmission: Manual Doors: 2 Rates: Hourly: $115 Daily: $2760 Weekly: $19320\n",
      "Vehicle ID :Vin7 | \u001b[4mMercedes-Benz AMG GT\u001b[0m 2024 Color: Red Passengers: 2 Luggage: 2 Transmission: Auto Doors: 2 Rates: Hourly: $146 Daily: $3504 Weekly: $24528\n",
      "Vehicle ID :Vin8 | \u001b[4mRoll Royce Phantom\u001b[0m 2022 Color: Blue Passengers: 4 Luggage: 5 Transmission: Auto Doors: 4 Rates: Hourly: $167 Daily: $4008 Weekly: $28056\n",
      "Vehicle ID :Vin9 | \u001b[4mLamborghini Aventador SV Roadster\u001b[0m 2018 Color: Yellow Passengers: 2 Luggage: 2 Transmission: Auto Doors: 2 Rates: Hourly: $95 Daily: $2280 Weekly: $15960\n",
      "Vehicle ID :Vin10 | \u001b[4mMercedes-Benz Brabus G Class 4x4 AMG\u001b[0m 2019 Color: Red Passengers: 5 Luggage: 9 Transmission: Auto Doors: 5 Rates: Hourly: $188 Daily: $4512 Weekly: $31584\n",
      "Vehicle ID :Vin11 | \u001b[4mNissan GT-R\u001b[0m 2018 Color: Blue Passengers: 2 Luggage: 4 Transmission: Manual Doors: 2 Rates: Hourly: $85 Daily: $2040 Weekly: $14280\n",
      "Vehicle ID :Vin12 | \u001b[4mRolls Royce Dawn Convertible\u001b[0m 2019 Color: Blue Passengers: 4 Luggage: 4 Transmission: Auto Doors: 2 Rates: Hourly: $146 Daily: $3504 Weekly: $24528\n",
      "Vehicle ID :Vin13 | \u001b[4mFerrari 488 GTS Convertible\u001b[0m 2019 Color: Blue Passengers: 2 Luggage: 2 Transmission: Auto Doors: 2 Rates: Hourly: $125 Daily: $3000 Weekly: $21000\n",
      "Vehicle ID :Vin14 | \u001b[4mMaserati Quatroporte S Granlusso\u001b[0m 2021 Color: White Passengers: 5 Luggage: 4 Transmission: Auto Doors: 4 Rates: Hourly: $146 Daily: $3504 Weekly: $24528\n",
      "Vehicle ID :Vin15 | \u001b[4mLamborghini Huracan EVO SPyder\u001b[0m 2021 Color: Green Passengers: 2 Luggage: 2 Transmission: Auto Doors: 2 Rates: Hourly: $157 Daily: $3768 Weekly: $26376\n",
      "Vehicle ID :Vin16 | \u001b[4mRolls Royce Cullinan\u001b[0m 2021 Color: White Passengers: 7 Luggage: 5 Transmission: Auto Doors: 4 Rates: Hourly: $157 Daily: $3768 Weekly: $26376\n",
      "Vehicle ID :Vin17 | \u001b[4mDodge Charger SRT Hellcat Widebody\u001b[0m 2022 Color: Blue Passengers: 5 Luggage: 5 Transmission: Auto Doors: 4 Rates: Hourly: $130 Daily: $3120 Weekly: $21840\n",
      "Vehicle ID :Vin18 | \u001b[4mPorsche 911 Carrera 4S Cabriolet\u001b[0m 2023 Color: Red Passengers: 2 Luggage: 2 Transmission: Auto Doors: 2 Rates: Hourly: $80 Daily: $1920 Weekly: $13440\n",
      "Vehicle ID :Vin19 | \u001b[4mMercedes-Benz Maybach GLS 600 AMG\u001b[0m 2023 Color: Blue Passengers: 4 Luggage: 5 Transmission: Auto Doors: 4 Rates: Hourly: $146 Daily: $3504 Weekly: $24528\n",
      "Vehicle ID :Vin20 | \u001b[4mJeep Gladiator 6x6\u001b[0m 2024 Color: Red Passengers: 7 Luggage: 8 Transmission: Auto Doors: 4 Rates: Hourly: $208 Daily: $4992 Weekly: $34944\n",
      "\n",
      "\n",
      "Enter the Vehicle ID for vehicle  1  Example, type: Vin11\n"
     ]
    },
    {
     "name": "stdout",
     "output_type": "stream",
     "text": [
      " Vin29\n"
     ]
    },
    {
     "name": "stdout",
     "output_type": "stream",
     "text": [
      "Invalid Vehicle ID. Let's try this again.\n"
     ]
    },
    {
     "name": "stdout",
     "output_type": "stream",
     "text": [
      "Press Enter to continue... \n"
     ]
    },
    {
     "name": "stdout",
     "output_type": "stream",
     "text": [
      "\n",
      "Enter the Vehicle ID for vehicle  1  Example, type: Vin11\n"
     ]
    },
    {
     "name": "stdout",
     "output_type": "stream",
     "text": [
      " Vin20\n"
     ]
    },
    {
     "name": "stdout",
     "output_type": "stream",
     "text": [
      "\n",
      "\n",
      "Please enter the pickup time for your reservation.\n"
     ]
    },
    {
     "name": "stdout",
     "output_type": "stream",
     "text": [
      "Enter the date and time (MM/DD/YYYY HH:MM AM or PM. THE EXACT FORMAT MUST BE FOLLOWED):  4/17/2024 7:00 AM\n"
     ]
    },
    {
     "name": "stdout",
     "output_type": "stream",
     "text": [
      "Validated time: Wednesday, April 17, 2024 07:00 AM\n",
      "\n",
      "\n",
      "Please enter the drop off or return time for your reservation.\n"
     ]
    },
    {
     "name": "stdout",
     "output_type": "stream",
     "text": [
      "Enter the date and time (MM/DD/YYYY HH:MM AM or PM. THE EXACT FORMAT MUST BE FOLLOWED):  4/17/2024 8:00 AM\n"
     ]
    },
    {
     "name": "stdout",
     "output_type": "stream",
     "text": [
      "Validated time: Wednesday, April 17, 2024 08:00 AM\n",
      "\n",
      "\n",
      "Rental Duration Details:\n",
      "-------------------------\n",
      "duration :  1:00:00\n",
      "total_hours :  1.0\n",
      "Rental Duration:  1.0\n",
      "\n",
      "\n",
      "Invalid rental period. For hourly rentals, please rent for a minimum of 4 hours with a maximum number of 24 hours.\n",
      "\n",
      "\n"
     ]
    },
    {
     "name": "stdout",
     "output_type": "stream",
     "text": [
      "Press Enter to continue with hourly rental OR Type: cancel and Press Enter to go back to main menu and try again \n"
     ]
    },
    {
     "name": "stdout",
     "output_type": "stream",
     "text": [
      "\n",
      "\n",
      "Please enter the pickup time for your reservation.\n"
     ]
    },
    {
     "name": "stdout",
     "output_type": "stream",
     "text": [
      "Enter the date and time (MM/DD/YYYY HH:MM AM or PM. THE EXACT FORMAT MUST BE FOLLOWED):  4/17/2024 7:00 AM\n"
     ]
    },
    {
     "name": "stdout",
     "output_type": "stream",
     "text": [
      "Validated time: Wednesday, April 17, 2024 07:00 AM\n",
      "\n",
      "\n",
      "Please enter the drop off or return time for your reservation.\n"
     ]
    },
    {
     "name": "stdout",
     "output_type": "stream",
     "text": [
      "Enter the date and time (MM/DD/YYYY HH:MM AM or PM. THE EXACT FORMAT MUST BE FOLLOWED):  4/17/2024 12:00 PM\n"
     ]
    },
    {
     "name": "stdout",
     "output_type": "stream",
     "text": [
      "Validated time: Wednesday, April 17, 2024 12:00 PM\n",
      "\n",
      "\n",
      "duration :  5:00:00\n",
      "total_hours :  5.0\n",
      "Rental Period: Hourly\n",
      "-------------------------------------------------------------------------------\n",
      "Rental Details:\n",
      "-------------------------------------------------\n",
      "Vehicle(s):\n",
      "Vehicle: Jeep Gladiator 6x6 2024 Color: Red Passengers: 7 Luggage: 8 Transmission: Auto Doors: 4 Rental Period: Hourly Rate: $208\n",
      "-------------------------------------------------\n",
      "Pickup Time:  Wednesday, April 17, 2024 07:00 AM\n",
      "Return Time:  Wednesday, April 17, 2024 12:00 PM\n",
      "Ontime Return Cost:  1040.0\n",
      "\n",
      "\n",
      "NOTE: All vehicles must be rented at the same time and returned at the same time. Early returns will be charged the full rental rate.\n",
      "\n",
      "\n",
      "LATE FEE INFORMATION : \n",
      "For Hourly Rentals: There will be a $20 late fee added to the hourly rate for every hour late.\n",
      "\n",
      "\n"
     ]
    },
    {
     "name": "stdout",
     "output_type": "stream",
     "text": [
      "Would you like to confirm this reservation? (Y/N):  y\n"
     ]
    },
    {
     "name": "stdout",
     "output_type": "stream",
     "text": [
      "Reservation confirmed. Thank you!\n",
      "\n",
      "\n",
      "---------------------------------- Welcome To Luxury Car Rentals --------------------------------\n",
      "1. Display Available Cars Inventory\n",
      "2. Rent Vehicle(s)\n",
      "3. Return Vehicle(s)\n",
      "4. Exit Menu\n",
      "--------------------------------------------------------------------------------------------------\n",
      "\n",
      "\n"
     ]
    },
    {
     "name": "stdout",
     "output_type": "stream",
     "text": [
      "Please select an option from the menu above:  2\n"
     ]
    },
    {
     "name": "stdout",
     "output_type": "stream",
     "text": [
      "Rent Vehicle(s)\n",
      "-------------------------------\n"
     ]
    },
    {
     "name": "stdout",
     "output_type": "stream",
     "text": [
      "Do you have an account with us? (yes/no):  no\n",
      "Enter your age:  33\n",
      "Enter your first name:  Mike\n",
      "Enter your last name:  DDw\n",
      "Enter your driver's license number:  DL123\n",
      "Enter your email address:  \n",
      "Enter your phone number:  \n"
     ]
    },
    {
     "name": "stdout",
     "output_type": "stream",
     "text": [
      "\n",
      "\n",
      "Customer Information: \n",
      "-------------------------\n",
      "Customer Account Number:  DL123\n",
      "First Name:  Mike\n",
      "Last Name:  DDw\n",
      "Email:  \n",
      "Phone:  \n"
     ]
    },
    {
     "name": "stdout",
     "output_type": "stream",
     "text": [
      "Press Enter to continue... \n"
     ]
    },
    {
     "name": "stdout",
     "output_type": "stream",
     "text": [
      "\n",
      "\n"
     ]
    },
    {
     "name": "stdout",
     "output_type": "stream",
     "text": [
      "How many vehicles would you like to rent?  1\n"
     ]
    },
    {
     "name": "stdout",
     "output_type": "stream",
     "text": [
      "AVAILABILITY :  19  available cars\n",
      "\n",
      "\n",
      "Rental Period Choices:\n",
      "1. Hourly\n",
      "2. Daily\n",
      "3. Weekly\n",
      "\n",
      "\n",
      "Enter Option for rental period. Example, type: 3 for weekly rental. Note: (All vehicles must be rented at same time and returned at the same time.)\n"
     ]
    },
    {
     "name": "stdout",
     "output_type": "stream",
     "text": [
      " 2\n"
     ]
    },
    {
     "name": "stdout",
     "output_type": "stream",
     "text": [
      "\n",
      "\n",
      "------Available Vehicles------\n",
      "\n",
      "\n",
      "Vehicle ID :Vin1 | \u001b[4mFerrari 488 Pista Coupe\u001b[0m 2020 Color: Red Passengers: 2 Luggage: 4 Transmission: Auto Doors: 2 Rates: Hourly: $105 Daily: $2520 Weekly: $17640\n",
      "Vehicle ID :Vin2 | \u001b[4mLamborghini Aventador SVJ\u001b[0m 2022 Color: Black Passengers: 4 Luggage: 4 Transmission: Auto Doors: 4 Rates: Hourly: $125 Daily: $3000 Weekly: $21000\n",
      "Vehicle ID :Vin3 | \u001b[4mMcLaren 720S\u001b[0m 2022 Color: Blue Passengers: 2 Luggage: 2 Transmission: Auto Doors: 2 Rates: Hourly: $105 Daily: $2520 Weekly: $17640\n",
      "Vehicle ID :Vin4 | \u001b[4mPorsche 911 GT3\u001b[0m 2022 Color: White Passengers: 2 Luggage: 2 Transmission: Auto Doors: 2 Rates: Hourly: $85 Daily: $2040 Weekly: $14280\n",
      "Vehicle ID :Vin5 | \u001b[4mAudi R8\u001b[0m 2020 Color: Silver Passengers: 2 Luggage: 4 Transmission: Manual Doors: 2 Rates: Hourly: $125 Daily: $3000 Weekly: $21000\n",
      "Vehicle ID :Vin6 | \u001b[4mBMW M8\u001b[0m 2022 Color: Black Passengers: 2 Luggage: 2 Transmission: Manual Doors: 2 Rates: Hourly: $115 Daily: $2760 Weekly: $19320\n",
      "Vehicle ID :Vin7 | \u001b[4mMercedes-Benz AMG GT\u001b[0m 2024 Color: Red Passengers: 2 Luggage: 2 Transmission: Auto Doors: 2 Rates: Hourly: $146 Daily: $3504 Weekly: $24528\n",
      "Vehicle ID :Vin8 | \u001b[4mRoll Royce Phantom\u001b[0m 2022 Color: Blue Passengers: 4 Luggage: 5 Transmission: Auto Doors: 4 Rates: Hourly: $167 Daily: $4008 Weekly: $28056\n",
      "Vehicle ID :Vin9 | \u001b[4mLamborghini Aventador SV Roadster\u001b[0m 2018 Color: Yellow Passengers: 2 Luggage: 2 Transmission: Auto Doors: 2 Rates: Hourly: $95 Daily: $2280 Weekly: $15960\n",
      "Vehicle ID :Vin10 | \u001b[4mMercedes-Benz Brabus G Class 4x4 AMG\u001b[0m 2019 Color: Red Passengers: 5 Luggage: 9 Transmission: Auto Doors: 5 Rates: Hourly: $188 Daily: $4512 Weekly: $31584\n",
      "Vehicle ID :Vin11 | \u001b[4mNissan GT-R\u001b[0m 2018 Color: Blue Passengers: 2 Luggage: 4 Transmission: Manual Doors: 2 Rates: Hourly: $85 Daily: $2040 Weekly: $14280\n",
      "Vehicle ID :Vin12 | \u001b[4mRolls Royce Dawn Convertible\u001b[0m 2019 Color: Blue Passengers: 4 Luggage: 4 Transmission: Auto Doors: 2 Rates: Hourly: $146 Daily: $3504 Weekly: $24528\n",
      "Vehicle ID :Vin13 | \u001b[4mFerrari 488 GTS Convertible\u001b[0m 2019 Color: Blue Passengers: 2 Luggage: 2 Transmission: Auto Doors: 2 Rates: Hourly: $125 Daily: $3000 Weekly: $21000\n",
      "Vehicle ID :Vin14 | \u001b[4mMaserati Quatroporte S Granlusso\u001b[0m 2021 Color: White Passengers: 5 Luggage: 4 Transmission: Auto Doors: 4 Rates: Hourly: $146 Daily: $3504 Weekly: $24528\n",
      "Vehicle ID :Vin15 | \u001b[4mLamborghini Huracan EVO SPyder\u001b[0m 2021 Color: Green Passengers: 2 Luggage: 2 Transmission: Auto Doors: 2 Rates: Hourly: $157 Daily: $3768 Weekly: $26376\n",
      "Vehicle ID :Vin16 | \u001b[4mRolls Royce Cullinan\u001b[0m 2021 Color: White Passengers: 7 Luggage: 5 Transmission: Auto Doors: 4 Rates: Hourly: $157 Daily: $3768 Weekly: $26376\n",
      "Vehicle ID :Vin17 | \u001b[4mDodge Charger SRT Hellcat Widebody\u001b[0m 2022 Color: Blue Passengers: 5 Luggage: 5 Transmission: Auto Doors: 4 Rates: Hourly: $130 Daily: $3120 Weekly: $21840\n",
      "Vehicle ID :Vin18 | \u001b[4mPorsche 911 Carrera 4S Cabriolet\u001b[0m 2023 Color: Red Passengers: 2 Luggage: 2 Transmission: Auto Doors: 2 Rates: Hourly: $80 Daily: $1920 Weekly: $13440\n",
      "Vehicle ID :Vin19 | \u001b[4mMercedes-Benz Maybach GLS 600 AMG\u001b[0m 2023 Color: Blue Passengers: 4 Luggage: 5 Transmission: Auto Doors: 4 Rates: Hourly: $146 Daily: $3504 Weekly: $24528\n",
      "\n",
      "\n",
      "Enter the Vehicle ID for vehicle  1  Example, type: Vin11\n"
     ]
    },
    {
     "name": "stdout",
     "output_type": "stream",
     "text": [
      " Vin19\n"
     ]
    },
    {
     "name": "stdout",
     "output_type": "stream",
     "text": [
      "\n",
      "\n",
      "Please enter the pickup time for your reservation.\n"
     ]
    },
    {
     "name": "stdout",
     "output_type": "stream",
     "text": [
      "Enter the date and time (MM/DD/YYYY HH:MM AM or PM. THE EXACT FORMAT MUST BE FOLLOWED):  4/17/2024 7:00 AM\n"
     ]
    },
    {
     "name": "stdout",
     "output_type": "stream",
     "text": [
      "Validated time: Wednesday, April 17, 2024 07:00 AM\n",
      "\n",
      "\n",
      "Please enter the drop off or return time for your reservation.\n"
     ]
    },
    {
     "name": "stdout",
     "output_type": "stream",
     "text": [
      "Enter the date and time (MM/DD/YYYY HH:MM AM or PM. THE EXACT FORMAT MUST BE FOLLOWED):  4/18/2024 7:00 PM\n"
     ]
    },
    {
     "name": "stdout",
     "output_type": "stream",
     "text": [
      "Validated time: Thursday, April 18, 2024 07:00 PM\n",
      "\n",
      "\n",
      "Rental Duration Details:\n",
      "-------------------------\n",
      "duration :  1 day, 12:00:00\n",
      "total_days :  1.5\n",
      "Rental Period: Daily\n",
      "-------------------------------------------------------------------------------\n",
      "Rental Details:\n",
      "-------------------------------------------------\n",
      "Vehicle(s):\n",
      "Vehicle: Mercedes-Benz Maybach GLS 600 AMG 2023 Color: Blue Passengers: 4 Luggage: 5 Transmission: Auto Doors: 4 Rental Period: Daily Rate: $3504\n",
      "-------------------------------------------------\n",
      "Pickup Time:  Wednesday, April 17, 2024 07:00 AM\n",
      "Return Time:  Thursday, April 18, 2024 07:00 PM\n",
      "Ontime Return Cost:  5256.0\n",
      "\n",
      "\n",
      "NOTE: All vehicles must be rented at the same time and returned at the same time. Early returns will be charged the full rental rate.\n",
      "\n",
      "\n",
      "LATE FEE INFORMATION : \n",
      "For Daily Rentals: There will be a $480 late fee added to the daily rate for every day late or part thereof, which is equivalent to a $20 late fee for every hour late.\n",
      "\n",
      "\n"
     ]
    },
    {
     "name": "stdout",
     "output_type": "stream",
     "text": [
      "Would you like to confirm this reservation? (Y/N):  Y\n"
     ]
    },
    {
     "name": "stdout",
     "output_type": "stream",
     "text": [
      "Reservation confirmed. Thank you!\n",
      "\n",
      "\n",
      "---------------------------------- Welcome To Luxury Car Rentals --------------------------------\n",
      "1. Display Available Cars Inventory\n",
      "2. Rent Vehicle(s)\n",
      "3. Return Vehicle(s)\n",
      "4. Exit Menu\n",
      "--------------------------------------------------------------------------------------------------\n",
      "\n",
      "\n"
     ]
    },
    {
     "name": "stdout",
     "output_type": "stream",
     "text": [
      "Please select an option from the menu above:  2\n"
     ]
    },
    {
     "name": "stdout",
     "output_type": "stream",
     "text": [
      "Rent Vehicle(s)\n",
      "-------------------------------\n"
     ]
    },
    {
     "name": "stdout",
     "output_type": "stream",
     "text": [
      "Do you have an account with us? (yes/no):  no\n",
      "Enter your age:  23\n",
      "Enter your first name:  Er\n",
      "Enter your last name:  Le\n",
      "Enter your driver's license number:  DL1234\n",
      "Enter your email address:  \n",
      "Enter your phone number:  \n"
     ]
    },
    {
     "name": "stdout",
     "output_type": "stream",
     "text": [
      "\n",
      "\n",
      "Customer Information: \n",
      "-------------------------\n",
      "Customer Account Number:  DL1234\n",
      "First Name:  Er\n",
      "Last Name:  Le\n",
      "Email:  \n",
      "Phone:  \n"
     ]
    },
    {
     "name": "stdout",
     "output_type": "stream",
     "text": [
      "Press Enter to continue... \n"
     ]
    },
    {
     "name": "stdout",
     "output_type": "stream",
     "text": [
      "\n",
      "\n"
     ]
    },
    {
     "name": "stdout",
     "output_type": "stream",
     "text": [
      "How many vehicles would you like to rent?  1\n"
     ]
    },
    {
     "name": "stdout",
     "output_type": "stream",
     "text": [
      "AVAILABILITY :  18  available cars\n",
      "\n",
      "\n",
      "Rental Period Choices:\n",
      "1. Hourly\n",
      "2. Daily\n",
      "3. Weekly\n",
      "\n",
      "\n",
      "Enter Option for rental period. Example, type: 3 for weekly rental. Note: (All vehicles must be rented at same time and returned at the same time.)\n"
     ]
    },
    {
     "name": "stdout",
     "output_type": "stream",
     "text": [
      " 3\n"
     ]
    },
    {
     "name": "stdout",
     "output_type": "stream",
     "text": [
      "\n",
      "\n",
      "------Available Vehicles------\n",
      "\n",
      "\n",
      "Vehicle ID :Vin1 | \u001b[4mFerrari 488 Pista Coupe\u001b[0m 2020 Color: Red Passengers: 2 Luggage: 4 Transmission: Auto Doors: 2 Rates: Hourly: $105 Daily: $2520 Weekly: $17640\n",
      "Vehicle ID :Vin2 | \u001b[4mLamborghini Aventador SVJ\u001b[0m 2022 Color: Black Passengers: 4 Luggage: 4 Transmission: Auto Doors: 4 Rates: Hourly: $125 Daily: $3000 Weekly: $21000\n",
      "Vehicle ID :Vin3 | \u001b[4mMcLaren 720S\u001b[0m 2022 Color: Blue Passengers: 2 Luggage: 2 Transmission: Auto Doors: 2 Rates: Hourly: $105 Daily: $2520 Weekly: $17640\n",
      "Vehicle ID :Vin4 | \u001b[4mPorsche 911 GT3\u001b[0m 2022 Color: White Passengers: 2 Luggage: 2 Transmission: Auto Doors: 2 Rates: Hourly: $85 Daily: $2040 Weekly: $14280\n",
      "Vehicle ID :Vin5 | \u001b[4mAudi R8\u001b[0m 2020 Color: Silver Passengers: 2 Luggage: 4 Transmission: Manual Doors: 2 Rates: Hourly: $125 Daily: $3000 Weekly: $21000\n",
      "Vehicle ID :Vin6 | \u001b[4mBMW M8\u001b[0m 2022 Color: Black Passengers: 2 Luggage: 2 Transmission: Manual Doors: 2 Rates: Hourly: $115 Daily: $2760 Weekly: $19320\n",
      "Vehicle ID :Vin7 | \u001b[4mMercedes-Benz AMG GT\u001b[0m 2024 Color: Red Passengers: 2 Luggage: 2 Transmission: Auto Doors: 2 Rates: Hourly: $146 Daily: $3504 Weekly: $24528\n",
      "Vehicle ID :Vin8 | \u001b[4mRoll Royce Phantom\u001b[0m 2022 Color: Blue Passengers: 4 Luggage: 5 Transmission: Auto Doors: 4 Rates: Hourly: $167 Daily: $4008 Weekly: $28056\n",
      "Vehicle ID :Vin9 | \u001b[4mLamborghini Aventador SV Roadster\u001b[0m 2018 Color: Yellow Passengers: 2 Luggage: 2 Transmission: Auto Doors: 2 Rates: Hourly: $95 Daily: $2280 Weekly: $15960\n",
      "Vehicle ID :Vin10 | \u001b[4mMercedes-Benz Brabus G Class 4x4 AMG\u001b[0m 2019 Color: Red Passengers: 5 Luggage: 9 Transmission: Auto Doors: 5 Rates: Hourly: $188 Daily: $4512 Weekly: $31584\n",
      "Vehicle ID :Vin11 | \u001b[4mNissan GT-R\u001b[0m 2018 Color: Blue Passengers: 2 Luggage: 4 Transmission: Manual Doors: 2 Rates: Hourly: $85 Daily: $2040 Weekly: $14280\n",
      "Vehicle ID :Vin12 | \u001b[4mRolls Royce Dawn Convertible\u001b[0m 2019 Color: Blue Passengers: 4 Luggage: 4 Transmission: Auto Doors: 2 Rates: Hourly: $146 Daily: $3504 Weekly: $24528\n",
      "Vehicle ID :Vin13 | \u001b[4mFerrari 488 GTS Convertible\u001b[0m 2019 Color: Blue Passengers: 2 Luggage: 2 Transmission: Auto Doors: 2 Rates: Hourly: $125 Daily: $3000 Weekly: $21000\n",
      "Vehicle ID :Vin14 | \u001b[4mMaserati Quatroporte S Granlusso\u001b[0m 2021 Color: White Passengers: 5 Luggage: 4 Transmission: Auto Doors: 4 Rates: Hourly: $146 Daily: $3504 Weekly: $24528\n",
      "Vehicle ID :Vin15 | \u001b[4mLamborghini Huracan EVO SPyder\u001b[0m 2021 Color: Green Passengers: 2 Luggage: 2 Transmission: Auto Doors: 2 Rates: Hourly: $157 Daily: $3768 Weekly: $26376\n",
      "Vehicle ID :Vin16 | \u001b[4mRolls Royce Cullinan\u001b[0m 2021 Color: White Passengers: 7 Luggage: 5 Transmission: Auto Doors: 4 Rates: Hourly: $157 Daily: $3768 Weekly: $26376\n",
      "Vehicle ID :Vin17 | \u001b[4mDodge Charger SRT Hellcat Widebody\u001b[0m 2022 Color: Blue Passengers: 5 Luggage: 5 Transmission: Auto Doors: 4 Rates: Hourly: $130 Daily: $3120 Weekly: $21840\n",
      "Vehicle ID :Vin18 | \u001b[4mPorsche 911 Carrera 4S Cabriolet\u001b[0m 2023 Color: Red Passengers: 2 Luggage: 2 Transmission: Auto Doors: 2 Rates: Hourly: $80 Daily: $1920 Weekly: $13440\n",
      "\n",
      "\n",
      "Enter the Vehicle ID for vehicle  1  Example, type: Vin11\n"
     ]
    },
    {
     "name": "stdout",
     "output_type": "stream",
     "text": [
      " Vin18\n"
     ]
    },
    {
     "name": "stdout",
     "output_type": "stream",
     "text": [
      "\n",
      "\n",
      "Please enter the pickup time for your reservation.\n"
     ]
    },
    {
     "name": "stdout",
     "output_type": "stream",
     "text": [
      "Enter the date and time (MM/DD/YYYY HH:MM AM or PM. THE EXACT FORMAT MUST BE FOLLOWED):  4/17/2024 7:00 AM\n"
     ]
    },
    {
     "name": "stdout",
     "output_type": "stream",
     "text": [
      "Validated time: Wednesday, April 17, 2024 07:00 AM\n",
      "\n",
      "\n",
      "Please enter the drop off or return time for your reservation.\n"
     ]
    },
    {
     "name": "stdout",
     "output_type": "stream",
     "text": [
      "Enter the date and time (MM/DD/YYYY HH:MM AM or PM. THE EXACT FORMAT MUST BE FOLLOWED):  4/19/2024 7:00 PM\n"
     ]
    },
    {
     "name": "stdout",
     "output_type": "stream",
     "text": [
      "Validated time: Friday, April 19, 2024 07:00 PM\n",
      "\n",
      "\n",
      "Rental Duration Details:\n",
      "-------------------------\n",
      "duration :  2 days, 12:00:00\n",
      "total_weeks :  0.35714285714285715\n",
      "Rental Duration:  0.35714285714285715\n",
      "\n",
      "\n",
      "Invalid rental period. For weekly rentals, please rent for a minimum of 1 week with a maximum of 4 weeks.\n",
      "\n",
      "\n"
     ]
    },
    {
     "name": "stdout",
     "output_type": "stream",
     "text": [
      "Press Enter to continue with daily rental OR Type: cancel and Press Enter to go back to main menu and try again cancel\n"
     ]
    },
    {
     "name": "stdout",
     "output_type": "stream",
     "text": [
      "\n",
      "\n",
      "---------------------------------- Welcome To Luxury Car Rentals --------------------------------\n",
      "1. Display Available Cars Inventory\n",
      "2. Rent Vehicle(s)\n",
      "3. Return Vehicle(s)\n",
      "4. Exit Menu\n",
      "--------------------------------------------------------------------------------------------------\n",
      "\n",
      "\n"
     ]
    },
    {
     "name": "stdout",
     "output_type": "stream",
     "text": [
      "Please select an option from the menu above:  1\n"
     ]
    },
    {
     "name": "stdout",
     "output_type": "stream",
     "text": [
      "\n",
      "\n",
      "Available Cars Inventory\n",
      "-------------------------------\n",
      "Vehicle ID :Vin1 | \u001b[4mFerrari 488 Pista Coupe\u001b[0m 2020 Color: Red Passengers: 2 Luggage: 4 Transmission: Auto Doors: 2 Rates: Hourly: $105 Daily: $2520 Weekly: $17640\n",
      "Vehicle ID :Vin2 | \u001b[4mLamborghini Aventador SVJ\u001b[0m 2022 Color: Black Passengers: 4 Luggage: 4 Transmission: Auto Doors: 4 Rates: Hourly: $125 Daily: $3000 Weekly: $21000\n",
      "Vehicle ID :Vin3 | \u001b[4mMcLaren 720S\u001b[0m 2022 Color: Blue Passengers: 2 Luggage: 2 Transmission: Auto Doors: 2 Rates: Hourly: $105 Daily: $2520 Weekly: $17640\n",
      "Vehicle ID :Vin4 | \u001b[4mPorsche 911 GT3\u001b[0m 2022 Color: White Passengers: 2 Luggage: 2 Transmission: Auto Doors: 2 Rates: Hourly: $85 Daily: $2040 Weekly: $14280\n",
      "Vehicle ID :Vin5 | \u001b[4mAudi R8\u001b[0m 2020 Color: Silver Passengers: 2 Luggage: 4 Transmission: Manual Doors: 2 Rates: Hourly: $125 Daily: $3000 Weekly: $21000\n",
      "Vehicle ID :Vin6 | \u001b[4mBMW M8\u001b[0m 2022 Color: Black Passengers: 2 Luggage: 2 Transmission: Manual Doors: 2 Rates: Hourly: $115 Daily: $2760 Weekly: $19320\n",
      "Vehicle ID :Vin7 | \u001b[4mMercedes-Benz AMG GT\u001b[0m 2024 Color: Red Passengers: 2 Luggage: 2 Transmission: Auto Doors: 2 Rates: Hourly: $146 Daily: $3504 Weekly: $24528\n",
      "Vehicle ID :Vin8 | \u001b[4mRoll Royce Phantom\u001b[0m 2022 Color: Blue Passengers: 4 Luggage: 5 Transmission: Auto Doors: 4 Rates: Hourly: $167 Daily: $4008 Weekly: $28056\n",
      "Vehicle ID :Vin9 | \u001b[4mLamborghini Aventador SV Roadster\u001b[0m 2018 Color: Yellow Passengers: 2 Luggage: 2 Transmission: Auto Doors: 2 Rates: Hourly: $95 Daily: $2280 Weekly: $15960\n",
      "Vehicle ID :Vin10 | \u001b[4mMercedes-Benz Brabus G Class 4x4 AMG\u001b[0m 2019 Color: Red Passengers: 5 Luggage: 9 Transmission: Auto Doors: 5 Rates: Hourly: $188 Daily: $4512 Weekly: $31584\n",
      "Vehicle ID :Vin11 | \u001b[4mNissan GT-R\u001b[0m 2018 Color: Blue Passengers: 2 Luggage: 4 Transmission: Manual Doors: 2 Rates: Hourly: $85 Daily: $2040 Weekly: $14280\n",
      "Vehicle ID :Vin12 | \u001b[4mRolls Royce Dawn Convertible\u001b[0m 2019 Color: Blue Passengers: 4 Luggage: 4 Transmission: Auto Doors: 2 Rates: Hourly: $146 Daily: $3504 Weekly: $24528\n",
      "Vehicle ID :Vin13 | \u001b[4mFerrari 488 GTS Convertible\u001b[0m 2019 Color: Blue Passengers: 2 Luggage: 2 Transmission: Auto Doors: 2 Rates: Hourly: $125 Daily: $3000 Weekly: $21000\n",
      "Vehicle ID :Vin14 | \u001b[4mMaserati Quatroporte S Granlusso\u001b[0m 2021 Color: White Passengers: 5 Luggage: 4 Transmission: Auto Doors: 4 Rates: Hourly: $146 Daily: $3504 Weekly: $24528\n",
      "Vehicle ID :Vin15 | \u001b[4mLamborghini Huracan EVO SPyder\u001b[0m 2021 Color: Green Passengers: 2 Luggage: 2 Transmission: Auto Doors: 2 Rates: Hourly: $157 Daily: $3768 Weekly: $26376\n",
      "Vehicle ID :Vin16 | \u001b[4mRolls Royce Cullinan\u001b[0m 2021 Color: White Passengers: 7 Luggage: 5 Transmission: Auto Doors: 4 Rates: Hourly: $157 Daily: $3768 Weekly: $26376\n",
      "Vehicle ID :Vin17 | \u001b[4mDodge Charger SRT Hellcat Widebody\u001b[0m 2022 Color: Blue Passengers: 5 Luggage: 5 Transmission: Auto Doors: 4 Rates: Hourly: $130 Daily: $3120 Weekly: $21840\n",
      "Vehicle ID :Vin18 | \u001b[4mPorsche 911 Carrera 4S Cabriolet\u001b[0m 2023 Color: Red Passengers: 2 Luggage: 2 Transmission: Auto Doors: 2 Rates: Hourly: $80 Daily: $1920 Weekly: $13440\n"
     ]
    },
    {
     "name": "stdout",
     "output_type": "stream",
     "text": [
      "Press Enter to continue... \n"
     ]
    },
    {
     "name": "stdout",
     "output_type": "stream",
     "text": [
      "\n",
      "\n",
      "\n",
      "\n",
      "---------------------------------- Welcome To Luxury Car Rentals --------------------------------\n",
      "1. Display Available Cars Inventory\n",
      "2. Rent Vehicle(s)\n",
      "3. Return Vehicle(s)\n",
      "4. Exit Menu\n",
      "--------------------------------------------------------------------------------------------------\n",
      "\n",
      "\n"
     ]
    },
    {
     "name": "stdout",
     "output_type": "stream",
     "text": [
      "Please select an option from the menu above:  2\n"
     ]
    },
    {
     "name": "stdout",
     "output_type": "stream",
     "text": [
      "Rent Vehicle(s)\n",
      "-------------------------------\n"
     ]
    },
    {
     "name": "stdout",
     "output_type": "stream",
     "text": [
      "Do you have an account with us? (yes/no):  yes\n",
      "Enter your Driver's License Number:  DL12\n"
     ]
    },
    {
     "name": "stdout",
     "output_type": "stream",
     "text": [
      "Found it!\n",
      "Welcome back, Mike Doop!\n",
      "\n",
      "\n",
      "Active Rental:  {'DL12': [['Vin20', 'Jeep', 'Gladiator 6x6', 2024, 'Red', 7, 8, 'Auto', 4, 'Hourly', 208]]}\n",
      "\n",
      "\n",
      "It looks like you have an active rental. Please return the vehicle(s) before renting another one.\n"
     ]
    },
    {
     "name": "stdout",
     "output_type": "stream",
     "text": [
      "Press Enter to continue... \n"
     ]
    },
    {
     "name": "stdout",
     "output_type": "stream",
     "text": [
      "\n",
      "\n",
      "---------------------------------- Welcome To Luxury Car Rentals --------------------------------\n",
      "1. Display Available Cars Inventory\n",
      "2. Rent Vehicle(s)\n",
      "3. Return Vehicle(s)\n",
      "4. Exit Menu\n",
      "--------------------------------------------------------------------------------------------------\n",
      "\n",
      "\n"
     ]
    },
    {
     "name": "stdout",
     "output_type": "stream",
     "text": [
      "Please select an option from the menu above:  2\n"
     ]
    },
    {
     "name": "stdout",
     "output_type": "stream",
     "text": [
      "Rent Vehicle(s)\n",
      "-------------------------------\n"
     ]
    },
    {
     "name": "stdout",
     "output_type": "stream",
     "text": [
      "Do you have an account with us? (yes/no):  yes\n",
      "Enter your Driver's License Number:  DL123\n"
     ]
    },
    {
     "name": "stdout",
     "output_type": "stream",
     "text": [
      "Found it!\n",
      "Welcome back, Mike DDw!\n",
      "\n",
      "\n",
      "Active Rental:  {'DL123': [['Vin19', 'Mercedes-Benz', 'Maybach GLS 600 AMG', 2023, 'Blue', 4, 5, 'Auto', 4, 'Daily', 3504]]}\n",
      "\n",
      "\n",
      "It looks like you have an active rental. Please return the vehicle(s) before renting another one.\n"
     ]
    },
    {
     "name": "stdout",
     "output_type": "stream",
     "text": [
      "Press Enter to continue... \n"
     ]
    },
    {
     "name": "stdout",
     "output_type": "stream",
     "text": [
      "\n",
      "\n",
      "---------------------------------- Welcome To Luxury Car Rentals --------------------------------\n",
      "1. Display Available Cars Inventory\n",
      "2. Rent Vehicle(s)\n",
      "3. Return Vehicle(s)\n",
      "4. Exit Menu\n",
      "--------------------------------------------------------------------------------------------------\n",
      "\n",
      "\n"
     ]
    },
    {
     "name": "stdout",
     "output_type": "stream",
     "text": [
      "Please select an option from the menu above:  2\n"
     ]
    },
    {
     "name": "stdout",
     "output_type": "stream",
     "text": [
      "Rent Vehicle(s)\n",
      "-------------------------------\n"
     ]
    },
    {
     "name": "stdout",
     "output_type": "stream",
     "text": [
      "Do you have an account with us? (yes/no):  yes\n",
      "Enter your Driver's License Number:  DL1234\n"
     ]
    },
    {
     "name": "stdout",
     "output_type": "stream",
     "text": [
      "Found it!\n",
      "Welcome back, Er Le!\n",
      "\n",
      "\n",
      "Active Rental:  False\n",
      "\n",
      "\n"
     ]
    },
    {
     "name": "stdout",
     "output_type": "stream",
     "text": [
      "Press Enter to continue... \n"
     ]
    },
    {
     "name": "stdout",
     "output_type": "stream",
     "text": [
      "\n",
      "\n"
     ]
    },
    {
     "name": "stdout",
     "output_type": "stream",
     "text": [
      "How many vehicles would you like to rent?  1\n"
     ]
    },
    {
     "name": "stdout",
     "output_type": "stream",
     "text": [
      "AVAILABILITY :  18  available cars\n",
      "\n",
      "\n",
      "Rental Period Choices:\n",
      "1. Hourly\n",
      "2. Daily\n",
      "3. Weekly\n",
      "\n",
      "\n",
      "Enter Option for rental period. Example, type: 3 for weekly rental. Note: (All vehicles must be rented at same time and returned at the same time.)\n"
     ]
    },
    {
     "name": "stdout",
     "output_type": "stream",
     "text": [
      " 3\n"
     ]
    },
    {
     "name": "stdout",
     "output_type": "stream",
     "text": [
      "\n",
      "\n",
      "------Available Vehicles------\n",
      "\n",
      "\n",
      "Vehicle ID :Vin1 | \u001b[4mFerrari 488 Pista Coupe\u001b[0m 2020 Color: Red Passengers: 2 Luggage: 4 Transmission: Auto Doors: 2 Rates: Hourly: $105 Daily: $2520 Weekly: $17640\n",
      "Vehicle ID :Vin2 | \u001b[4mLamborghini Aventador SVJ\u001b[0m 2022 Color: Black Passengers: 4 Luggage: 4 Transmission: Auto Doors: 4 Rates: Hourly: $125 Daily: $3000 Weekly: $21000\n",
      "Vehicle ID :Vin3 | \u001b[4mMcLaren 720S\u001b[0m 2022 Color: Blue Passengers: 2 Luggage: 2 Transmission: Auto Doors: 2 Rates: Hourly: $105 Daily: $2520 Weekly: $17640\n",
      "Vehicle ID :Vin4 | \u001b[4mPorsche 911 GT3\u001b[0m 2022 Color: White Passengers: 2 Luggage: 2 Transmission: Auto Doors: 2 Rates: Hourly: $85 Daily: $2040 Weekly: $14280\n",
      "Vehicle ID :Vin5 | \u001b[4mAudi R8\u001b[0m 2020 Color: Silver Passengers: 2 Luggage: 4 Transmission: Manual Doors: 2 Rates: Hourly: $125 Daily: $3000 Weekly: $21000\n",
      "Vehicle ID :Vin6 | \u001b[4mBMW M8\u001b[0m 2022 Color: Black Passengers: 2 Luggage: 2 Transmission: Manual Doors: 2 Rates: Hourly: $115 Daily: $2760 Weekly: $19320\n",
      "Vehicle ID :Vin7 | \u001b[4mMercedes-Benz AMG GT\u001b[0m 2024 Color: Red Passengers: 2 Luggage: 2 Transmission: Auto Doors: 2 Rates: Hourly: $146 Daily: $3504 Weekly: $24528\n",
      "Vehicle ID :Vin8 | \u001b[4mRoll Royce Phantom\u001b[0m 2022 Color: Blue Passengers: 4 Luggage: 5 Transmission: Auto Doors: 4 Rates: Hourly: $167 Daily: $4008 Weekly: $28056\n",
      "Vehicle ID :Vin9 | \u001b[4mLamborghini Aventador SV Roadster\u001b[0m 2018 Color: Yellow Passengers: 2 Luggage: 2 Transmission: Auto Doors: 2 Rates: Hourly: $95 Daily: $2280 Weekly: $15960\n",
      "Vehicle ID :Vin10 | \u001b[4mMercedes-Benz Brabus G Class 4x4 AMG\u001b[0m 2019 Color: Red Passengers: 5 Luggage: 9 Transmission: Auto Doors: 5 Rates: Hourly: $188 Daily: $4512 Weekly: $31584\n",
      "Vehicle ID :Vin11 | \u001b[4mNissan GT-R\u001b[0m 2018 Color: Blue Passengers: 2 Luggage: 4 Transmission: Manual Doors: 2 Rates: Hourly: $85 Daily: $2040 Weekly: $14280\n",
      "Vehicle ID :Vin12 | \u001b[4mRolls Royce Dawn Convertible\u001b[0m 2019 Color: Blue Passengers: 4 Luggage: 4 Transmission: Auto Doors: 2 Rates: Hourly: $146 Daily: $3504 Weekly: $24528\n",
      "Vehicle ID :Vin13 | \u001b[4mFerrari 488 GTS Convertible\u001b[0m 2019 Color: Blue Passengers: 2 Luggage: 2 Transmission: Auto Doors: 2 Rates: Hourly: $125 Daily: $3000 Weekly: $21000\n",
      "Vehicle ID :Vin14 | \u001b[4mMaserati Quatroporte S Granlusso\u001b[0m 2021 Color: White Passengers: 5 Luggage: 4 Transmission: Auto Doors: 4 Rates: Hourly: $146 Daily: $3504 Weekly: $24528\n",
      "Vehicle ID :Vin15 | \u001b[4mLamborghini Huracan EVO SPyder\u001b[0m 2021 Color: Green Passengers: 2 Luggage: 2 Transmission: Auto Doors: 2 Rates: Hourly: $157 Daily: $3768 Weekly: $26376\n",
      "Vehicle ID :Vin16 | \u001b[4mRolls Royce Cullinan\u001b[0m 2021 Color: White Passengers: 7 Luggage: 5 Transmission: Auto Doors: 4 Rates: Hourly: $157 Daily: $3768 Weekly: $26376\n",
      "Vehicle ID :Vin17 | \u001b[4mDodge Charger SRT Hellcat Widebody\u001b[0m 2022 Color: Blue Passengers: 5 Luggage: 5 Transmission: Auto Doors: 4 Rates: Hourly: $130 Daily: $3120 Weekly: $21840\n",
      "Vehicle ID :Vin18 | \u001b[4mPorsche 911 Carrera 4S Cabriolet\u001b[0m 2023 Color: Red Passengers: 2 Luggage: 2 Transmission: Auto Doors: 2 Rates: Hourly: $80 Daily: $1920 Weekly: $13440\n",
      "\n",
      "\n",
      "Enter the Vehicle ID for vehicle  1  Example, type: Vin11\n"
     ]
    },
    {
     "name": "stdout",
     "output_type": "stream",
     "text": [
      " Vin18\n"
     ]
    },
    {
     "name": "stdout",
     "output_type": "stream",
     "text": [
      "\n",
      "\n",
      "Please enter the pickup time for your reservation.\n"
     ]
    },
    {
     "name": "stdout",
     "output_type": "stream",
     "text": [
      "Enter the date and time (MM/DD/YYYY HH:MM AM or PM. THE EXACT FORMAT MUST BE FOLLOWED):  4/17/2024 7:00 AM\n"
     ]
    },
    {
     "name": "stdout",
     "output_type": "stream",
     "text": [
      "Validated time: Wednesday, April 17, 2024 07:00 AM\n",
      "\n",
      "\n",
      "Please enter the drop off or return time for your reservation.\n"
     ]
    },
    {
     "name": "stdout",
     "output_type": "stream",
     "text": [
      "Enter the date and time (MM/DD/YYYY HH:MM AM or PM. THE EXACT FORMAT MUST BE FOLLOWED):  4/25/2024 7:00 PM\n"
     ]
    },
    {
     "name": "stdout",
     "output_type": "stream",
     "text": [
      "Validated time: Thursday, April 25, 2024 07:00 PM\n",
      "\n",
      "\n",
      "Rental Duration Details:\n",
      "-------------------------\n",
      "duration :  8 days, 12:00:00\n",
      "total_weeks :  1.2142857142857142\n",
      "Rental Period: Weekly\n",
      "-------------------------------------------------------------------------------\n",
      "Rental Details:\n",
      "-------------------------------------------------\n",
      "Vehicle(s):\n",
      "Vehicle: Porsche 911 Carrera 4S Cabriolet 2023 Color: Red Passengers: 2 Luggage: 2 Transmission: Auto Doors: 2 Rental Period: Weekly Rate: $13440\n",
      "-------------------------------------------------\n",
      "Pickup Time:  Wednesday, April 17, 2024 07:00 AM\n",
      "Return Time:  Thursday, April 25, 2024 07:00 PM\n",
      "Ontime Return Cost:  16316.16\n",
      "\n",
      "\n",
      "NOTE: All vehicles must be rented at the same time and returned at the same time. Early returns will be charged the full rental rate.\n",
      "\n",
      "\n",
      "LATE FEE INFORMATION : \n",
      "Weekly Rental: There will be a $3360 late fee for every week late or part thereof, which is equivalent to a $20 late fee for every hour late.\n",
      "\n",
      "\n"
     ]
    },
    {
     "name": "stdout",
     "output_type": "stream",
     "text": [
      "Would you like to confirm this reservation? (Y/N):  y\n"
     ]
    },
    {
     "name": "stdout",
     "output_type": "stream",
     "text": [
      "Reservation confirmed. Thank you!\n",
      "\n",
      "\n",
      "---------------------------------- Welcome To Luxury Car Rentals --------------------------------\n",
      "1. Display Available Cars Inventory\n",
      "2. Rent Vehicle(s)\n",
      "3. Return Vehicle(s)\n",
      "4. Exit Menu\n",
      "--------------------------------------------------------------------------------------------------\n",
      "\n",
      "\n"
     ]
    },
    {
     "name": "stdout",
     "output_type": "stream",
     "text": [
      "Please select an option from the menu above:  1\n"
     ]
    },
    {
     "name": "stdout",
     "output_type": "stream",
     "text": [
      "\n",
      "\n",
      "Available Cars Inventory\n",
      "-------------------------------\n",
      "Vehicle ID :Vin1 | \u001b[4mFerrari 488 Pista Coupe\u001b[0m 2020 Color: Red Passengers: 2 Luggage: 4 Transmission: Auto Doors: 2 Rates: Hourly: $105 Daily: $2520 Weekly: $17640\n",
      "Vehicle ID :Vin2 | \u001b[4mLamborghini Aventador SVJ\u001b[0m 2022 Color: Black Passengers: 4 Luggage: 4 Transmission: Auto Doors: 4 Rates: Hourly: $125 Daily: $3000 Weekly: $21000\n",
      "Vehicle ID :Vin3 | \u001b[4mMcLaren 720S\u001b[0m 2022 Color: Blue Passengers: 2 Luggage: 2 Transmission: Auto Doors: 2 Rates: Hourly: $105 Daily: $2520 Weekly: $17640\n",
      "Vehicle ID :Vin4 | \u001b[4mPorsche 911 GT3\u001b[0m 2022 Color: White Passengers: 2 Luggage: 2 Transmission: Auto Doors: 2 Rates: Hourly: $85 Daily: $2040 Weekly: $14280\n",
      "Vehicle ID :Vin5 | \u001b[4mAudi R8\u001b[0m 2020 Color: Silver Passengers: 2 Luggage: 4 Transmission: Manual Doors: 2 Rates: Hourly: $125 Daily: $3000 Weekly: $21000\n",
      "Vehicle ID :Vin6 | \u001b[4mBMW M8\u001b[0m 2022 Color: Black Passengers: 2 Luggage: 2 Transmission: Manual Doors: 2 Rates: Hourly: $115 Daily: $2760 Weekly: $19320\n",
      "Vehicle ID :Vin7 | \u001b[4mMercedes-Benz AMG GT\u001b[0m 2024 Color: Red Passengers: 2 Luggage: 2 Transmission: Auto Doors: 2 Rates: Hourly: $146 Daily: $3504 Weekly: $24528\n",
      "Vehicle ID :Vin8 | \u001b[4mRoll Royce Phantom\u001b[0m 2022 Color: Blue Passengers: 4 Luggage: 5 Transmission: Auto Doors: 4 Rates: Hourly: $167 Daily: $4008 Weekly: $28056\n",
      "Vehicle ID :Vin9 | \u001b[4mLamborghini Aventador SV Roadster\u001b[0m 2018 Color: Yellow Passengers: 2 Luggage: 2 Transmission: Auto Doors: 2 Rates: Hourly: $95 Daily: $2280 Weekly: $15960\n",
      "Vehicle ID :Vin10 | \u001b[4mMercedes-Benz Brabus G Class 4x4 AMG\u001b[0m 2019 Color: Red Passengers: 5 Luggage: 9 Transmission: Auto Doors: 5 Rates: Hourly: $188 Daily: $4512 Weekly: $31584\n",
      "Vehicle ID :Vin11 | \u001b[4mNissan GT-R\u001b[0m 2018 Color: Blue Passengers: 2 Luggage: 4 Transmission: Manual Doors: 2 Rates: Hourly: $85 Daily: $2040 Weekly: $14280\n",
      "Vehicle ID :Vin12 | \u001b[4mRolls Royce Dawn Convertible\u001b[0m 2019 Color: Blue Passengers: 4 Luggage: 4 Transmission: Auto Doors: 2 Rates: Hourly: $146 Daily: $3504 Weekly: $24528\n",
      "Vehicle ID :Vin13 | \u001b[4mFerrari 488 GTS Convertible\u001b[0m 2019 Color: Blue Passengers: 2 Luggage: 2 Transmission: Auto Doors: 2 Rates: Hourly: $125 Daily: $3000 Weekly: $21000\n",
      "Vehicle ID :Vin14 | \u001b[4mMaserati Quatroporte S Granlusso\u001b[0m 2021 Color: White Passengers: 5 Luggage: 4 Transmission: Auto Doors: 4 Rates: Hourly: $146 Daily: $3504 Weekly: $24528\n",
      "Vehicle ID :Vin15 | \u001b[4mLamborghini Huracan EVO SPyder\u001b[0m 2021 Color: Green Passengers: 2 Luggage: 2 Transmission: Auto Doors: 2 Rates: Hourly: $157 Daily: $3768 Weekly: $26376\n",
      "Vehicle ID :Vin16 | \u001b[4mRolls Royce Cullinan\u001b[0m 2021 Color: White Passengers: 7 Luggage: 5 Transmission: Auto Doors: 4 Rates: Hourly: $157 Daily: $3768 Weekly: $26376\n",
      "Vehicle ID :Vin17 | \u001b[4mDodge Charger SRT Hellcat Widebody\u001b[0m 2022 Color: Blue Passengers: 5 Luggage: 5 Transmission: Auto Doors: 4 Rates: Hourly: $130 Daily: $3120 Weekly: $21840\n"
     ]
    },
    {
     "name": "stdout",
     "output_type": "stream",
     "text": [
      "Press Enter to continue... \n"
     ]
    },
    {
     "name": "stdout",
     "output_type": "stream",
     "text": [
      "\n",
      "\n",
      "\n",
      "\n",
      "---------------------------------- Welcome To Luxury Car Rentals --------------------------------\n",
      "1. Display Available Cars Inventory\n",
      "2. Rent Vehicle(s)\n",
      "3. Return Vehicle(s)\n",
      "4. Exit Menu\n",
      "--------------------------------------------------------------------------------------------------\n",
      "\n",
      "\n"
     ]
    },
    {
     "name": "stdout",
     "output_type": "stream",
     "text": [
      "Please select an option from the menu above:  2\n"
     ]
    },
    {
     "name": "stdout",
     "output_type": "stream",
     "text": [
      "Rent Vehicle(s)\n",
      "-------------------------------\n"
     ]
    },
    {
     "name": "stdout",
     "output_type": "stream",
     "text": [
      "Do you have an account with us? (yes/no):  no\n",
      "Enter your age:  32\n",
      "Enter your first name:  Mimi\n",
      "Enter your last name:  Rogers\n",
      "Enter your driver's license number:  DL12345\n",
      "Enter your email address:  \n",
      "Enter your phone number:  \n"
     ]
    },
    {
     "name": "stdout",
     "output_type": "stream",
     "text": [
      "\n",
      "\n",
      "Customer Information: \n",
      "-------------------------\n",
      "Customer Account Number:  DL12345\n",
      "First Name:  Mimi\n",
      "Last Name:  Rogers\n",
      "Email:  \n",
      "Phone:  \n"
     ]
    },
    {
     "name": "stdout",
     "output_type": "stream",
     "text": [
      "Press Enter to continue... \n"
     ]
    },
    {
     "name": "stdout",
     "output_type": "stream",
     "text": [
      "\n",
      "\n"
     ]
    },
    {
     "name": "stdout",
     "output_type": "stream",
     "text": [
      "How many vehicles would you like to rent?  20\n"
     ]
    },
    {
     "name": "stdout",
     "output_type": "stream",
     "text": [
      "AVAILABILITY :  17  available cars\n",
      "\n",
      "\n",
      "Sorry, we do not have enough vehicles to rent at the moment.\n"
     ]
    },
    {
     "name": "stdout",
     "output_type": "stream",
     "text": [
      "Press Enter to continue... \n"
     ]
    },
    {
     "name": "stdout",
     "output_type": "stream",
     "text": [
      "\n",
      "\n",
      "---------------------------------- Welcome To Luxury Car Rentals --------------------------------\n",
      "1. Display Available Cars Inventory\n",
      "2. Rent Vehicle(s)\n",
      "3. Return Vehicle(s)\n",
      "4. Exit Menu\n",
      "--------------------------------------------------------------------------------------------------\n",
      "\n",
      "\n"
     ]
    },
    {
     "name": "stdout",
     "output_type": "stream",
     "text": [
      "Please select an option from the menu above:  2\n"
     ]
    },
    {
     "name": "stdout",
     "output_type": "stream",
     "text": [
      "Rent Vehicle(s)\n",
      "-------------------------------\n"
     ]
    },
    {
     "name": "stdout",
     "output_type": "stream",
     "text": [
      "Do you have an account with us? (yes/no):  yes\n",
      "Enter your Driver's License Number:  DL12345\n"
     ]
    },
    {
     "name": "stdout",
     "output_type": "stream",
     "text": [
      "Found it!\n",
      "Welcome back, Mimi Rogers!\n",
      "\n",
      "\n",
      "Active Rental:  False\n",
      "\n",
      "\n"
     ]
    },
    {
     "name": "stdout",
     "output_type": "stream",
     "text": [
      "Press Enter to continue... \n"
     ]
    },
    {
     "name": "stdout",
     "output_type": "stream",
     "text": [
      "\n",
      "\n"
     ]
    },
    {
     "name": "stdout",
     "output_type": "stream",
     "text": [
      "How many vehicles would you like to rent?  10\n"
     ]
    },
    {
     "name": "stdout",
     "output_type": "stream",
     "text": [
      "AVAILABILITY :  17  available cars\n",
      "\n",
      "\n",
      "Rental Period Choices:\n",
      "1. Hourly\n",
      "2. Daily\n",
      "3. Weekly\n",
      "\n",
      "\n",
      "Enter Option for rental period. Example, type: 3 for weekly rental. Note: (All vehicles must be rented at same time and returned at the same time.)\n"
     ]
    },
    {
     "name": "stdout",
     "output_type": "stream",
     "text": [
      " 1\n"
     ]
    },
    {
     "name": "stdout",
     "output_type": "stream",
     "text": [
      "\n",
      "\n",
      "------Available Vehicles------\n",
      "\n",
      "\n",
      "Vehicle ID :Vin1 | \u001b[4mFerrari 488 Pista Coupe\u001b[0m 2020 Color: Red Passengers: 2 Luggage: 4 Transmission: Auto Doors: 2 Rates: Hourly: $105 Daily: $2520 Weekly: $17640\n",
      "Vehicle ID :Vin2 | \u001b[4mLamborghini Aventador SVJ\u001b[0m 2022 Color: Black Passengers: 4 Luggage: 4 Transmission: Auto Doors: 4 Rates: Hourly: $125 Daily: $3000 Weekly: $21000\n",
      "Vehicle ID :Vin3 | \u001b[4mMcLaren 720S\u001b[0m 2022 Color: Blue Passengers: 2 Luggage: 2 Transmission: Auto Doors: 2 Rates: Hourly: $105 Daily: $2520 Weekly: $17640\n",
      "Vehicle ID :Vin4 | \u001b[4mPorsche 911 GT3\u001b[0m 2022 Color: White Passengers: 2 Luggage: 2 Transmission: Auto Doors: 2 Rates: Hourly: $85 Daily: $2040 Weekly: $14280\n",
      "Vehicle ID :Vin5 | \u001b[4mAudi R8\u001b[0m 2020 Color: Silver Passengers: 2 Luggage: 4 Transmission: Manual Doors: 2 Rates: Hourly: $125 Daily: $3000 Weekly: $21000\n",
      "Vehicle ID :Vin6 | \u001b[4mBMW M8\u001b[0m 2022 Color: Black Passengers: 2 Luggage: 2 Transmission: Manual Doors: 2 Rates: Hourly: $115 Daily: $2760 Weekly: $19320\n",
      "Vehicle ID :Vin7 | \u001b[4mMercedes-Benz AMG GT\u001b[0m 2024 Color: Red Passengers: 2 Luggage: 2 Transmission: Auto Doors: 2 Rates: Hourly: $146 Daily: $3504 Weekly: $24528\n",
      "Vehicle ID :Vin8 | \u001b[4mRoll Royce Phantom\u001b[0m 2022 Color: Blue Passengers: 4 Luggage: 5 Transmission: Auto Doors: 4 Rates: Hourly: $167 Daily: $4008 Weekly: $28056\n",
      "Vehicle ID :Vin9 | \u001b[4mLamborghini Aventador SV Roadster\u001b[0m 2018 Color: Yellow Passengers: 2 Luggage: 2 Transmission: Auto Doors: 2 Rates: Hourly: $95 Daily: $2280 Weekly: $15960\n",
      "Vehicle ID :Vin10 | \u001b[4mMercedes-Benz Brabus G Class 4x4 AMG\u001b[0m 2019 Color: Red Passengers: 5 Luggage: 9 Transmission: Auto Doors: 5 Rates: Hourly: $188 Daily: $4512 Weekly: $31584\n",
      "Vehicle ID :Vin11 | \u001b[4mNissan GT-R\u001b[0m 2018 Color: Blue Passengers: 2 Luggage: 4 Transmission: Manual Doors: 2 Rates: Hourly: $85 Daily: $2040 Weekly: $14280\n",
      "Vehicle ID :Vin12 | \u001b[4mRolls Royce Dawn Convertible\u001b[0m 2019 Color: Blue Passengers: 4 Luggage: 4 Transmission: Auto Doors: 2 Rates: Hourly: $146 Daily: $3504 Weekly: $24528\n",
      "Vehicle ID :Vin13 | \u001b[4mFerrari 488 GTS Convertible\u001b[0m 2019 Color: Blue Passengers: 2 Luggage: 2 Transmission: Auto Doors: 2 Rates: Hourly: $125 Daily: $3000 Weekly: $21000\n",
      "Vehicle ID :Vin14 | \u001b[4mMaserati Quatroporte S Granlusso\u001b[0m 2021 Color: White Passengers: 5 Luggage: 4 Transmission: Auto Doors: 4 Rates: Hourly: $146 Daily: $3504 Weekly: $24528\n",
      "Vehicle ID :Vin15 | \u001b[4mLamborghini Huracan EVO SPyder\u001b[0m 2021 Color: Green Passengers: 2 Luggage: 2 Transmission: Auto Doors: 2 Rates: Hourly: $157 Daily: $3768 Weekly: $26376\n",
      "Vehicle ID :Vin16 | \u001b[4mRolls Royce Cullinan\u001b[0m 2021 Color: White Passengers: 7 Luggage: 5 Transmission: Auto Doors: 4 Rates: Hourly: $157 Daily: $3768 Weekly: $26376\n",
      "Vehicle ID :Vin17 | \u001b[4mDodge Charger SRT Hellcat Widebody\u001b[0m 2022 Color: Blue Passengers: 5 Luggage: 5 Transmission: Auto Doors: 4 Rates: Hourly: $130 Daily: $3120 Weekly: $21840\n",
      "\n",
      "\n",
      "Enter the Vehicle ID for vehicle  1  Example, type: Vin11\n"
     ]
    },
    {
     "name": "stdout",
     "output_type": "stream",
     "text": [
      " Vin1\n"
     ]
    },
    {
     "name": "stdout",
     "output_type": "stream",
     "text": [
      "Enter the Vehicle ID for vehicle  2  Example, type: Vin11\n"
     ]
    },
    {
     "name": "stdout",
     "output_type": "stream",
     "text": [
      " Vin2\n"
     ]
    },
    {
     "name": "stdout",
     "output_type": "stream",
     "text": [
      "Enter the Vehicle ID for vehicle  3  Example, type: Vin11\n"
     ]
    },
    {
     "name": "stdout",
     "output_type": "stream",
     "text": [
      " Vin3\n"
     ]
    },
    {
     "name": "stdout",
     "output_type": "stream",
     "text": [
      "Enter the Vehicle ID for vehicle  4  Example, type: Vin11\n"
     ]
    },
    {
     "name": "stdout",
     "output_type": "stream",
     "text": [
      " Vin4\n"
     ]
    },
    {
     "name": "stdout",
     "output_type": "stream",
     "text": [
      "Enter the Vehicle ID for vehicle  5  Example, type: Vin11\n"
     ]
    },
    {
     "name": "stdout",
     "output_type": "stream",
     "text": [
      " Vin5\n"
     ]
    },
    {
     "name": "stdout",
     "output_type": "stream",
     "text": [
      "Enter the Vehicle ID for vehicle  6  Example, type: Vin11\n"
     ]
    },
    {
     "name": "stdout",
     "output_type": "stream",
     "text": [
      " Vin6\n"
     ]
    },
    {
     "name": "stdout",
     "output_type": "stream",
     "text": [
      "Enter the Vehicle ID for vehicle  7  Example, type: Vin11\n"
     ]
    },
    {
     "name": "stdout",
     "output_type": "stream",
     "text": [
      " Vin7\n"
     ]
    },
    {
     "name": "stdout",
     "output_type": "stream",
     "text": [
      "Enter the Vehicle ID for vehicle  8  Example, type: Vin11\n"
     ]
    },
    {
     "name": "stdout",
     "output_type": "stream",
     "text": [
      " Vin8\n"
     ]
    },
    {
     "name": "stdout",
     "output_type": "stream",
     "text": [
      "Enter the Vehicle ID for vehicle  9  Example, type: Vin11\n"
     ]
    },
    {
     "name": "stdout",
     "output_type": "stream",
     "text": [
      " Vin9\n"
     ]
    },
    {
     "name": "stdout",
     "output_type": "stream",
     "text": [
      "Enter the Vehicle ID for vehicle  10  Example, type: Vin11\n"
     ]
    },
    {
     "name": "stdout",
     "output_type": "stream",
     "text": [
      " Vin10\n"
     ]
    },
    {
     "name": "stdout",
     "output_type": "stream",
     "text": [
      "\n",
      "\n",
      "Please enter the pickup time for your reservation.\n"
     ]
    },
    {
     "name": "stdout",
     "output_type": "stream",
     "text": [
      "Enter the date and time (MM/DD/YYYY HH:MM AM or PM. THE EXACT FORMAT MUST BE FOLLOWED):  4/17/2024 7:00 AM\n"
     ]
    },
    {
     "name": "stdout",
     "output_type": "stream",
     "text": [
      "Validated time: Wednesday, April 17, 2024 07:00 AM\n",
      "\n",
      "\n",
      "Please enter the drop off or return time for your reservation.\n"
     ]
    },
    {
     "name": "stdout",
     "output_type": "stream",
     "text": [
      "Enter the date and time (MM/DD/YYYY HH:MM AM or PM. THE EXACT FORMAT MUST BE FOLLOWED):  4/17/2024 11:59 PM\n"
     ]
    },
    {
     "name": "stdout",
     "output_type": "stream",
     "text": [
      "Validated time: Wednesday, April 17, 2024 11:59 PM\n",
      "\n",
      "\n",
      "Rental Duration Details:\n",
      "-------------------------\n",
      "duration :  16:59:00\n",
      "total_hours :  16.983333333333334\n",
      "Rental Period: Hourly\n",
      "-------------------------------------------------------------------------------\n",
      "Rental Details:\n",
      "-------------------------------------------------\n",
      "Vehicle(s):\n",
      "Vehicle: Ferrari 488 Pista Coupe 2020 Color: Red Passengers: 2 Luggage: 4 Transmission: Auto Doors: 2 Rental Period: Hourly Rate: $105\n",
      "Vehicle: Lamborghini Aventador SVJ 2022 Color: Black Passengers: 4 Luggage: 4 Transmission: Auto Doors: 4 Rental Period: Hourly Rate: $125\n",
      "Vehicle: McLaren 720S 2022 Color: Blue Passengers: 2 Luggage: 2 Transmission: Auto Doors: 2 Rental Period: Hourly Rate: $105\n",
      "Vehicle: Porsche 911 GT3 2022 Color: White Passengers: 2 Luggage: 2 Transmission: Auto Doors: 2 Rental Period: Hourly Rate: $85\n",
      "Vehicle: Audi R8 2020 Color: Silver Passengers: 2 Luggage: 4 Transmission: Manual Doors: 2 Rental Period: Hourly Rate: $125\n",
      "Vehicle: BMW M8 2022 Color: Black Passengers: 2 Luggage: 2 Transmission: Manual Doors: 2 Rental Period: Hourly Rate: $115\n",
      "Vehicle: Mercedes-Benz AMG GT 2024 Color: Red Passengers: 2 Luggage: 2 Transmission: Auto Doors: 2 Rental Period: Hourly Rate: $146\n",
      "Vehicle: Roll Royce Phantom 2022 Color: Blue Passengers: 4 Luggage: 5 Transmission: Auto Doors: 4 Rental Period: Hourly Rate: $167\n",
      "Vehicle: Lamborghini Aventador SV Roadster 2018 Color: Yellow Passengers: 2 Luggage: 2 Transmission: Auto Doors: 2 Rental Period: Hourly Rate: $95\n",
      "Vehicle: Mercedes-Benz Brabus G Class 4x4 AMG 2019 Color: Red Passengers: 5 Luggage: 9 Transmission: Auto Doors: 5 Rental Period: Hourly Rate: $188\n",
      "-------------------------------------------------\n",
      "Pickup Time:  Wednesday, April 17, 2024 07:00 AM\n",
      "Return Time:  Wednesday, April 17, 2024 11:59 PM\n",
      "Ontime Return Cost:  21330.648\n",
      "\n",
      "\n",
      "NOTE: All vehicles must be rented at the same time and returned at the same time. Early returns will be charged the full rental rate.\n",
      "\n",
      "\n",
      "LATE FEE INFORMATION : \n",
      "For Hourly Rentals: There will be a $20 late fee added to the hourly rate for every hour late.\n",
      "\n",
      "\n"
     ]
    },
    {
     "name": "stdout",
     "output_type": "stream",
     "text": [
      "Would you like to confirm this reservation? (Y/N):  Y\n"
     ]
    },
    {
     "name": "stdout",
     "output_type": "stream",
     "text": [
      "Reservation confirmed. Thank you!\n",
      "\n",
      "\n",
      "---------------------------------- Welcome To Luxury Car Rentals --------------------------------\n",
      "1. Display Available Cars Inventory\n",
      "2. Rent Vehicle(s)\n",
      "3. Return Vehicle(s)\n",
      "4. Exit Menu\n",
      "--------------------------------------------------------------------------------------------------\n",
      "\n",
      "\n"
     ]
    },
    {
     "name": "stdout",
     "output_type": "stream",
     "text": [
      "Please select an option from the menu above:  1\n"
     ]
    },
    {
     "name": "stdout",
     "output_type": "stream",
     "text": [
      "\n",
      "\n",
      "Available Cars Inventory\n",
      "-------------------------------\n",
      "Vehicle ID :Vin11 | \u001b[4mNissan GT-R\u001b[0m 2018 Color: Blue Passengers: 2 Luggage: 4 Transmission: Manual Doors: 2 Rates: Hourly: $85 Daily: $2040 Weekly: $14280\n",
      "Vehicle ID :Vin12 | \u001b[4mRolls Royce Dawn Convertible\u001b[0m 2019 Color: Blue Passengers: 4 Luggage: 4 Transmission: Auto Doors: 2 Rates: Hourly: $146 Daily: $3504 Weekly: $24528\n",
      "Vehicle ID :Vin13 | \u001b[4mFerrari 488 GTS Convertible\u001b[0m 2019 Color: Blue Passengers: 2 Luggage: 2 Transmission: Auto Doors: 2 Rates: Hourly: $125 Daily: $3000 Weekly: $21000\n",
      "Vehicle ID :Vin14 | \u001b[4mMaserati Quatroporte S Granlusso\u001b[0m 2021 Color: White Passengers: 5 Luggage: 4 Transmission: Auto Doors: 4 Rates: Hourly: $146 Daily: $3504 Weekly: $24528\n",
      "Vehicle ID :Vin15 | \u001b[4mLamborghini Huracan EVO SPyder\u001b[0m 2021 Color: Green Passengers: 2 Luggage: 2 Transmission: Auto Doors: 2 Rates: Hourly: $157 Daily: $3768 Weekly: $26376\n",
      "Vehicle ID :Vin16 | \u001b[4mRolls Royce Cullinan\u001b[0m 2021 Color: White Passengers: 7 Luggage: 5 Transmission: Auto Doors: 4 Rates: Hourly: $157 Daily: $3768 Weekly: $26376\n",
      "Vehicle ID :Vin17 | \u001b[4mDodge Charger SRT Hellcat Widebody\u001b[0m 2022 Color: Blue Passengers: 5 Luggage: 5 Transmission: Auto Doors: 4 Rates: Hourly: $130 Daily: $3120 Weekly: $21840\n"
     ]
    },
    {
     "name": "stdout",
     "output_type": "stream",
     "text": [
      "Press Enter to continue... \n"
     ]
    },
    {
     "name": "stdout",
     "output_type": "stream",
     "text": [
      "\n",
      "\n",
      "\n",
      "\n",
      "---------------------------------- Welcome To Luxury Car Rentals --------------------------------\n",
      "1. Display Available Cars Inventory\n",
      "2. Rent Vehicle(s)\n",
      "3. Return Vehicle(s)\n",
      "4. Exit Menu\n",
      "--------------------------------------------------------------------------------------------------\n",
      "\n",
      "\n"
     ]
    },
    {
     "name": "stdout",
     "output_type": "stream",
     "text": [
      "Please select an option from the menu above:  2\n"
     ]
    },
    {
     "name": "stdout",
     "output_type": "stream",
     "text": [
      "Rent Vehicle(s)\n",
      "-------------------------------\n"
     ]
    },
    {
     "name": "stdout",
     "output_type": "stream",
     "text": [
      "Do you have an account with us? (yes/no):  no\n",
      "Enter your age:  33\n",
      "Enter your first name:  Sam\n",
      "Enter your last name:  Walton\n",
      "Enter your driver's license number:  Dl9999\n",
      "Enter your email address:  \n",
      "Enter your phone number:  \n"
     ]
    },
    {
     "name": "stdout",
     "output_type": "stream",
     "text": [
      "\n",
      "\n",
      "Customer Information: \n",
      "-------------------------\n",
      "Customer Account Number:  Dl9999\n",
      "First Name:  Sam\n",
      "Last Name:  Walton\n",
      "Email:  \n",
      "Phone:  \n"
     ]
    },
    {
     "name": "stdout",
     "output_type": "stream",
     "text": [
      "Press Enter to continue... \n"
     ]
    },
    {
     "name": "stdout",
     "output_type": "stream",
     "text": [
      "\n",
      "\n"
     ]
    },
    {
     "name": "stdout",
     "output_type": "stream",
     "text": [
      "How many vehicles would you like to rent?  9\n"
     ]
    },
    {
     "name": "stdout",
     "output_type": "stream",
     "text": [
      "AVAILABILITY :  7  available cars\n",
      "\n",
      "\n",
      "Sorry, we do not have enough vehicles to rent at the moment.\n"
     ]
    },
    {
     "name": "stdout",
     "output_type": "stream",
     "text": [
      "Press Enter to continue... 7\n"
     ]
    },
    {
     "name": "stdout",
     "output_type": "stream",
     "text": [
      "\n",
      "\n",
      "---------------------------------- Welcome To Luxury Car Rentals --------------------------------\n",
      "1. Display Available Cars Inventory\n",
      "2. Rent Vehicle(s)\n",
      "3. Return Vehicle(s)\n",
      "4. Exit Menu\n",
      "--------------------------------------------------------------------------------------------------\n",
      "\n",
      "\n"
     ]
    },
    {
     "name": "stdout",
     "output_type": "stream",
     "text": [
      "Please select an option from the menu above:  2\n"
     ]
    },
    {
     "name": "stdout",
     "output_type": "stream",
     "text": [
      "Rent Vehicle(s)\n",
      "-------------------------------\n"
     ]
    },
    {
     "name": "stdout",
     "output_type": "stream",
     "text": [
      "Do you have an account with us? (yes/no):  yes\n",
      "Enter your Driver's License Number:  DL999\n"
     ]
    },
    {
     "name": "stdout",
     "output_type": "stream",
     "text": [
      "\n",
      "\n",
      "Active Rental:  False\n",
      "\n",
      "\n",
      "Customer ID not found. Please try again.\n"
     ]
    },
    {
     "name": "stdout",
     "output_type": "stream",
     "text": [
      "Press Enter to continue... \n"
     ]
    },
    {
     "name": "stdout",
     "output_type": "stream",
     "text": [
      "\n",
      "\n",
      "---------------------------------- Welcome To Luxury Car Rentals --------------------------------\n",
      "1. Display Available Cars Inventory\n",
      "2. Rent Vehicle(s)\n",
      "3. Return Vehicle(s)\n",
      "4. Exit Menu\n",
      "--------------------------------------------------------------------------------------------------\n",
      "\n",
      "\n"
     ]
    },
    {
     "name": "stdout",
     "output_type": "stream",
     "text": [
      "Please select an option from the menu above:  2\n"
     ]
    },
    {
     "name": "stdout",
     "output_type": "stream",
     "text": [
      "Rent Vehicle(s)\n",
      "-------------------------------\n"
     ]
    },
    {
     "name": "stdout",
     "output_type": "stream",
     "text": [
      "Do you have an account with us? (yes/no):  yes\n",
      "Enter your Driver's License Number:  DL9999\n"
     ]
    },
    {
     "name": "stdout",
     "output_type": "stream",
     "text": [
      "\n",
      "\n",
      "Active Rental:  False\n",
      "\n",
      "\n",
      "Customer ID not found. Please try again.\n"
     ]
    },
    {
     "name": "stdout",
     "output_type": "stream",
     "text": [
      "Press Enter to continue... \n"
     ]
    },
    {
     "name": "stdout",
     "output_type": "stream",
     "text": [
      "\n",
      "\n",
      "---------------------------------- Welcome To Luxury Car Rentals --------------------------------\n",
      "1. Display Available Cars Inventory\n",
      "2. Rent Vehicle(s)\n",
      "3. Return Vehicle(s)\n",
      "4. Exit Menu\n",
      "--------------------------------------------------------------------------------------------------\n",
      "\n",
      "\n"
     ]
    },
    {
     "name": "stdout",
     "output_type": "stream",
     "text": [
      "Please select an option from the menu above:  2\n"
     ]
    },
    {
     "name": "stdout",
     "output_type": "stream",
     "text": [
      "Rent Vehicle(s)\n",
      "-------------------------------\n"
     ]
    },
    {
     "name": "stdout",
     "output_type": "stream",
     "text": [
      "Do you have an account with us? (yes/no):  yes\n",
      "Enter your Driver's License Number:  DL99\n"
     ]
    },
    {
     "name": "stdout",
     "output_type": "stream",
     "text": [
      "\n",
      "\n",
      "Active Rental:  False\n",
      "\n",
      "\n",
      "Customer ID not found. Please try again.\n"
     ]
    },
    {
     "name": "stdout",
     "output_type": "stream",
     "text": [
      "Press Enter to continue... \n"
     ]
    },
    {
     "name": "stdout",
     "output_type": "stream",
     "text": [
      "\n",
      "\n",
      "---------------------------------- Welcome To Luxury Car Rentals --------------------------------\n",
      "1. Display Available Cars Inventory\n",
      "2. Rent Vehicle(s)\n",
      "3. Return Vehicle(s)\n",
      "4. Exit Menu\n",
      "--------------------------------------------------------------------------------------------------\n",
      "\n",
      "\n"
     ]
    },
    {
     "name": "stdout",
     "output_type": "stream",
     "text": [
      "Please select an option from the menu above:  2\n"
     ]
    },
    {
     "name": "stdout",
     "output_type": "stream",
     "text": [
      "Rent Vehicle(s)\n",
      "-------------------------------\n"
     ]
    },
    {
     "name": "stdout",
     "output_type": "stream",
     "text": [
      "Do you have an account with us? (yes/no):  yes\n",
      "Enter your Driver's License Number:  Dl9999\n"
     ]
    },
    {
     "name": "stdout",
     "output_type": "stream",
     "text": [
      "Found it!\n",
      "Welcome back, Sam Walton!\n",
      "\n",
      "\n",
      "Active Rental:  False\n",
      "\n",
      "\n"
     ]
    },
    {
     "name": "stdout",
     "output_type": "stream",
     "text": [
      "Press Enter to continue... \n"
     ]
    },
    {
     "name": "stdout",
     "output_type": "stream",
     "text": [
      "\n",
      "\n"
     ]
    },
    {
     "name": "stdout",
     "output_type": "stream",
     "text": [
      "How many vehicles would you like to rent?  7\n"
     ]
    },
    {
     "name": "stdout",
     "output_type": "stream",
     "text": [
      "AVAILABILITY :  7  available cars\n",
      "\n",
      "\n",
      "Rental Period Choices:\n",
      "1. Hourly\n",
      "2. Daily\n",
      "3. Weekly\n",
      "\n",
      "\n",
      "Enter Option for rental period. Example, type: 3 for weekly rental. Note: (All vehicles must be rented at same time and returned at the same time.)\n"
     ]
    },
    {
     "name": "stdout",
     "output_type": "stream",
     "text": [
      " 2\n"
     ]
    },
    {
     "name": "stdout",
     "output_type": "stream",
     "text": [
      "\n",
      "\n",
      "------Available Vehicles------\n",
      "\n",
      "\n",
      "Vehicle ID :Vin11 | \u001b[4mNissan GT-R\u001b[0m 2018 Color: Blue Passengers: 2 Luggage: 4 Transmission: Manual Doors: 2 Rates: Hourly: $85 Daily: $2040 Weekly: $14280\n",
      "Vehicle ID :Vin12 | \u001b[4mRolls Royce Dawn Convertible\u001b[0m 2019 Color: Blue Passengers: 4 Luggage: 4 Transmission: Auto Doors: 2 Rates: Hourly: $146 Daily: $3504 Weekly: $24528\n",
      "Vehicle ID :Vin13 | \u001b[4mFerrari 488 GTS Convertible\u001b[0m 2019 Color: Blue Passengers: 2 Luggage: 2 Transmission: Auto Doors: 2 Rates: Hourly: $125 Daily: $3000 Weekly: $21000\n",
      "Vehicle ID :Vin14 | \u001b[4mMaserati Quatroporte S Granlusso\u001b[0m 2021 Color: White Passengers: 5 Luggage: 4 Transmission: Auto Doors: 4 Rates: Hourly: $146 Daily: $3504 Weekly: $24528\n",
      "Vehicle ID :Vin15 | \u001b[4mLamborghini Huracan EVO SPyder\u001b[0m 2021 Color: Green Passengers: 2 Luggage: 2 Transmission: Auto Doors: 2 Rates: Hourly: $157 Daily: $3768 Weekly: $26376\n",
      "Vehicle ID :Vin16 | \u001b[4mRolls Royce Cullinan\u001b[0m 2021 Color: White Passengers: 7 Luggage: 5 Transmission: Auto Doors: 4 Rates: Hourly: $157 Daily: $3768 Weekly: $26376\n",
      "Vehicle ID :Vin17 | \u001b[4mDodge Charger SRT Hellcat Widebody\u001b[0m 2022 Color: Blue Passengers: 5 Luggage: 5 Transmission: Auto Doors: 4 Rates: Hourly: $130 Daily: $3120 Weekly: $21840\n",
      "\n",
      "\n",
      "Enter the Vehicle ID for vehicle  1  Example, type: Vin11\n"
     ]
    },
    {
     "name": "stdout",
     "output_type": "stream",
     "text": [
      " Vin11\n"
     ]
    },
    {
     "name": "stdout",
     "output_type": "stream",
     "text": [
      "Enter the Vehicle ID for vehicle  2  Example, type: Vin11\n"
     ]
    },
    {
     "name": "stdout",
     "output_type": "stream",
     "text": [
      " Vin12\n"
     ]
    },
    {
     "name": "stdout",
     "output_type": "stream",
     "text": [
      "Enter the Vehicle ID for vehicle  3  Example, type: Vin11\n"
     ]
    },
    {
     "name": "stdout",
     "output_type": "stream",
     "text": [
      " Vin13\n"
     ]
    },
    {
     "name": "stdout",
     "output_type": "stream",
     "text": [
      "Enter the Vehicle ID for vehicle  4  Example, type: Vin11\n"
     ]
    },
    {
     "name": "stdout",
     "output_type": "stream",
     "text": [
      " Vin14\n"
     ]
    },
    {
     "name": "stdout",
     "output_type": "stream",
     "text": [
      "Enter the Vehicle ID for vehicle  5  Example, type: Vin11\n"
     ]
    },
    {
     "name": "stdout",
     "output_type": "stream",
     "text": [
      " Vin15\n"
     ]
    },
    {
     "name": "stdout",
     "output_type": "stream",
     "text": [
      "Enter the Vehicle ID for vehicle  6  Example, type: Vin11\n"
     ]
    },
    {
     "name": "stdout",
     "output_type": "stream",
     "text": [
      " Vin16\n"
     ]
    },
    {
     "name": "stdout",
     "output_type": "stream",
     "text": [
      "Enter the Vehicle ID for vehicle  7  Example, type: Vin11\n"
     ]
    },
    {
     "name": "stdout",
     "output_type": "stream",
     "text": [
      " Vin17\n"
     ]
    },
    {
     "name": "stdout",
     "output_type": "stream",
     "text": [
      "\n",
      "\n",
      "Please enter the pickup time for your reservation.\n"
     ]
    },
    {
     "name": "stdout",
     "output_type": "stream",
     "text": [
      "Enter the date and time (MM/DD/YYYY HH:MM AM or PM. THE EXACT FORMAT MUST BE FOLLOWED):  4/17/2024 7:00 AM\n"
     ]
    },
    {
     "name": "stdout",
     "output_type": "stream",
     "text": [
      "Validated time: Wednesday, April 17, 2024 07:00 AM\n",
      "\n",
      "\n",
      "Please enter the drop off or return time for your reservation.\n"
     ]
    },
    {
     "name": "stdout",
     "output_type": "stream",
     "text": [
      "Enter the date and time (MM/DD/YYYY HH:MM AM or PM. THE EXACT FORMAT MUST BE FOLLOWED):  4/19/2024 7:00 AM\n"
     ]
    },
    {
     "name": "stdout",
     "output_type": "stream",
     "text": [
      "Validated time: Friday, April 19, 2024 07:00 AM\n",
      "\n",
      "\n",
      "Rental Duration Details:\n",
      "-------------------------\n",
      "duration :  2 days, 0:00:00\n",
      "total_days :  2.0\n",
      "Rental Period: Daily\n",
      "-------------------------------------------------------------------------------\n",
      "Rental Details:\n",
      "-------------------------------------------------\n",
      "Vehicle(s):\n",
      "Vehicle: Nissan GT-R 2018 Color: Blue Passengers: 2 Luggage: 4 Transmission: Manual Doors: 2 Rental Period: Daily Rate: $2040\n",
      "Vehicle: Rolls Royce Dawn Convertible 2019 Color: Blue Passengers: 4 Luggage: 4 Transmission: Auto Doors: 2 Rental Period: Daily Rate: $3504\n",
      "Vehicle: Ferrari 488 GTS Convertible 2019 Color: Blue Passengers: 2 Luggage: 2 Transmission: Auto Doors: 2 Rental Period: Daily Rate: $3000\n",
      "Vehicle: Maserati Quatroporte S Granlusso 2021 Color: White Passengers: 5 Luggage: 4 Transmission: Auto Doors: 4 Rental Period: Daily Rate: $3504\n",
      "Vehicle: Lamborghini Huracan EVO SPyder 2021 Color: Green Passengers: 2 Luggage: 2 Transmission: Auto Doors: 2 Rental Period: Daily Rate: $3768\n",
      "Vehicle: Rolls Royce Cullinan 2021 Color: White Passengers: 7 Luggage: 5 Transmission: Auto Doors: 4 Rental Period: Daily Rate: $3768\n",
      "Vehicle: Dodge Charger SRT Hellcat Widebody 2022 Color: Blue Passengers: 5 Luggage: 5 Transmission: Auto Doors: 4 Rental Period: Daily Rate: $3120\n",
      "-------------------------------------------------\n",
      "Pickup Time:  Wednesday, April 17, 2024 07:00 AM\n",
      "Return Time:  Friday, April 19, 2024 07:00 AM\n",
      "Ontime Return Cost:  45408.0\n",
      "\n",
      "\n",
      "NOTE: All vehicles must be rented at the same time and returned at the same time. Early returns will be charged the full rental rate.\n",
      "\n",
      "\n",
      "LATE FEE INFORMATION : \n",
      "For Daily Rentals: There will be a $480 late fee added to the daily rate for every day late or part thereof, which is equivalent to a $20 late fee for every hour late.\n",
      "\n",
      "\n"
     ]
    },
    {
     "name": "stdout",
     "output_type": "stream",
     "text": [
      "Would you like to confirm this reservation? (Y/N):  Y\n"
     ]
    },
    {
     "name": "stdout",
     "output_type": "stream",
     "text": [
      "Reservation confirmed. Thank you!\n",
      "\n",
      "\n",
      "---------------------------------- Welcome To Luxury Car Rentals --------------------------------\n",
      "1. Display Available Cars Inventory\n",
      "2. Rent Vehicle(s)\n",
      "3. Return Vehicle(s)\n",
      "4. Exit Menu\n",
      "--------------------------------------------------------------------------------------------------\n",
      "\n",
      "\n"
     ]
    },
    {
     "name": "stdout",
     "output_type": "stream",
     "text": [
      "Please select an option from the menu above:  1\n"
     ]
    },
    {
     "name": "stdout",
     "output_type": "stream",
     "text": [
      "\n",
      "\n",
      "Available Cars Inventory\n",
      "-------------------------------\n"
     ]
    },
    {
     "name": "stdout",
     "output_type": "stream",
     "text": [
      "Press Enter to continue... \n"
     ]
    },
    {
     "name": "stdout",
     "output_type": "stream",
     "text": [
      "\n",
      "\n",
      "\n",
      "\n",
      "---------------------------------- Welcome To Luxury Car Rentals --------------------------------\n",
      "1. Display Available Cars Inventory\n",
      "2. Rent Vehicle(s)\n",
      "3. Return Vehicle(s)\n",
      "4. Exit Menu\n",
      "--------------------------------------------------------------------------------------------------\n",
      "\n",
      "\n"
     ]
    },
    {
     "name": "stdout",
     "output_type": "stream",
     "text": [
      "Please select an option from the menu above:  2\n"
     ]
    },
    {
     "name": "stdout",
     "output_type": "stream",
     "text": [
      "Rent Vehicle(s)\n",
      "-------------------------------\n"
     ]
    },
    {
     "name": "stdout",
     "output_type": "stream",
     "text": [
      "Do you have an account with us? (yes/no):  yes\n",
      "Enter your Driver's License Number:  Dl999\n"
     ]
    },
    {
     "name": "stdout",
     "output_type": "stream",
     "text": [
      "\n",
      "\n",
      "Active Rental:  False\n",
      "\n",
      "\n",
      "Customer ID not found. Please try again.\n"
     ]
    },
    {
     "name": "stdout",
     "output_type": "stream",
     "text": [
      "Press Enter to continue... \n"
     ]
    },
    {
     "name": "stdout",
     "output_type": "stream",
     "text": [
      "\n",
      "\n",
      "---------------------------------- Welcome To Luxury Car Rentals --------------------------------\n",
      "1. Display Available Cars Inventory\n",
      "2. Rent Vehicle(s)\n",
      "3. Return Vehicle(s)\n",
      "4. Exit Menu\n",
      "--------------------------------------------------------------------------------------------------\n",
      "\n",
      "\n"
     ]
    },
    {
     "name": "stdout",
     "output_type": "stream",
     "text": [
      "Please select an option from the menu above:  2\n"
     ]
    },
    {
     "name": "stdout",
     "output_type": "stream",
     "text": [
      "Rent Vehicle(s)\n",
      "-------------------------------\n"
     ]
    },
    {
     "name": "stdout",
     "output_type": "stream",
     "text": [
      "Do you have an account with us? (yes/no):  yes\n",
      "Enter your Driver's License Number:  Dl9999\n"
     ]
    },
    {
     "name": "stdout",
     "output_type": "stream",
     "text": [
      "Found it!\n",
      "Welcome back, Sam Walton!\n",
      "\n",
      "\n",
      "Active Rental:  {'Dl9999': [['Vin11', 'Nissan', 'GT-R', 2018, 'Blue', 2, 4, 'Manual', 2, 'Daily', 2040], ['Vin12', 'Rolls Royce', 'Dawn Convertible', 2019, 'Blue', 4, 4, 'Auto', 2, 'Daily', 3504], ['Vin13', 'Ferrari', '488 GTS Convertible', 2019, 'Blue', 2, 2, 'Auto', 2, 'Daily', 3000], ['Vin14', 'Maserati', 'Quatroporte S Granlusso', 2021, 'White', 5, 4, 'Auto', 4, 'Daily', 3504], ['Vin15', 'Lamborghini', 'Huracan EVO SPyder', 2021, 'Green', 2, 2, 'Auto', 2, 'Daily', 3768], ['Vin16', 'Rolls Royce', 'Cullinan', 2021, 'White', 7, 5, 'Auto', 4, 'Daily', 3768], ['Vin17', 'Dodge', 'Charger SRT Hellcat Widebody', 2022, 'Blue', 5, 5, 'Auto', 4, 'Daily', 3120]]}\n",
      "\n",
      "\n",
      "It looks like you have an active rental. Please return the vehicle(s) before renting another one.\n"
     ]
    },
    {
     "name": "stdout",
     "output_type": "stream",
     "text": [
      "Press Enter to continue... \n"
     ]
    },
    {
     "name": "stdout",
     "output_type": "stream",
     "text": [
      "\n",
      "\n",
      "---------------------------------- Welcome To Luxury Car Rentals --------------------------------\n",
      "1. Display Available Cars Inventory\n",
      "2. Rent Vehicle(s)\n",
      "3. Return Vehicle(s)\n",
      "4. Exit Menu\n",
      "--------------------------------------------------------------------------------------------------\n",
      "\n",
      "\n"
     ]
    },
    {
     "name": "stdout",
     "output_type": "stream",
     "text": [
      "Please select an option from the menu above:  3\n"
     ]
    },
    {
     "name": "stdout",
     "output_type": "stream",
     "text": [
      "Return Vehicle(s)\n",
      "-------------------------------\n"
     ]
    },
    {
     "name": "stdout",
     "output_type": "stream",
     "text": [
      "Enter your Driver's License Number:  Dl9999\n"
     ]
    },
    {
     "name": "stdout",
     "output_type": "stream",
     "text": [
      "Found it!\n",
      "Welcome back, Sam Walton!\n",
      "Found it!\n",
      "We'll need your return time information to calculate your final total cost.\n",
      "\n",
      "\n"
     ]
    },
    {
     "name": "stdout",
     "output_type": "stream",
     "text": [
      "Enter the date and time (MM/DD/YYYY HH:MM AM or PM. THE EXACT FORMAT MUST BE FOLLOWED):  4/18/2024 3:00 AM\n"
     ]
    },
    {
     "name": "stdout",
     "output_type": "stream",
     "text": [
      "Validated time: Thursday, April 18, 2024 03:00 AM\n",
      "duration :  20:00:00\n",
      "total_days :  0.8333333333333334\n",
      "\n",
      "\n",
      "----------------Billing Information------------------\n",
      "\n",
      "\n",
      "Customer Information: \n",
      "-------------------------\n",
      "Customer Account Number:  Dl9999\n",
      "First Name:  Sam\n",
      "Last Name:  Walton\n",
      "Email:  \n",
      "Phone:  \n",
      "\n",
      "\n",
      "Rental Details:\n",
      "-------------------------------------------------\n",
      "Vehicle(s):\n",
      "Vehicle: Nissan GT-R 2018 Color: Blue Passengers: 2 Luggage: 4 Transmission: Manual Doors: 2 Rental Period: Daily Rate: $2040\n",
      "Vehicle: Rolls Royce Dawn Convertible 2019 Color: Blue Passengers: 4 Luggage: 4 Transmission: Auto Doors: 2 Rental Period: Daily Rate: $3504\n",
      "Vehicle: Ferrari 488 GTS Convertible 2019 Color: Blue Passengers: 2 Luggage: 2 Transmission: Auto Doors: 2 Rental Period: Daily Rate: $3000\n",
      "Vehicle: Maserati Quatroporte S Granlusso 2021 Color: White Passengers: 5 Luggage: 4 Transmission: Auto Doors: 4 Rental Period: Daily Rate: $3504\n",
      "Vehicle: Lamborghini Huracan EVO SPyder 2021 Color: Green Passengers: 2 Luggage: 2 Transmission: Auto Doors: 2 Rental Period: Daily Rate: $3768\n",
      "Vehicle: Rolls Royce Cullinan 2021 Color: White Passengers: 7 Luggage: 5 Transmission: Auto Doors: 4 Rental Period: Daily Rate: $3768\n",
      "Vehicle: Dodge Charger SRT Hellcat Widebody 2022 Color: Blue Passengers: 5 Luggage: 5 Transmission: Auto Doors: 4 Rental Period: Daily Rate: $3120\n",
      "-------------------------------------------------\n",
      "Pickup Time :  Wednesday, April 17, 2024 07:00 AM\n",
      "Expected Return Time :  Friday, April 19, 2024 07:00 AM\n",
      "Expected Rental Duration :  2.0\n",
      "Actual Return Time :  Thursday, April 18, 2024 03:00 AM\n",
      "Actual Rental Duration :  0.833\n",
      "Rental Rate :  2040\n",
      "Rental Period Units :  Days\n",
      "Late Fee :  0\n",
      "Ontime Return Cost :  45408.0\n",
      "----------------_Total Cost_------------------\n",
      "Total Cost (Original Return Cost + Late Fee) :  45408.0\n",
      "\n",
      "\n",
      "Thank You for renting with us!\n",
      "\n",
      "\n"
     ]
    },
    {
     "name": "stdout",
     "output_type": "stream",
     "text": [
      "Press Enter to continue... \n"
     ]
    },
    {
     "name": "stdout",
     "output_type": "stream",
     "text": [
      "\n",
      "\n",
      "---------------------------------- Welcome To Luxury Car Rentals --------------------------------\n",
      "1. Display Available Cars Inventory\n",
      "2. Rent Vehicle(s)\n",
      "3. Return Vehicle(s)\n",
      "4. Exit Menu\n",
      "--------------------------------------------------------------------------------------------------\n",
      "\n",
      "\n"
     ]
    },
    {
     "name": "stdout",
     "output_type": "stream",
     "text": [
      "Please select an option from the menu above:  1\n"
     ]
    },
    {
     "name": "stdout",
     "output_type": "stream",
     "text": [
      "\n",
      "\n",
      "Available Cars Inventory\n",
      "-------------------------------\n",
      "Vehicle ID :Vin11 | \u001b[4mNissan GT-R\u001b[0m 2018 Color: Blue Passengers: 2 Luggage: 4 Transmission: Manual Doors: 2 Rates: Hourly: $85 Daily: $2040 Weekly: $14280\n",
      "Vehicle ID :Vin12 | \u001b[4mRolls Royce Dawn Convertible\u001b[0m 2019 Color: Blue Passengers: 4 Luggage: 4 Transmission: Auto Doors: 2 Rates: Hourly: $146 Daily: $3504 Weekly: $24528\n",
      "Vehicle ID :Vin13 | \u001b[4mFerrari 488 GTS Convertible\u001b[0m 2019 Color: Blue Passengers: 2 Luggage: 2 Transmission: Auto Doors: 2 Rates: Hourly: $125 Daily: $3000 Weekly: $21000\n",
      "Vehicle ID :Vin14 | \u001b[4mMaserati Quatroporte S Granlusso\u001b[0m 2021 Color: White Passengers: 5 Luggage: 4 Transmission: Auto Doors: 4 Rates: Hourly: $146 Daily: $3504 Weekly: $24528\n",
      "Vehicle ID :Vin15 | \u001b[4mLamborghini Huracan EVO SPyder\u001b[0m 2021 Color: Green Passengers: 2 Luggage: 2 Transmission: Auto Doors: 2 Rates: Hourly: $157 Daily: $3768 Weekly: $26376\n",
      "Vehicle ID :Vin16 | \u001b[4mRolls Royce Cullinan\u001b[0m 2021 Color: White Passengers: 7 Luggage: 5 Transmission: Auto Doors: 4 Rates: Hourly: $157 Daily: $3768 Weekly: $26376\n",
      "Vehicle ID :Vin17 | \u001b[4mDodge Charger SRT Hellcat Widebody\u001b[0m 2022 Color: Blue Passengers: 5 Luggage: 5 Transmission: Auto Doors: 4 Rates: Hourly: $130 Daily: $3120 Weekly: $21840\n"
     ]
    },
    {
     "name": "stdout",
     "output_type": "stream",
     "text": [
      "Press Enter to continue... \n"
     ]
    },
    {
     "name": "stdout",
     "output_type": "stream",
     "text": [
      "\n",
      "\n",
      "\n",
      "\n",
      "---------------------------------- Welcome To Luxury Car Rentals --------------------------------\n",
      "1. Display Available Cars Inventory\n",
      "2. Rent Vehicle(s)\n",
      "3. Return Vehicle(s)\n",
      "4. Exit Menu\n",
      "--------------------------------------------------------------------------------------------------\n",
      "\n",
      "\n"
     ]
    },
    {
     "name": "stdout",
     "output_type": "stream",
     "text": [
      "Please select an option from the menu above:  3\n"
     ]
    },
    {
     "name": "stdout",
     "output_type": "stream",
     "text": [
      "Return Vehicle(s)\n",
      "-------------------------------\n"
     ]
    },
    {
     "name": "stdout",
     "output_type": "stream",
     "text": [
      "Enter your Driver's License Number:  DL1234\n"
     ]
    },
    {
     "name": "stdout",
     "output_type": "stream",
     "text": [
      "Found it!\n",
      "Welcome back, Er Le!\n",
      "Found it!\n",
      "We'll need your return time information to calculate your final total cost.\n",
      "\n",
      "\n"
     ]
    },
    {
     "name": "stdout",
     "output_type": "stream",
     "text": [
      "Enter the date and time (MM/DD/YYYY HH:MM AM or PM. THE EXACT FORMAT MUST BE FOLLOWED):  4/17/2024 8:00 PM\n"
     ]
    },
    {
     "name": "stdout",
     "output_type": "stream",
     "text": [
      "Validated time: Wednesday, April 17, 2024 08:00 PM\n",
      "duration :  13:00:00\n",
      "total_weeks :  0.07738095238095238\n",
      "\n",
      "\n",
      "----------------Billing Information------------------\n",
      "\n",
      "\n",
      "Customer Information: \n",
      "-------------------------\n",
      "Customer Account Number:  DL1234\n",
      "First Name:  Er\n",
      "Last Name:  Le\n",
      "Email:  \n",
      "Phone:  \n",
      "\n",
      "\n",
      "Rental Details:\n",
      "-------------------------------------------------\n",
      "Vehicle(s):\n",
      "Vehicle: Porsche 911 Carrera 4S Cabriolet 2023 Color: Red Passengers: 2 Luggage: 2 Transmission: Auto Doors: 2 Rental Period: Weekly Rate: $13440\n",
      "-------------------------------------------------\n",
      "Pickup Time :  Wednesday, April 17, 2024 07:00 AM\n",
      "Expected Return Time :  Thursday, April 25, 2024 07:00 PM\n",
      "Expected Rental Duration :  1.214\n",
      "Actual Return Time :  Wednesday, April 17, 2024 08:00 PM\n",
      "Actual Rental Duration :  0.077\n",
      "Rental Rate :  13440\n",
      "Rental Period Units :  Weeks\n",
      "Late Fee :  0\n",
      "Ontime Return Cost :  16316.16\n",
      "----------------_Total Cost_------------------\n",
      "Total Cost (Original Return Cost + Late Fee) :  16316.16\n",
      "\n",
      "\n",
      "Thank You for renting with us!\n",
      "\n",
      "\n"
     ]
    },
    {
     "name": "stdout",
     "output_type": "stream",
     "text": [
      "\n",
      "\n",
      "Available Cars Inventory\n",
      "-------------------------------\n",
      "Vehicle ID :Vin1 | \u001b[4mFerrari 488 Pista Coupe\u001b[0m 2020 Color: Red Passengers: 2 Luggage: 4 Transmission: Auto Doors: 2 Rates: Hourly: $105 Daily: $2520 Weekly: $17640\n",
      "Vehicle ID :Vin2 | \u001b[4mLamborghini Aventador SVJ\u001b[0m 2022 Color: Black Passengers: 4 Luggage: 4 Transmission: Auto Doors: 4 Rates: Hourly: $125 Daily: $3000 Weekly: $21000\n",
      "Vehicle ID :Vin3 | \u001b[4mMcLaren 720S\u001b[0m 2022 Color: Blue Passengers: 2 Luggage: 2 Transmission: Auto Doors: 2 Rates: Hourly: $105 Daily: $2520 Weekly: $17640\n",
      "Vehicle ID :Vin4 | \u001b[4mPorsche 911 GT3\u001b[0m 2022 Color: White Passengers: 2 Luggage: 2 Transmission: Auto Doors: 2 Rates: Hourly: $85 Daily: $2040 Weekly: $14280\n",
      "Vehicle ID :Vin5 | \u001b[4mAudi R8\u001b[0m 2020 Color: Silver Passengers: 2 Luggage: 4 Transmission: Manual Doors: 2 Rates: Hourly: $125 Daily: $3000 Weekly: $21000\n",
      "Vehicle ID :Vin6 | \u001b[4mBMW M8\u001b[0m 2022 Color: Black Passengers: 2 Luggage: 2 Transmission: Manual Doors: 2 Rates: Hourly: $115 Daily: $2760 Weekly: $19320\n",
      "Vehicle ID :Vin7 | \u001b[4mMercedes-Benz AMG GT\u001b[0m 2024 Color: Red Passengers: 2 Luggage: 2 Transmission: Auto Doors: 2 Rates: Hourly: $146 Daily: $3504 Weekly: $24528\n",
      "Vehicle ID :Vin8 | \u001b[4mRoll Royce Phantom\u001b[0m 2022 Color: Blue Passengers: 4 Luggage: 5 Transmission: Auto Doors: 4 Rates: Hourly: $167 Daily: $4008 Weekly: $28056\n",
      "Vehicle ID :Vin9 | \u001b[4mLamborghini Aventador SV Roadster\u001b[0m 2018 Color: Yellow Passengers: 2 Luggage: 2 Transmission: Auto Doors: 2 Rates: Hourly: $95 Daily: $2280 Weekly: $15960\n",
      "Vehicle ID :Vin10 | \u001b[4mMercedes-Benz Brabus G Class 4x4 AMG\u001b[0m 2019 Color: Red Passengers: 5 Luggage: 9 Transmission: Auto Doors: 5 Rates: Hourly: $188 Daily: $4512 Weekly: $31584\n",
      "Vehicle ID :Vin11 | \u001b[4mNissan GT-R\u001b[0m 2018 Color: Blue Passengers: 2 Luggage: 4 Transmission: Manual Doors: 2 Rates: Hourly: $85 Daily: $2040 Weekly: $14280\n",
      "Vehicle ID :Vin12 | \u001b[4mRolls Royce Dawn Convertible\u001b[0m 2019 Color: Blue Passengers: 4 Luggage: 4 Transmission: Auto Doors: 2 Rates: Hourly: $146 Daily: $3504 Weekly: $24528\n",
      "Vehicle ID :Vin13 | \u001b[4mFerrari 488 GTS Convertible\u001b[0m 2019 Color: Blue Passengers: 2 Luggage: 2 Transmission: Auto Doors: 2 Rates: Hourly: $125 Daily: $3000 Weekly: $21000\n",
      "Vehicle ID :Vin14 | \u001b[4mMaserati Quatroporte S Granlusso\u001b[0m 2021 Color: White Passengers: 5 Luggage: 4 Transmission: Auto Doors: 4 Rates: Hourly: $146 Daily: $3504 Weekly: $24528\n",
      "Vehicle ID :Vin15 | \u001b[4mLamborghini Huracan EVO SPyder\u001b[0m 2021 Color: Green Passengers: 2 Luggage: 2 Transmission: Auto Doors: 2 Rates: Hourly: $157 Daily: $3768 Weekly: $26376\n",
      "Vehicle ID :Vin16 | \u001b[4mRolls Royce Cullinan\u001b[0m 2021 Color: White Passengers: 7 Luggage: 5 Transmission: Auto Doors: 4 Rates: Hourly: $157 Daily: $3768 Weekly: $26376\n",
      "Vehicle ID :Vin17 | \u001b[4mDodge Charger SRT Hellcat Widebody\u001b[0m 2022 Color: Blue Passengers: 5 Luggage: 5 Transmission: Auto Doors: 4 Rates: Hourly: $130 Daily: $3120 Weekly: $21840\n",
      "Vehicle ID :Vin18 | \u001b[4mPorsche 911 Carrera 4S Cabriolet\u001b[0m 2023 Color: Red Passengers: 2 Luggage: 2 Transmission: Auto Doors: 2 Rates: Hourly: $80 Daily: $1920 Weekly: $13440\n",
      "Vehicle ID :Vin19 | \u001b[4mMercedes-Benz Maybach GLS 600 AMG\u001b[0m 2023 Color: Blue Passengers: 4 Luggage: 5 Transmission: Auto Doors: 4 Rates: Hourly: $146 Daily: $3504 Weekly: $24528\n",
      "Vehicle ID :Vin20 | \u001b[4mJeep Gladiator 6x6\u001b[0m 2024 Color: Red Passengers: 7 Luggage: 8 Transmission: Auto Doors: 4 Rates: Hourly: $208 Daily: $4992 Weekly: $34944\n"
     ]
    },
    {
     "name": "stdout",
     "output_type": "stream",
     "text": [
      "Press Enter to continue... \n"
     ]
    },
    {
     "name": "stdout",
     "output_type": "stream",
     "text": [
      "\n",
      "\n",
      "\n",
      "\n",
      "---------------------------------- Welcome To Luxury Car Rentals --------------------------------\n",
      "1. Display Available Cars Inventory\n",
      "2. Rent Vehicle(s)\n",
      "3. Return Vehicle(s)\n",
      "4. Exit Menu\n",
      "--------------------------------------------------------------------------------------------------\n",
      "\n",
      "\n"
     ]
    },
    {
     "name": "stdout",
     "output_type": "stream",
     "text": [
      "Please select an option from the menu above:  2\n"
     ]
    },
    {
     "name": "stdout",
     "output_type": "stream",
     "text": [
      "Rent Vehicle(s)\n",
      "-------------------------------\n"
     ]
    },
    {
     "name": "stdout",
     "output_type": "stream",
     "text": [
      "Do you have an account with us? (yes/no):  yes\n",
      "Enter your Driver's License Number:  DL1322\n"
     ]
    },
    {
     "name": "stdout",
     "output_type": "stream",
     "text": [
      "\n",
      "\n",
      "Active Rental:  False\n",
      "\n",
      "\n",
      "Customer ID not found. Please try again.\n"
     ]
    },
    {
     "name": "stdout",
     "output_type": "stream",
     "text": [
      "Press Enter to continue... \n"
     ]
    },
    {
     "name": "stdout",
     "output_type": "stream",
     "text": [
      "\n",
      "\n",
      "---------------------------------- Welcome To Luxury Car Rentals --------------------------------\n",
      "1. Display Available Cars Inventory\n",
      "2. Rent Vehicle(s)\n",
      "3. Return Vehicle(s)\n",
      "4. Exit Menu\n",
      "--------------------------------------------------------------------------------------------------\n",
      "\n",
      "\n"
     ]
    },
    {
     "name": "stdout",
     "output_type": "stream",
     "text": [
      "Please select an option from the menu above:  2\n"
     ]
    },
    {
     "name": "stdout",
     "output_type": "stream",
     "text": [
      "Rent Vehicle(s)\n",
      "-------------------------------\n"
     ]
    },
    {
     "name": "stdout",
     "output_type": "stream",
     "text": [
      "Do you have an account with us? (yes/no):  no\n",
      "Enter your age:  22\n",
      "Enter your first name:  Mee\n",
      "Enter your last name:  Toop\n",
      "Enter your driver's license number:  DL1234\n",
      "Enter your email address:  \n",
      "Enter your phone number:  \n"
     ]
    },
    {
     "name": "stdout",
     "output_type": "stream",
     "text": [
      "\n",
      "\n",
      "Customer Information: \n",
      "-------------------------\n",
      "Customer Account Number:  DL1234\n",
      "First Name:  Mee\n",
      "Last Name:  Toop\n",
      "Email:  \n",
      "Phone:  \n"
     ]
    },
    {
     "name": "stdout",
     "output_type": "stream",
     "text": [
      "Press Enter to continue... \n"
     ]
    },
    {
     "name": "stdout",
     "output_type": "stream",
     "text": [
      "\n",
      "\n"
     ]
    },
    {
     "name": "stdout",
     "output_type": "stream",
     "text": [
      "How many vehicles would you like to rent?  1\n"
     ]
    },
    {
     "name": "stdout",
     "output_type": "stream",
     "text": [
      "AVAILABILITY :  20  available cars\n",
      "\n",
      "\n",
      "Rental Period Choices:\n",
      "1. Hourly\n",
      "2. Daily\n",
      "3. Weekly\n",
      "\n",
      "\n",
      "Enter Option for rental period. Example, type: 3 for weekly rental. Note: (All vehicles must be rented at same time and returned at the same time.)\n"
     ]
    },
    {
     "name": "stdout",
     "output_type": "stream",
     "text": [
      " 1\n"
     ]
    },
    {
     "name": "stdout",
     "output_type": "stream",
     "text": [
      "\n",
      "\n",
      "------Available Vehicles------\n",
      "\n",
      "\n",
      "Vehicle ID :Vin1 | \u001b[4mFerrari 488 Pista Coupe\u001b[0m 2020 Color: Red Passengers: 2 Luggage: 4 Transmission: Auto Doors: 2 Rates: Hourly: $105 Daily: $2520 Weekly: $17640\n",
      "Vehicle ID :Vin2 | \u001b[4mLamborghini Aventador SVJ\u001b[0m 2022 Color: Black Passengers: 4 Luggage: 4 Transmission: Auto Doors: 4 Rates: Hourly: $125 Daily: $3000 Weekly: $21000\n",
      "Vehicle ID :Vin3 | \u001b[4mMcLaren 720S\u001b[0m 2022 Color: Blue Passengers: 2 Luggage: 2 Transmission: Auto Doors: 2 Rates: Hourly: $105 Daily: $2520 Weekly: $17640\n",
      "Vehicle ID :Vin4 | \u001b[4mPorsche 911 GT3\u001b[0m 2022 Color: White Passengers: 2 Luggage: 2 Transmission: Auto Doors: 2 Rates: Hourly: $85 Daily: $2040 Weekly: $14280\n",
      "Vehicle ID :Vin5 | \u001b[4mAudi R8\u001b[0m 2020 Color: Silver Passengers: 2 Luggage: 4 Transmission: Manual Doors: 2 Rates: Hourly: $125 Daily: $3000 Weekly: $21000\n",
      "Vehicle ID :Vin6 | \u001b[4mBMW M8\u001b[0m 2022 Color: Black Passengers: 2 Luggage: 2 Transmission: Manual Doors: 2 Rates: Hourly: $115 Daily: $2760 Weekly: $19320\n",
      "Vehicle ID :Vin7 | \u001b[4mMercedes-Benz AMG GT\u001b[0m 2024 Color: Red Passengers: 2 Luggage: 2 Transmission: Auto Doors: 2 Rates: Hourly: $146 Daily: $3504 Weekly: $24528\n",
      "Vehicle ID :Vin8 | \u001b[4mRoll Royce Phantom\u001b[0m 2022 Color: Blue Passengers: 4 Luggage: 5 Transmission: Auto Doors: 4 Rates: Hourly: $167 Daily: $4008 Weekly: $28056\n",
      "Vehicle ID :Vin9 | \u001b[4mLamborghini Aventador SV Roadster\u001b[0m 2018 Color: Yellow Passengers: 2 Luggage: 2 Transmission: Auto Doors: 2 Rates: Hourly: $95 Daily: $2280 Weekly: $15960\n",
      "Vehicle ID :Vin10 | \u001b[4mMercedes-Benz Brabus G Class 4x4 AMG\u001b[0m 2019 Color: Red Passengers: 5 Luggage: 9 Transmission: Auto Doors: 5 Rates: Hourly: $188 Daily: $4512 Weekly: $31584\n",
      "Vehicle ID :Vin11 | \u001b[4mNissan GT-R\u001b[0m 2018 Color: Blue Passengers: 2 Luggage: 4 Transmission: Manual Doors: 2 Rates: Hourly: $85 Daily: $2040 Weekly: $14280\n",
      "Vehicle ID :Vin12 | \u001b[4mRolls Royce Dawn Convertible\u001b[0m 2019 Color: Blue Passengers: 4 Luggage: 4 Transmission: Auto Doors: 2 Rates: Hourly: $146 Daily: $3504 Weekly: $24528\n",
      "Vehicle ID :Vin13 | \u001b[4mFerrari 488 GTS Convertible\u001b[0m 2019 Color: Blue Passengers: 2 Luggage: 2 Transmission: Auto Doors: 2 Rates: Hourly: $125 Daily: $3000 Weekly: $21000\n",
      "Vehicle ID :Vin14 | \u001b[4mMaserati Quatroporte S Granlusso\u001b[0m 2021 Color: White Passengers: 5 Luggage: 4 Transmission: Auto Doors: 4 Rates: Hourly: $146 Daily: $3504 Weekly: $24528\n",
      "Vehicle ID :Vin15 | \u001b[4mLamborghini Huracan EVO SPyder\u001b[0m 2021 Color: Green Passengers: 2 Luggage: 2 Transmission: Auto Doors: 2 Rates: Hourly: $157 Daily: $3768 Weekly: $26376\n",
      "Vehicle ID :Vin16 | \u001b[4mRolls Royce Cullinan\u001b[0m 2021 Color: White Passengers: 7 Luggage: 5 Transmission: Auto Doors: 4 Rates: Hourly: $157 Daily: $3768 Weekly: $26376\n",
      "Vehicle ID :Vin17 | \u001b[4mDodge Charger SRT Hellcat Widebody\u001b[0m 2022 Color: Blue Passengers: 5 Luggage: 5 Transmission: Auto Doors: 4 Rates: Hourly: $130 Daily: $3120 Weekly: $21840\n",
      "Vehicle ID :Vin18 | \u001b[4mPorsche 911 Carrera 4S Cabriolet\u001b[0m 2023 Color: Red Passengers: 2 Luggage: 2 Transmission: Auto Doors: 2 Rates: Hourly: $80 Daily: $1920 Weekly: $13440\n",
      "Vehicle ID :Vin19 | \u001b[4mMercedes-Benz Maybach GLS 600 AMG\u001b[0m 2023 Color: Blue Passengers: 4 Luggage: 5 Transmission: Auto Doors: 4 Rates: Hourly: $146 Daily: $3504 Weekly: $24528\n",
      "Vehicle ID :Vin20 | \u001b[4mJeep Gladiator 6x6\u001b[0m 2024 Color: Red Passengers: 7 Luggage: 8 Transmission: Auto Doors: 4 Rates: Hourly: $208 Daily: $4992 Weekly: $34944\n",
      "\n",
      "\n",
      "Enter the Vehicle ID for vehicle  1  Example, type: Vin11\n"
     ]
    },
    {
     "name": "stdout",
     "output_type": "stream",
     "text": [
      " Vin20\n"
     ]
    },
    {
     "name": "stdout",
     "output_type": "stream",
     "text": [
      "\n",
      "\n",
      "Please enter the pickup time for your reservation.\n"
     ]
    },
    {
     "name": "stdout",
     "output_type": "stream",
     "text": [
      "Enter the date and time (MM/DD/YYYY HH:MM AM or PM. THE EXACT FORMAT MUST BE FOLLOWED):  4/17/2024 8:00 AM\n"
     ]
    },
    {
     "name": "stdout",
     "output_type": "stream",
     "text": [
      "Validated time: Wednesday, April 17, 2024 08:00 AM\n",
      "\n",
      "\n",
      "Please enter the drop off or return time for your reservation.\n"
     ]
    },
    {
     "name": "stdout",
     "output_type": "stream",
     "text": [
      "Enter the date and time (MM/DD/YYYY HH:MM AM or PM. THE EXACT FORMAT MUST BE FOLLOWED):  04/17/2024 12:00 PM\n"
     ]
    },
    {
     "name": "stdout",
     "output_type": "stream",
     "text": [
      "Validated time: Wednesday, April 17, 2024 12:00 PM\n",
      "\n",
      "\n",
      "Rental Duration Details:\n",
      "-------------------------\n",
      "duration :  4:00:00\n",
      "total_hours :  4.0\n",
      "Rental Period: Hourly\n",
      "-------------------------------------------------------------------------------\n",
      "Rental Details:\n",
      "-------------------------------------------------\n",
      "Vehicle(s):\n",
      "Vehicle: Jeep Gladiator 6x6 2024 Color: Red Passengers: 7 Luggage: 8 Transmission: Auto Doors: 4 Rental Period: Hourly Rate: $208\n",
      "-------------------------------------------------\n",
      "Pickup Time:  Wednesday, April 17, 2024 08:00 AM\n",
      "Return Time:  Wednesday, April 17, 2024 12:00 PM\n",
      "Ontime Return Cost:  832.0\n",
      "\n",
      "\n",
      "NOTE: All vehicles must be rented at the same time and returned at the same time. Early returns will be charged the full rental rate.\n",
      "\n",
      "\n",
      "LATE FEE INFORMATION : \n",
      "For Hourly Rentals: There will be a $20 late fee added to the hourly rate for every hour late.\n",
      "\n",
      "\n"
     ]
    },
    {
     "name": "stdout",
     "output_type": "stream",
     "text": [
      "Would you like to confirm this reservation? (Y/N):  Y\n"
     ]
    },
    {
     "name": "stdout",
     "output_type": "stream",
     "text": [
      "Reservation confirmed. Thank you!\n",
      "\n",
      "\n",
      "---------------------------------- Welcome To Luxury Car Rentals --------------------------------\n",
      "1. Display Available Cars Inventory\n",
      "2. Rent Vehicle(s)\n",
      "3. Return Vehicle(s)\n",
      "4. Exit Menu\n",
      "--------------------------------------------------------------------------------------------------\n",
      "\n",
      "\n"
     ]
    },
    {
     "name": "stdout",
     "output_type": "stream",
     "text": [
      "Please select an option from the menu above:  2\n"
     ]
    },
    {
     "name": "stdout",
     "output_type": "stream",
     "text": [
      "Rent Vehicle(s)\n",
      "-------------------------------\n"
     ]
    },
    {
     "name": "stdout",
     "output_type": "stream",
     "text": [
      "Do you have an account with us? (yes/no):  yes\n",
      "Enter your Driver's License Number:  DL1234\n"
     ]
    },
    {
     "name": "stdout",
     "output_type": "stream",
     "text": [
      "Found it!\n",
      "Welcome back, Mee Toop!\n",
      "\n",
      "\n",
      "Active Rental:  {'DL1234': [['Vin20', 'Jeep', 'Gladiator 6x6', 2024, 'Red', 7, 8, 'Auto', 4, 'Hourly', 208]]}\n",
      "\n",
      "\n",
      "It looks like you have an active rental. Please return the vehicle(s) before renting another one.\n"
     ]
    },
    {
     "name": "stdout",
     "output_type": "stream",
     "text": [
      "Press Enter to continue... \n"
     ]
    },
    {
     "name": "stdout",
     "output_type": "stream",
     "text": [
      "\n",
      "\n",
      "---------------------------------- Welcome To Luxury Car Rentals --------------------------------\n",
      "1. Display Available Cars Inventory\n",
      "2. Rent Vehicle(s)\n",
      "3. Return Vehicle(s)\n",
      "4. Exit Menu\n",
      "--------------------------------------------------------------------------------------------------\n",
      "\n",
      "\n"
     ]
    },
    {
     "name": "stdout",
     "output_type": "stream",
     "text": [
      "Please select an option from the menu above:  2\n"
     ]
    },
    {
     "name": "stdout",
     "output_type": "stream",
     "text": [
      "Rent Vehicle(s)\n",
      "-------------------------------\n"
     ]
    },
    {
     "name": "stdout",
     "output_type": "stream",
     "text": [
      "Do you have an account with us? (yes/no):  no\n",
      "Enter your age:  11\n"
     ]
    },
    {
     "name": "stdout",
     "output_type": "stream",
     "text": [
      "You must be 18 years or older to rent a vehicle.\n"
     ]
    },
    {
     "name": "stdout",
     "output_type": "stream",
     "text": [
      "Press Enter to continue... \n"
     ]
    },
    {
     "name": "stdout",
     "output_type": "stream",
     "text": [
      "\n",
      "\n",
      "---------------------------------- Welcome To Luxury Car Rentals --------------------------------\n",
      "1. Display Available Cars Inventory\n",
      "2. Rent Vehicle(s)\n",
      "3. Return Vehicle(s)\n",
      "4. Exit Menu\n",
      "--------------------------------------------------------------------------------------------------\n",
      "\n",
      "\n"
     ]
    },
    {
     "name": "stdout",
     "output_type": "stream",
     "text": [
      "Please select an option from the menu above:  2\n"
     ]
    },
    {
     "name": "stdout",
     "output_type": "stream",
     "text": [
      "Rent Vehicle(s)\n",
      "-------------------------------\n"
     ]
    },
    {
     "name": "stdout",
     "output_type": "stream",
     "text": [
      "Do you have an account with us? (yes/no):  no\n",
      "Enter your age:  29\n",
      "Enter your first name:  Jake\n",
      "Enter your last name:  DD\n",
      "Enter your driver's license number:  DL12345\n",
      "Enter your email address:  \n",
      "Enter your phone number:  \n"
     ]
    },
    {
     "name": "stdout",
     "output_type": "stream",
     "text": [
      "\n",
      "\n",
      "Customer Information: \n",
      "-------------------------\n",
      "Customer Account Number:  DL12345\n",
      "First Name:  Jake\n",
      "Last Name:  DD\n",
      "Email:  \n",
      "Phone:  \n"
     ]
    },
    {
     "name": "stdout",
     "output_type": "stream",
     "text": [
      "Press Enter to continue... \n"
     ]
    },
    {
     "name": "stdout",
     "output_type": "stream",
     "text": [
      "\n",
      "\n"
     ]
    },
    {
     "name": "stdout",
     "output_type": "stream",
     "text": [
      "How many vehicles would you like to rent?  1\n"
     ]
    },
    {
     "name": "stdout",
     "output_type": "stream",
     "text": [
      "AVAILABILITY :  19  available cars\n",
      "\n",
      "\n",
      "Rental Period Choices:\n",
      "1. Hourly\n",
      "2. Daily\n",
      "3. Weekly\n",
      "\n",
      "\n",
      "Enter Option for rental period. Example, type: 3 for weekly rental. Note: (All vehicles must be rented at same time and returned at the same time.)\n"
     ]
    },
    {
     "name": "stdout",
     "output_type": "stream",
     "text": [
      " 2\n"
     ]
    },
    {
     "name": "stdout",
     "output_type": "stream",
     "text": [
      "\n",
      "\n",
      "------Available Vehicles------\n",
      "\n",
      "\n",
      "Vehicle ID :Vin1 | \u001b[4mFerrari 488 Pista Coupe\u001b[0m 2020 Color: Red Passengers: 2 Luggage: 4 Transmission: Auto Doors: 2 Rates: Hourly: $105 Daily: $2520 Weekly: $17640\n",
      "Vehicle ID :Vin2 | \u001b[4mLamborghini Aventador SVJ\u001b[0m 2022 Color: Black Passengers: 4 Luggage: 4 Transmission: Auto Doors: 4 Rates: Hourly: $125 Daily: $3000 Weekly: $21000\n",
      "Vehicle ID :Vin3 | \u001b[4mMcLaren 720S\u001b[0m 2022 Color: Blue Passengers: 2 Luggage: 2 Transmission: Auto Doors: 2 Rates: Hourly: $105 Daily: $2520 Weekly: $17640\n",
      "Vehicle ID :Vin4 | \u001b[4mPorsche 911 GT3\u001b[0m 2022 Color: White Passengers: 2 Luggage: 2 Transmission: Auto Doors: 2 Rates: Hourly: $85 Daily: $2040 Weekly: $14280\n",
      "Vehicle ID :Vin5 | \u001b[4mAudi R8\u001b[0m 2020 Color: Silver Passengers: 2 Luggage: 4 Transmission: Manual Doors: 2 Rates: Hourly: $125 Daily: $3000 Weekly: $21000\n",
      "Vehicle ID :Vin6 | \u001b[4mBMW M8\u001b[0m 2022 Color: Black Passengers: 2 Luggage: 2 Transmission: Manual Doors: 2 Rates: Hourly: $115 Daily: $2760 Weekly: $19320\n",
      "Vehicle ID :Vin7 | \u001b[4mMercedes-Benz AMG GT\u001b[0m 2024 Color: Red Passengers: 2 Luggage: 2 Transmission: Auto Doors: 2 Rates: Hourly: $146 Daily: $3504 Weekly: $24528\n",
      "Vehicle ID :Vin8 | \u001b[4mRoll Royce Phantom\u001b[0m 2022 Color: Blue Passengers: 4 Luggage: 5 Transmission: Auto Doors: 4 Rates: Hourly: $167 Daily: $4008 Weekly: $28056\n",
      "Vehicle ID :Vin9 | \u001b[4mLamborghini Aventador SV Roadster\u001b[0m 2018 Color: Yellow Passengers: 2 Luggage: 2 Transmission: Auto Doors: 2 Rates: Hourly: $95 Daily: $2280 Weekly: $15960\n",
      "Vehicle ID :Vin10 | \u001b[4mMercedes-Benz Brabus G Class 4x4 AMG\u001b[0m 2019 Color: Red Passengers: 5 Luggage: 9 Transmission: Auto Doors: 5 Rates: Hourly: $188 Daily: $4512 Weekly: $31584\n",
      "Vehicle ID :Vin11 | \u001b[4mNissan GT-R\u001b[0m 2018 Color: Blue Passengers: 2 Luggage: 4 Transmission: Manual Doors: 2 Rates: Hourly: $85 Daily: $2040 Weekly: $14280\n",
      "Vehicle ID :Vin12 | \u001b[4mRolls Royce Dawn Convertible\u001b[0m 2019 Color: Blue Passengers: 4 Luggage: 4 Transmission: Auto Doors: 2 Rates: Hourly: $146 Daily: $3504 Weekly: $24528\n",
      "Vehicle ID :Vin13 | \u001b[4mFerrari 488 GTS Convertible\u001b[0m 2019 Color: Blue Passengers: 2 Luggage: 2 Transmission: Auto Doors: 2 Rates: Hourly: $125 Daily: $3000 Weekly: $21000\n",
      "Vehicle ID :Vin14 | \u001b[4mMaserati Quatroporte S Granlusso\u001b[0m 2021 Color: White Passengers: 5 Luggage: 4 Transmission: Auto Doors: 4 Rates: Hourly: $146 Daily: $3504 Weekly: $24528\n",
      "Vehicle ID :Vin15 | \u001b[4mLamborghini Huracan EVO SPyder\u001b[0m 2021 Color: Green Passengers: 2 Luggage: 2 Transmission: Auto Doors: 2 Rates: Hourly: $157 Daily: $3768 Weekly: $26376\n",
      "Vehicle ID :Vin16 | \u001b[4mRolls Royce Cullinan\u001b[0m 2021 Color: White Passengers: 7 Luggage: 5 Transmission: Auto Doors: 4 Rates: Hourly: $157 Daily: $3768 Weekly: $26376\n",
      "Vehicle ID :Vin17 | \u001b[4mDodge Charger SRT Hellcat Widebody\u001b[0m 2022 Color: Blue Passengers: 5 Luggage: 5 Transmission: Auto Doors: 4 Rates: Hourly: $130 Daily: $3120 Weekly: $21840\n",
      "Vehicle ID :Vin18 | \u001b[4mPorsche 911 Carrera 4S Cabriolet\u001b[0m 2023 Color: Red Passengers: 2 Luggage: 2 Transmission: Auto Doors: 2 Rates: Hourly: $80 Daily: $1920 Weekly: $13440\n",
      "Vehicle ID :Vin19 | \u001b[4mMercedes-Benz Maybach GLS 600 AMG\u001b[0m 2023 Color: Blue Passengers: 4 Luggage: 5 Transmission: Auto Doors: 4 Rates: Hourly: $146 Daily: $3504 Weekly: $24528\n",
      "\n",
      "\n",
      "Enter the Vehicle ID for vehicle  1  Example, type: Vin11\n"
     ]
    },
    {
     "name": "stdout",
     "output_type": "stream",
     "text": [
      " Vin19\n"
     ]
    },
    {
     "name": "stdout",
     "output_type": "stream",
     "text": [
      "\n",
      "\n",
      "Please enter the pickup time for your reservation.\n"
     ]
    },
    {
     "name": "stdout",
     "output_type": "stream",
     "text": [
      "Enter the date and time (MM/DD/YYYY HH:MM AM or PM. THE EXACT FORMAT MUST BE FOLLOWED):  4/16/2024 7:00 AM\n"
     ]
    },
    {
     "name": "stdout",
     "output_type": "stream",
     "text": [
      "The time can not be in the past. Please enter a correct date and time.\n"
     ]
    },
    {
     "name": "stdout",
     "output_type": "stream",
     "text": [
      "Enter the date and time (MM/DD/YYYY HH:MM AM or PM. THE EXACT FORMAT MUST BE FOLLOWED):  4/17/2024 5:00 AM\n"
     ]
    },
    {
     "name": "stdout",
     "output_type": "stream",
     "text": [
      "Validated time: Wednesday, April 17, 2024 05:00 AM\n",
      "\n",
      "\n",
      "Please enter the drop off or return time for your reservation.\n"
     ]
    },
    {
     "name": "stdout",
     "output_type": "stream",
     "text": [
      "Enter the date and time (MM/DD/YYYY HH:MM AM or PM. THE EXACT FORMAT MUST BE FOLLOWED):  4/17/24 12:00 PM\n"
     ]
    },
    {
     "name": "stdout",
     "output_type": "stream",
     "text": [
      "Invalid format or incorrect date/time values. Please enter a valid date and time.\n"
     ]
    },
    {
     "name": "stdout",
     "output_type": "stream",
     "text": [
      "Enter the date and time (MM/DD/YYYY HH:MM AM or PM. THE EXACT FORMAT MUST BE FOLLOWED):  4/17/2024 12:00 PM\n"
     ]
    },
    {
     "name": "stdout",
     "output_type": "stream",
     "text": [
      "Validated time: Wednesday, April 17, 2024 12:00 PM\n",
      "\n",
      "\n",
      "Rental Duration Details:\n",
      "-------------------------\n",
      "duration :  7:00:00\n",
      "total_days :  0.2916666666666667\n",
      "Rental Duration:  0.2916666666666667\n",
      "\n",
      "\n",
      "Invalid rental period. For daily rentals please rent for a minimum of 1 day with a maximum number of 7 days.\n",
      "\n",
      "\n"
     ]
    },
    {
     "name": "stdout",
     "output_type": "stream",
     "text": [
      "Press Enter to continue with daily rental OR Type: cancel and Press Enter to go back to main menu and try again cancel\n"
     ]
    },
    {
     "name": "stdout",
     "output_type": "stream",
     "text": [
      "\n",
      "\n",
      "---------------------------------- Welcome To Luxury Car Rentals --------------------------------\n",
      "1. Display Available Cars Inventory\n",
      "2. Rent Vehicle(s)\n",
      "3. Return Vehicle(s)\n",
      "4. Exit Menu\n",
      "--------------------------------------------------------------------------------------------------\n",
      "\n",
      "\n"
     ]
    },
    {
     "name": "stdout",
     "output_type": "stream",
     "text": [
      "Please select an option from the menu above:  1\n"
     ]
    },
    {
     "name": "stdout",
     "output_type": "stream",
     "text": [
      "\n",
      "\n",
      "Available Cars Inventory\n",
      "-------------------------------\n",
      "Vehicle ID :Vin1 | \u001b[4mFerrari 488 Pista Coupe\u001b[0m 2020 Color: Red Passengers: 2 Luggage: 4 Transmission: Auto Doors: 2 Rates: Hourly: $105 Daily: $2520 Weekly: $17640\n",
      "Vehicle ID :Vin2 | \u001b[4mLamborghini Aventador SVJ\u001b[0m 2022 Color: Black Passengers: 4 Luggage: 4 Transmission: Auto Doors: 4 Rates: Hourly: $125 Daily: $3000 Weekly: $21000\n",
      "Vehicle ID :Vin3 | \u001b[4mMcLaren 720S\u001b[0m 2022 Color: Blue Passengers: 2 Luggage: 2 Transmission: Auto Doors: 2 Rates: Hourly: $105 Daily: $2520 Weekly: $17640\n",
      "Vehicle ID :Vin4 | \u001b[4mPorsche 911 GT3\u001b[0m 2022 Color: White Passengers: 2 Luggage: 2 Transmission: Auto Doors: 2 Rates: Hourly: $85 Daily: $2040 Weekly: $14280\n",
      "Vehicle ID :Vin5 | \u001b[4mAudi R8\u001b[0m 2020 Color: Silver Passengers: 2 Luggage: 4 Transmission: Manual Doors: 2 Rates: Hourly: $125 Daily: $3000 Weekly: $21000\n",
      "Vehicle ID :Vin6 | \u001b[4mBMW M8\u001b[0m 2022 Color: Black Passengers: 2 Luggage: 2 Transmission: Manual Doors: 2 Rates: Hourly: $115 Daily: $2760 Weekly: $19320\n",
      "Vehicle ID :Vin7 | \u001b[4mMercedes-Benz AMG GT\u001b[0m 2024 Color: Red Passengers: 2 Luggage: 2 Transmission: Auto Doors: 2 Rates: Hourly: $146 Daily: $3504 Weekly: $24528\n",
      "Vehicle ID :Vin8 | \u001b[4mRoll Royce Phantom\u001b[0m 2022 Color: Blue Passengers: 4 Luggage: 5 Transmission: Auto Doors: 4 Rates: Hourly: $167 Daily: $4008 Weekly: $28056\n",
      "Vehicle ID :Vin9 | \u001b[4mLamborghini Aventador SV Roadster\u001b[0m 2018 Color: Yellow Passengers: 2 Luggage: 2 Transmission: Auto Doors: 2 Rates: Hourly: $95 Daily: $2280 Weekly: $15960\n",
      "Vehicle ID :Vin10 | \u001b[4mMercedes-Benz Brabus G Class 4x4 AMG\u001b[0m 2019 Color: Red Passengers: 5 Luggage: 9 Transmission: Auto Doors: 5 Rates: Hourly: $188 Daily: $4512 Weekly: $31584\n",
      "Vehicle ID :Vin11 | \u001b[4mNissan GT-R\u001b[0m 2018 Color: Blue Passengers: 2 Luggage: 4 Transmission: Manual Doors: 2 Rates: Hourly: $85 Daily: $2040 Weekly: $14280\n",
      "Vehicle ID :Vin12 | \u001b[4mRolls Royce Dawn Convertible\u001b[0m 2019 Color: Blue Passengers: 4 Luggage: 4 Transmission: Auto Doors: 2 Rates: Hourly: $146 Daily: $3504 Weekly: $24528\n",
      "Vehicle ID :Vin13 | \u001b[4mFerrari 488 GTS Convertible\u001b[0m 2019 Color: Blue Passengers: 2 Luggage: 2 Transmission: Auto Doors: 2 Rates: Hourly: $125 Daily: $3000 Weekly: $21000\n",
      "Vehicle ID :Vin14 | \u001b[4mMaserati Quatroporte S Granlusso\u001b[0m 2021 Color: White Passengers: 5 Luggage: 4 Transmission: Auto Doors: 4 Rates: Hourly: $146 Daily: $3504 Weekly: $24528\n",
      "Vehicle ID :Vin15 | \u001b[4mLamborghini Huracan EVO SPyder\u001b[0m 2021 Color: Green Passengers: 2 Luggage: 2 Transmission: Auto Doors: 2 Rates: Hourly: $157 Daily: $3768 Weekly: $26376\n",
      "Vehicle ID :Vin16 | \u001b[4mRolls Royce Cullinan\u001b[0m 2021 Color: White Passengers: 7 Luggage: 5 Transmission: Auto Doors: 4 Rates: Hourly: $157 Daily: $3768 Weekly: $26376\n",
      "Vehicle ID :Vin17 | \u001b[4mDodge Charger SRT Hellcat Widebody\u001b[0m 2022 Color: Blue Passengers: 5 Luggage: 5 Transmission: Auto Doors: 4 Rates: Hourly: $130 Daily: $3120 Weekly: $21840\n",
      "Vehicle ID :Vin18 | \u001b[4mPorsche 911 Carrera 4S Cabriolet\u001b[0m 2023 Color: Red Passengers: 2 Luggage: 2 Transmission: Auto Doors: 2 Rates: Hourly: $80 Daily: $1920 Weekly: $13440\n",
      "Vehicle ID :Vin19 | \u001b[4mMercedes-Benz Maybach GLS 600 AMG\u001b[0m 2023 Color: Blue Passengers: 4 Luggage: 5 Transmission: Auto Doors: 4 Rates: Hourly: $146 Daily: $3504 Weekly: $24528\n"
     ]
    },
    {
     "name": "stdout",
     "output_type": "stream",
     "text": [
      "Press Enter to continue... \n"
     ]
    },
    {
     "name": "stdout",
     "output_type": "stream",
     "text": [
      "\n",
      "\n",
      "\n",
      "\n",
      "---------------------------------- Welcome To Luxury Car Rentals --------------------------------\n",
      "1. Display Available Cars Inventory\n",
      "2. Rent Vehicle(s)\n",
      "3. Return Vehicle(s)\n",
      "4. Exit Menu\n",
      "--------------------------------------------------------------------------------------------------\n",
      "\n",
      "\n"
     ]
    },
    {
     "name": "stdout",
     "output_type": "stream",
     "text": [
      "Please select an option from the menu above:  2\n"
     ]
    },
    {
     "name": "stdout",
     "output_type": "stream",
     "text": [
      "Rent Vehicle(s)\n",
      "-------------------------------\n"
     ]
    },
    {
     "name": "stdout",
     "output_type": "stream",
     "text": [
      "Do you have an account with us? (yes/no):  no\n",
      "Enter your age:  23\n",
      "Enter your first name:  Mike\n",
      "Enter your last name:  BB\n",
      "Enter your driver's license number:  DL12345\n",
      "Enter your email address:  \n",
      "Enter your phone number:  \n"
     ]
    },
    {
     "name": "stdout",
     "output_type": "stream",
     "text": [
      "Customer already exists in the database. Please try again.\n"
     ]
    },
    {
     "name": "stdout",
     "output_type": "stream",
     "text": [
      "Press Enter to continue... \n"
     ]
    },
    {
     "name": "stdout",
     "output_type": "stream",
     "text": [
      "\n",
      "\n",
      "---------------------------------- Welcome To Luxury Car Rentals --------------------------------\n",
      "1. Display Available Cars Inventory\n",
      "2. Rent Vehicle(s)\n",
      "3. Return Vehicle(s)\n",
      "4. Exit Menu\n",
      "--------------------------------------------------------------------------------------------------\n",
      "\n",
      "\n"
     ]
    },
    {
     "name": "stdout",
     "output_type": "stream",
     "text": [
      "Please select an option from the menu above:  2\n"
     ]
    },
    {
     "name": "stdout",
     "output_type": "stream",
     "text": [
      "Rent Vehicle(s)\n",
      "-------------------------------\n"
     ]
    },
    {
     "name": "stdout",
     "output_type": "stream",
     "text": [
      "Do you have an account with us? (yes/no):  yes\n",
      "Enter your Driver's License Number:  DL12345\n"
     ]
    },
    {
     "name": "stdout",
     "output_type": "stream",
     "text": [
      "Found it!\n",
      "Welcome back, Jake DD!\n",
      "\n",
      "\n",
      "Active Rental:  False\n",
      "\n",
      "\n"
     ]
    },
    {
     "name": "stdout",
     "output_type": "stream",
     "text": [
      "Press Enter to continue... \n"
     ]
    },
    {
     "name": "stdout",
     "output_type": "stream",
     "text": [
      "\n",
      "\n"
     ]
    },
    {
     "name": "stdout",
     "output_type": "stream",
     "text": [
      "How many vehicles would you like to rent?  1\n"
     ]
    },
    {
     "name": "stdout",
     "output_type": "stream",
     "text": [
      "AVAILABILITY :  19  available cars\n",
      "\n",
      "\n",
      "Rental Period Choices:\n",
      "1. Hourly\n",
      "2. Daily\n",
      "3. Weekly\n",
      "\n",
      "\n",
      "Enter Option for rental period. Example, type: 3 for weekly rental. Note: (All vehicles must be rented at same time and returned at the same time.)\n"
     ]
    },
    {
     "name": "stdout",
     "output_type": "stream",
     "text": [
      " 2\n"
     ]
    },
    {
     "name": "stdout",
     "output_type": "stream",
     "text": [
      "\n",
      "\n",
      "------Available Vehicles------\n",
      "\n",
      "\n",
      "Vehicle ID :Vin1 | \u001b[4mFerrari 488 Pista Coupe\u001b[0m 2020 Color: Red Passengers: 2 Luggage: 4 Transmission: Auto Doors: 2 Rates: Hourly: $105 Daily: $2520 Weekly: $17640\n",
      "Vehicle ID :Vin2 | \u001b[4mLamborghini Aventador SVJ\u001b[0m 2022 Color: Black Passengers: 4 Luggage: 4 Transmission: Auto Doors: 4 Rates: Hourly: $125 Daily: $3000 Weekly: $21000\n",
      "Vehicle ID :Vin3 | \u001b[4mMcLaren 720S\u001b[0m 2022 Color: Blue Passengers: 2 Luggage: 2 Transmission: Auto Doors: 2 Rates: Hourly: $105 Daily: $2520 Weekly: $17640\n",
      "Vehicle ID :Vin4 | \u001b[4mPorsche 911 GT3\u001b[0m 2022 Color: White Passengers: 2 Luggage: 2 Transmission: Auto Doors: 2 Rates: Hourly: $85 Daily: $2040 Weekly: $14280\n",
      "Vehicle ID :Vin5 | \u001b[4mAudi R8\u001b[0m 2020 Color: Silver Passengers: 2 Luggage: 4 Transmission: Manual Doors: 2 Rates: Hourly: $125 Daily: $3000 Weekly: $21000\n",
      "Vehicle ID :Vin6 | \u001b[4mBMW M8\u001b[0m 2022 Color: Black Passengers: 2 Luggage: 2 Transmission: Manual Doors: 2 Rates: Hourly: $115 Daily: $2760 Weekly: $19320\n",
      "Vehicle ID :Vin7 | \u001b[4mMercedes-Benz AMG GT\u001b[0m 2024 Color: Red Passengers: 2 Luggage: 2 Transmission: Auto Doors: 2 Rates: Hourly: $146 Daily: $3504 Weekly: $24528\n",
      "Vehicle ID :Vin8 | \u001b[4mRoll Royce Phantom\u001b[0m 2022 Color: Blue Passengers: 4 Luggage: 5 Transmission: Auto Doors: 4 Rates: Hourly: $167 Daily: $4008 Weekly: $28056\n",
      "Vehicle ID :Vin9 | \u001b[4mLamborghini Aventador SV Roadster\u001b[0m 2018 Color: Yellow Passengers: 2 Luggage: 2 Transmission: Auto Doors: 2 Rates: Hourly: $95 Daily: $2280 Weekly: $15960\n",
      "Vehicle ID :Vin10 | \u001b[4mMercedes-Benz Brabus G Class 4x4 AMG\u001b[0m 2019 Color: Red Passengers: 5 Luggage: 9 Transmission: Auto Doors: 5 Rates: Hourly: $188 Daily: $4512 Weekly: $31584\n",
      "Vehicle ID :Vin11 | \u001b[4mNissan GT-R\u001b[0m 2018 Color: Blue Passengers: 2 Luggage: 4 Transmission: Manual Doors: 2 Rates: Hourly: $85 Daily: $2040 Weekly: $14280\n",
      "Vehicle ID :Vin12 | \u001b[4mRolls Royce Dawn Convertible\u001b[0m 2019 Color: Blue Passengers: 4 Luggage: 4 Transmission: Auto Doors: 2 Rates: Hourly: $146 Daily: $3504 Weekly: $24528\n",
      "Vehicle ID :Vin13 | \u001b[4mFerrari 488 GTS Convertible\u001b[0m 2019 Color: Blue Passengers: 2 Luggage: 2 Transmission: Auto Doors: 2 Rates: Hourly: $125 Daily: $3000 Weekly: $21000\n",
      "Vehicle ID :Vin14 | \u001b[4mMaserati Quatroporte S Granlusso\u001b[0m 2021 Color: White Passengers: 5 Luggage: 4 Transmission: Auto Doors: 4 Rates: Hourly: $146 Daily: $3504 Weekly: $24528\n",
      "Vehicle ID :Vin15 | \u001b[4mLamborghini Huracan EVO SPyder\u001b[0m 2021 Color: Green Passengers: 2 Luggage: 2 Transmission: Auto Doors: 2 Rates: Hourly: $157 Daily: $3768 Weekly: $26376\n",
      "Vehicle ID :Vin16 | \u001b[4mRolls Royce Cullinan\u001b[0m 2021 Color: White Passengers: 7 Luggage: 5 Transmission: Auto Doors: 4 Rates: Hourly: $157 Daily: $3768 Weekly: $26376\n",
      "Vehicle ID :Vin17 | \u001b[4mDodge Charger SRT Hellcat Widebody\u001b[0m 2022 Color: Blue Passengers: 5 Luggage: 5 Transmission: Auto Doors: 4 Rates: Hourly: $130 Daily: $3120 Weekly: $21840\n",
      "Vehicle ID :Vin18 | \u001b[4mPorsche 911 Carrera 4S Cabriolet\u001b[0m 2023 Color: Red Passengers: 2 Luggage: 2 Transmission: Auto Doors: 2 Rates: Hourly: $80 Daily: $1920 Weekly: $13440\n",
      "Vehicle ID :Vin19 | \u001b[4mMercedes-Benz Maybach GLS 600 AMG\u001b[0m 2023 Color: Blue Passengers: 4 Luggage: 5 Transmission: Auto Doors: 4 Rates: Hourly: $146 Daily: $3504 Weekly: $24528\n",
      "\n",
      "\n",
      "Enter the Vehicle ID for vehicle  1  Example, type: Vin11\n"
     ]
    },
    {
     "name": "stdout",
     "output_type": "stream",
     "text": [
      " Vin19\n"
     ]
    },
    {
     "name": "stdout",
     "output_type": "stream",
     "text": [
      "\n",
      "\n",
      "Please enter the pickup time for your reservation.\n"
     ]
    },
    {
     "name": "stdout",
     "output_type": "stream",
     "text": [
      "Enter the date and time (MM/DD/YYYY HH:MM AM or PM. THE EXACT FORMAT MUST BE FOLLOWED):  4/17/2024 12:00 PM\n"
     ]
    },
    {
     "name": "stdout",
     "output_type": "stream",
     "text": [
      "Validated time: Wednesday, April 17, 2024 12:00 PM\n",
      "\n",
      "\n",
      "Please enter the drop off or return time for your reservation.\n"
     ]
    },
    {
     "name": "stdout",
     "output_type": "stream",
     "text": [
      "Enter the date and time (MM/DD/YYYY HH:MM AM or PM. THE EXACT FORMAT MUST BE FOLLOWED):  4/19/2024 12:00 PM\n"
     ]
    },
    {
     "name": "stdout",
     "output_type": "stream",
     "text": [
      "Validated time: Friday, April 19, 2024 12:00 PM\n",
      "\n",
      "\n",
      "Rental Duration Details:\n",
      "-------------------------\n",
      "duration :  2 days, 0:00:00\n",
      "total_days :  2.0\n",
      "Rental Period: Daily\n",
      "-------------------------------------------------------------------------------\n",
      "Rental Details:\n",
      "-------------------------------------------------\n",
      "Vehicle(s):\n",
      "Vehicle: Mercedes-Benz Maybach GLS 600 AMG 2023 Color: Blue Passengers: 4 Luggage: 5 Transmission: Auto Doors: 4 Rental Period: Daily Rate: $3504\n",
      "-------------------------------------------------\n",
      "Pickup Time:  Wednesday, April 17, 2024 12:00 PM\n",
      "Return Time:  Friday, April 19, 2024 12:00 PM\n",
      "Ontime Return Cost:  7008.0\n",
      "\n",
      "\n",
      "NOTE: All vehicles must be rented at the same time and returned at the same time. Early returns will be charged the full rental rate.\n",
      "\n",
      "\n",
      "LATE FEE INFORMATION : \n",
      "For Daily Rentals: There will be a $480 late fee added to the daily rate for every day late or part thereof, which is equivalent to a $20 late fee for every hour late.\n",
      "\n",
      "\n"
     ]
    },
    {
     "name": "stdout",
     "output_type": "stream",
     "text": [
      "Would you like to confirm this reservation? (Y/N):  Y\n"
     ]
    },
    {
     "name": "stdout",
     "output_type": "stream",
     "text": [
      "Reservation confirmed. Thank you!\n",
      "\n",
      "\n",
      "---------------------------------- Welcome To Luxury Car Rentals --------------------------------\n",
      "1. Display Available Cars Inventory\n",
      "2. Rent Vehicle(s)\n",
      "3. Return Vehicle(s)\n",
      "4. Exit Menu\n",
      "--------------------------------------------------------------------------------------------------\n",
      "\n",
      "\n"
     ]
    },
    {
     "name": "stdout",
     "output_type": "stream",
     "text": [
      "Please select an option from the menu above:  2\n"
     ]
    },
    {
     "name": "stdout",
     "output_type": "stream",
     "text": [
      "Rent Vehicle(s)\n",
      "-------------------------------\n"
     ]
    },
    {
     "name": "stdout",
     "output_type": "stream",
     "text": [
      "Do you have an account with us? (yes/no):  no\n",
      "Enter your age:  23\n",
      "Enter your first name:  Meme\n",
      "Enter your last name:  Doow\n",
      "Enter your driver's license number:  DL1111\n",
      "Enter your email address:  \n",
      "Enter your phone number:  \n"
     ]
    },
    {
     "name": "stdout",
     "output_type": "stream",
     "text": [
      "\n",
      "\n",
      "Customer Information: \n",
      "-------------------------\n",
      "Customer Account Number:  DL1111\n",
      "First Name:  Meme\n",
      "Last Name:  Doow\n",
      "Email:  \n",
      "Phone:  \n"
     ]
    },
    {
     "name": "stdout",
     "output_type": "stream",
     "text": [
      "Press Enter to continue... \n"
     ]
    },
    {
     "name": "stdout",
     "output_type": "stream",
     "text": [
      "\n",
      "\n"
     ]
    },
    {
     "name": "stdout",
     "output_type": "stream",
     "text": [
      "How many vehicles would you like to rent?  1\n"
     ]
    },
    {
     "name": "stdout",
     "output_type": "stream",
     "text": [
      "AVAILABILITY :  18  available cars\n",
      "\n",
      "\n",
      "Rental Period Choices:\n",
      "1. Hourly\n",
      "2. Daily\n",
      "3. Weekly\n",
      "\n",
      "\n",
      "Enter Option for rental period. Example, type: 3 for weekly rental. Note: (All vehicles must be rented at same time and returned at the same time.)\n"
     ]
    },
    {
     "name": "stdout",
     "output_type": "stream",
     "text": [
      " 3\n"
     ]
    },
    {
     "name": "stdout",
     "output_type": "stream",
     "text": [
      "\n",
      "\n",
      "------Available Vehicles------\n",
      "\n",
      "\n",
      "Vehicle ID :Vin1 | \u001b[4mFerrari 488 Pista Coupe\u001b[0m 2020 Color: Red Passengers: 2 Luggage: 4 Transmission: Auto Doors: 2 Rates: Hourly: $105 Daily: $2520 Weekly: $17640\n",
      "Vehicle ID :Vin2 | \u001b[4mLamborghini Aventador SVJ\u001b[0m 2022 Color: Black Passengers: 4 Luggage: 4 Transmission: Auto Doors: 4 Rates: Hourly: $125 Daily: $3000 Weekly: $21000\n",
      "Vehicle ID :Vin3 | \u001b[4mMcLaren 720S\u001b[0m 2022 Color: Blue Passengers: 2 Luggage: 2 Transmission: Auto Doors: 2 Rates: Hourly: $105 Daily: $2520 Weekly: $17640\n",
      "Vehicle ID :Vin4 | \u001b[4mPorsche 911 GT3\u001b[0m 2022 Color: White Passengers: 2 Luggage: 2 Transmission: Auto Doors: 2 Rates: Hourly: $85 Daily: $2040 Weekly: $14280\n",
      "Vehicle ID :Vin5 | \u001b[4mAudi R8\u001b[0m 2020 Color: Silver Passengers: 2 Luggage: 4 Transmission: Manual Doors: 2 Rates: Hourly: $125 Daily: $3000 Weekly: $21000\n",
      "Vehicle ID :Vin6 | \u001b[4mBMW M8\u001b[0m 2022 Color: Black Passengers: 2 Luggage: 2 Transmission: Manual Doors: 2 Rates: Hourly: $115 Daily: $2760 Weekly: $19320\n",
      "Vehicle ID :Vin7 | \u001b[4mMercedes-Benz AMG GT\u001b[0m 2024 Color: Red Passengers: 2 Luggage: 2 Transmission: Auto Doors: 2 Rates: Hourly: $146 Daily: $3504 Weekly: $24528\n",
      "Vehicle ID :Vin8 | \u001b[4mRoll Royce Phantom\u001b[0m 2022 Color: Blue Passengers: 4 Luggage: 5 Transmission: Auto Doors: 4 Rates: Hourly: $167 Daily: $4008 Weekly: $28056\n",
      "Vehicle ID :Vin9 | \u001b[4mLamborghini Aventador SV Roadster\u001b[0m 2018 Color: Yellow Passengers: 2 Luggage: 2 Transmission: Auto Doors: 2 Rates: Hourly: $95 Daily: $2280 Weekly: $15960\n",
      "Vehicle ID :Vin10 | \u001b[4mMercedes-Benz Brabus G Class 4x4 AMG\u001b[0m 2019 Color: Red Passengers: 5 Luggage: 9 Transmission: Auto Doors: 5 Rates: Hourly: $188 Daily: $4512 Weekly: $31584\n",
      "Vehicle ID :Vin11 | \u001b[4mNissan GT-R\u001b[0m 2018 Color: Blue Passengers: 2 Luggage: 4 Transmission: Manual Doors: 2 Rates: Hourly: $85 Daily: $2040 Weekly: $14280\n",
      "Vehicle ID :Vin12 | \u001b[4mRolls Royce Dawn Convertible\u001b[0m 2019 Color: Blue Passengers: 4 Luggage: 4 Transmission: Auto Doors: 2 Rates: Hourly: $146 Daily: $3504 Weekly: $24528\n",
      "Vehicle ID :Vin13 | \u001b[4mFerrari 488 GTS Convertible\u001b[0m 2019 Color: Blue Passengers: 2 Luggage: 2 Transmission: Auto Doors: 2 Rates: Hourly: $125 Daily: $3000 Weekly: $21000\n",
      "Vehicle ID :Vin14 | \u001b[4mMaserati Quatroporte S Granlusso\u001b[0m 2021 Color: White Passengers: 5 Luggage: 4 Transmission: Auto Doors: 4 Rates: Hourly: $146 Daily: $3504 Weekly: $24528\n",
      "Vehicle ID :Vin15 | \u001b[4mLamborghini Huracan EVO SPyder\u001b[0m 2021 Color: Green Passengers: 2 Luggage: 2 Transmission: Auto Doors: 2 Rates: Hourly: $157 Daily: $3768 Weekly: $26376\n",
      "Vehicle ID :Vin16 | \u001b[4mRolls Royce Cullinan\u001b[0m 2021 Color: White Passengers: 7 Luggage: 5 Transmission: Auto Doors: 4 Rates: Hourly: $157 Daily: $3768 Weekly: $26376\n",
      "Vehicle ID :Vin17 | \u001b[4mDodge Charger SRT Hellcat Widebody\u001b[0m 2022 Color: Blue Passengers: 5 Luggage: 5 Transmission: Auto Doors: 4 Rates: Hourly: $130 Daily: $3120 Weekly: $21840\n",
      "Vehicle ID :Vin18 | \u001b[4mPorsche 911 Carrera 4S Cabriolet\u001b[0m 2023 Color: Red Passengers: 2 Luggage: 2 Transmission: Auto Doors: 2 Rates: Hourly: $80 Daily: $1920 Weekly: $13440\n",
      "\n",
      "\n",
      "Enter the Vehicle ID for vehicle  1  Example, type: Vin11\n"
     ]
    },
    {
     "name": "stdout",
     "output_type": "stream",
     "text": [
      " Vin18\n"
     ]
    },
    {
     "name": "stdout",
     "output_type": "stream",
     "text": [
      "\n",
      "\n",
      "Please enter the pickup time for your reservation.\n"
     ]
    },
    {
     "name": "stdout",
     "output_type": "stream",
     "text": [
      "Enter the date and time (MM/DD/YYYY HH:MM AM or PM. THE EXACT FORMAT MUST BE FOLLOWED):  4/17/2024 1:00 PM\n"
     ]
    },
    {
     "name": "stdout",
     "output_type": "stream",
     "text": [
      "Validated time: Wednesday, April 17, 2024 01:00 PM\n",
      "\n",
      "\n",
      "Please enter the drop off or return time for your reservation.\n"
     ]
    },
    {
     "name": "stdout",
     "output_type": "stream",
     "text": [
      "Enter the date and time (MM/DD/YYYY HH:MM AM or PM. THE EXACT FORMAT MUST BE FOLLOWED):  5/10/2024 5:00 PM\n"
     ]
    },
    {
     "name": "stdout",
     "output_type": "stream",
     "text": [
      "Validated time: Friday, May 10, 2024 05:00 PM\n",
      "\n",
      "\n",
      "Rental Duration Details:\n",
      "-------------------------\n",
      "duration :  23 days, 4:00:00\n",
      "total_weeks :  3.3095238095238093\n",
      "Rental Period: Weekly\n",
      "-------------------------------------------------------------------------------\n",
      "Rental Details:\n",
      "-------------------------------------------------\n",
      "Vehicle(s):\n",
      "Vehicle: Porsche 911 Carrera 4S Cabriolet 2023 Color: Red Passengers: 2 Luggage: 2 Transmission: Auto Doors: 2 Rental Period: Weekly Rate: $13440\n",
      "-------------------------------------------------\n",
      "Pickup Time:  Wednesday, April 17, 2024 01:00 PM\n",
      "Return Time:  Friday, May 10, 2024 05:00 PM\n",
      "Ontime Return Cost:  44486.4\n",
      "\n",
      "\n",
      "NOTE: All vehicles must be rented at the same time and returned at the same time. Early returns will be charged the full rental rate.\n",
      "\n",
      "\n",
      "LATE FEE INFORMATION : \n",
      "Weekly Rental: There will be a $3360 late fee for every week late or part thereof, which is equivalent to a $20 late fee for every hour late.\n",
      "\n",
      "\n"
     ]
    },
    {
     "name": "stdout",
     "output_type": "stream",
     "text": [
      "Would you like to confirm this reservation? (Y/N):  Y\n"
     ]
    },
    {
     "name": "stdout",
     "output_type": "stream",
     "text": [
      "Reservation confirmed. Thank you!\n",
      "\n",
      "\n",
      "---------------------------------- Welcome To Luxury Car Rentals --------------------------------\n",
      "1. Display Available Cars Inventory\n",
      "2. Rent Vehicle(s)\n",
      "3. Return Vehicle(s)\n",
      "4. Exit Menu\n",
      "--------------------------------------------------------------------------------------------------\n",
      "\n",
      "\n"
     ]
    },
    {
     "name": "stdout",
     "output_type": "stream",
     "text": [
      "Please select an option from the menu above:  \n"
     ]
    },
    {
     "name": "stdout",
     "output_type": "stream",
     "text": [
      "Invalid Input. Please try again.\n",
      "\n",
      "\n",
      "---------------------------------- Welcome To Luxury Car Rentals --------------------------------\n",
      "1. Display Available Cars Inventory\n",
      "2. Rent Vehicle(s)\n",
      "3. Return Vehicle(s)\n",
      "4. Exit Menu\n",
      "--------------------------------------------------------------------------------------------------\n",
      "\n",
      "\n"
     ]
    },
    {
     "name": "stdout",
     "output_type": "stream",
     "text": [
      "Please select an option from the menu above:  2\n"
     ]
    },
    {
     "name": "stdout",
     "output_type": "stream",
     "text": [
      "Rent Vehicle(s)\n",
      "-------------------------------\n"
     ]
    },
    {
     "name": "stdout",
     "output_type": "stream",
     "text": [
      "Do you have an account with us? (yes/no):  no\n",
      "Enter your age:  23\n",
      "Enter your first name:  JJ\n",
      "Enter your last name:  Joy\n",
      "Enter your driver's license number:  DL2222\n",
      "Enter your email address:  \n",
      "Enter your phone number:  \n"
     ]
    },
    {
     "name": "stdout",
     "output_type": "stream",
     "text": [
      "\n",
      "\n",
      "Customer Information: \n",
      "-------------------------\n",
      "Customer Account Number:  DL2222\n",
      "First Name:  JJ\n",
      "Last Name:  Joy\n",
      "Email:  \n",
      "Phone:  \n"
     ]
    },
    {
     "name": "stdout",
     "output_type": "stream",
     "text": [
      "Press Enter to continue... \n"
     ]
    },
    {
     "name": "stdout",
     "output_type": "stream",
     "text": [
      "\n",
      "\n"
     ]
    },
    {
     "name": "stdout",
     "output_type": "stream",
     "text": [
      "How many vehicles would you like to rent?  20\n"
     ]
    },
    {
     "name": "stdout",
     "output_type": "stream",
     "text": [
      "AVAILABILITY :  17  available cars\n",
      "\n",
      "\n",
      "Sorry, we do not have enough vehicles to rent at the moment.\n"
     ]
    },
    {
     "name": "stdout",
     "output_type": "stream",
     "text": [
      "Press Enter to continue... \n"
     ]
    },
    {
     "name": "stdout",
     "output_type": "stream",
     "text": [
      "\n",
      "\n",
      "---------------------------------- Welcome To Luxury Car Rentals --------------------------------\n",
      "1. Display Available Cars Inventory\n",
      "2. Rent Vehicle(s)\n",
      "3. Return Vehicle(s)\n",
      "4. Exit Menu\n",
      "--------------------------------------------------------------------------------------------------\n",
      "\n",
      "\n"
     ]
    },
    {
     "name": "stdout",
     "output_type": "stream",
     "text": [
      "Please select an option from the menu above:  2\n"
     ]
    },
    {
     "name": "stdout",
     "output_type": "stream",
     "text": [
      "Rent Vehicle(s)\n",
      "-------------------------------\n"
     ]
    },
    {
     "name": "stdout",
     "output_type": "stream",
     "text": [
      "Do you have an account with us? (yes/no):  yes\n",
      "Enter your Driver's License Number:  DL2222\n"
     ]
    },
    {
     "name": "stdout",
     "output_type": "stream",
     "text": [
      "Found it!\n",
      "Welcome back, JJ Joy!\n",
      "\n",
      "\n",
      "Active Rental:  False\n",
      "\n",
      "\n"
     ]
    },
    {
     "name": "stdout",
     "output_type": "stream",
     "text": [
      "Press Enter to continue... \n"
     ]
    },
    {
     "name": "stdout",
     "output_type": "stream",
     "text": [
      "\n",
      "\n"
     ]
    },
    {
     "name": "stdout",
     "output_type": "stream",
     "text": [
      "How many vehicles would you like to rent?  4\n"
     ]
    },
    {
     "name": "stdout",
     "output_type": "stream",
     "text": [
      "AVAILABILITY :  17  available cars\n",
      "\n",
      "\n",
      "Rental Period Choices:\n",
      "1. Hourly\n",
      "2. Daily\n",
      "3. Weekly\n",
      "\n",
      "\n",
      "Enter Option for rental period. Example, type: 3 for weekly rental. Note: (All vehicles must be rented at same time and returned at the same time.)\n"
     ]
    },
    {
     "name": "stdout",
     "output_type": "stream",
     "text": [
      " 2\n"
     ]
    },
    {
     "name": "stdout",
     "output_type": "stream",
     "text": [
      "\n",
      "\n",
      "------Available Vehicles------\n",
      "\n",
      "\n",
      "Vehicle ID :Vin1 | \u001b[4mFerrari 488 Pista Coupe\u001b[0m 2020 Color: Red Passengers: 2 Luggage: 4 Transmission: Auto Doors: 2 Rates: Hourly: $105 Daily: $2520 Weekly: $17640\n",
      "Vehicle ID :Vin2 | \u001b[4mLamborghini Aventador SVJ\u001b[0m 2022 Color: Black Passengers: 4 Luggage: 4 Transmission: Auto Doors: 4 Rates: Hourly: $125 Daily: $3000 Weekly: $21000\n",
      "Vehicle ID :Vin3 | \u001b[4mMcLaren 720S\u001b[0m 2022 Color: Blue Passengers: 2 Luggage: 2 Transmission: Auto Doors: 2 Rates: Hourly: $105 Daily: $2520 Weekly: $17640\n",
      "Vehicle ID :Vin4 | \u001b[4mPorsche 911 GT3\u001b[0m 2022 Color: White Passengers: 2 Luggage: 2 Transmission: Auto Doors: 2 Rates: Hourly: $85 Daily: $2040 Weekly: $14280\n",
      "Vehicle ID :Vin5 | \u001b[4mAudi R8\u001b[0m 2020 Color: Silver Passengers: 2 Luggage: 4 Transmission: Manual Doors: 2 Rates: Hourly: $125 Daily: $3000 Weekly: $21000\n",
      "Vehicle ID :Vin6 | \u001b[4mBMW M8\u001b[0m 2022 Color: Black Passengers: 2 Luggage: 2 Transmission: Manual Doors: 2 Rates: Hourly: $115 Daily: $2760 Weekly: $19320\n",
      "Vehicle ID :Vin7 | \u001b[4mMercedes-Benz AMG GT\u001b[0m 2024 Color: Red Passengers: 2 Luggage: 2 Transmission: Auto Doors: 2 Rates: Hourly: $146 Daily: $3504 Weekly: $24528\n",
      "Vehicle ID :Vin8 | \u001b[4mRoll Royce Phantom\u001b[0m 2022 Color: Blue Passengers: 4 Luggage: 5 Transmission: Auto Doors: 4 Rates: Hourly: $167 Daily: $4008 Weekly: $28056\n",
      "Vehicle ID :Vin9 | \u001b[4mLamborghini Aventador SV Roadster\u001b[0m 2018 Color: Yellow Passengers: 2 Luggage: 2 Transmission: Auto Doors: 2 Rates: Hourly: $95 Daily: $2280 Weekly: $15960\n",
      "Vehicle ID :Vin10 | \u001b[4mMercedes-Benz Brabus G Class 4x4 AMG\u001b[0m 2019 Color: Red Passengers: 5 Luggage: 9 Transmission: Auto Doors: 5 Rates: Hourly: $188 Daily: $4512 Weekly: $31584\n",
      "Vehicle ID :Vin11 | \u001b[4mNissan GT-R\u001b[0m 2018 Color: Blue Passengers: 2 Luggage: 4 Transmission: Manual Doors: 2 Rates: Hourly: $85 Daily: $2040 Weekly: $14280\n",
      "Vehicle ID :Vin12 | \u001b[4mRolls Royce Dawn Convertible\u001b[0m 2019 Color: Blue Passengers: 4 Luggage: 4 Transmission: Auto Doors: 2 Rates: Hourly: $146 Daily: $3504 Weekly: $24528\n",
      "Vehicle ID :Vin13 | \u001b[4mFerrari 488 GTS Convertible\u001b[0m 2019 Color: Blue Passengers: 2 Luggage: 2 Transmission: Auto Doors: 2 Rates: Hourly: $125 Daily: $3000 Weekly: $21000\n",
      "Vehicle ID :Vin14 | \u001b[4mMaserati Quatroporte S Granlusso\u001b[0m 2021 Color: White Passengers: 5 Luggage: 4 Transmission: Auto Doors: 4 Rates: Hourly: $146 Daily: $3504 Weekly: $24528\n",
      "Vehicle ID :Vin15 | \u001b[4mLamborghini Huracan EVO SPyder\u001b[0m 2021 Color: Green Passengers: 2 Luggage: 2 Transmission: Auto Doors: 2 Rates: Hourly: $157 Daily: $3768 Weekly: $26376\n",
      "Vehicle ID :Vin16 | \u001b[4mRolls Royce Cullinan\u001b[0m 2021 Color: White Passengers: 7 Luggage: 5 Transmission: Auto Doors: 4 Rates: Hourly: $157 Daily: $3768 Weekly: $26376\n",
      "Vehicle ID :Vin17 | \u001b[4mDodge Charger SRT Hellcat Widebody\u001b[0m 2022 Color: Blue Passengers: 5 Luggage: 5 Transmission: Auto Doors: 4 Rates: Hourly: $130 Daily: $3120 Weekly: $21840\n",
      "\n",
      "\n",
      "Enter the Vehicle ID for vehicle  1  Example, type: Vin11\n"
     ]
    },
    {
     "name": "stdout",
     "output_type": "stream",
     "text": [
      " Vin17\n"
     ]
    },
    {
     "name": "stdout",
     "output_type": "stream",
     "text": [
      "Enter the Vehicle ID for vehicle  2  Example, type: Vin11\n"
     ]
    },
    {
     "name": "stdout",
     "output_type": "stream",
     "text": [
      " B\n"
     ]
    },
    {
     "name": "stdout",
     "output_type": "stream",
     "text": [
      "Invalid Vehicle ID. Let's try this again.\n"
     ]
    },
    {
     "name": "stdout",
     "output_type": "stream",
     "text": [
      "Press Enter to continue... \n"
     ]
    },
    {
     "name": "stdout",
     "output_type": "stream",
     "text": [
      "\n",
      "Enter the Vehicle ID for vehicle  2  Example, type: Vin11\n"
     ]
    },
    {
     "name": "stdout",
     "output_type": "stream",
     "text": [
      " Vin16\n"
     ]
    },
    {
     "name": "stdout",
     "output_type": "stream",
     "text": [
      "Enter the Vehicle ID for vehicle  3  Example, type: Vin11\n"
     ]
    },
    {
     "name": "stdout",
     "output_type": "stream",
     "text": [
      " Vin15\n"
     ]
    },
    {
     "name": "stdout",
     "output_type": "stream",
     "text": [
      "Enter the Vehicle ID for vehicle  4  Example, type: Vin11\n"
     ]
    },
    {
     "name": "stdout",
     "output_type": "stream",
     "text": [
      " \n"
     ]
    },
    {
     "name": "stdout",
     "output_type": "stream",
     "text": [
      "Invalid Vehicle ID. Let's try this again.\n"
     ]
    },
    {
     "name": "stdout",
     "output_type": "stream",
     "text": [
      "Press Enter to continue... \n"
     ]
    },
    {
     "name": "stdout",
     "output_type": "stream",
     "text": [
      "\n",
      "Enter the Vehicle ID for vehicle  4  Example, type: Vin11\n"
     ]
    },
    {
     "name": "stdout",
     "output_type": "stream",
     "text": [
      " Vin14\n"
     ]
    },
    {
     "name": "stdout",
     "output_type": "stream",
     "text": [
      "\n",
      "\n",
      "Please enter the pickup time for your reservation.\n"
     ]
    },
    {
     "name": "stdout",
     "output_type": "stream",
     "text": [
      "Enter the date and time (MM/DD/YYYY HH:MM AM or PM. THE EXACT FORMAT MUST BE FOLLOWED):  4/17/2024 3:00 PM\n"
     ]
    },
    {
     "name": "stdout",
     "output_type": "stream",
     "text": [
      "Validated time: Wednesday, April 17, 2024 03:00 PM\n",
      "\n",
      "\n",
      "Please enter the drop off or return time for your reservation.\n"
     ]
    },
    {
     "name": "stdout",
     "output_type": "stream",
     "text": [
      "Enter the date and time (MM/DD/YYYY HH:MM AM or PM. THE EXACT FORMAT MUST BE FOLLOWED):  4/22/2024 5:00 PM\n"
     ]
    },
    {
     "name": "stdout",
     "output_type": "stream",
     "text": [
      "Validated time: Monday, April 22, 2024 05:00 PM\n",
      "\n",
      "\n",
      "Rental Duration Details:\n",
      "-------------------------\n",
      "duration :  5 days, 2:00:00\n",
      "total_days :  5.083333333333333\n",
      "Rental Period: Daily\n",
      "-------------------------------------------------------------------------------\n",
      "Rental Details:\n",
      "-------------------------------------------------\n",
      "Vehicle(s):\n",
      "Vehicle: Dodge Charger SRT Hellcat Widebody 2022 Color: Blue Passengers: 5 Luggage: 5 Transmission: Auto Doors: 4 Rental Period: Daily Rate: $3120\n",
      "Vehicle: Rolls Royce Cullinan 2021 Color: White Passengers: 7 Luggage: 5 Transmission: Auto Doors: 4 Rental Period: Daily Rate: $3768\n",
      "Vehicle: Lamborghini Huracan EVO SPyder 2021 Color: Green Passengers: 2 Luggage: 2 Transmission: Auto Doors: 2 Rental Period: Daily Rate: $3768\n",
      "Vehicle: Maserati Quatroporte S Granlusso 2021 Color: White Passengers: 5 Luggage: 4 Transmission: Auto Doors: 4 Rental Period: Daily Rate: $3504\n",
      "-------------------------------------------------\n",
      "Pickup Time:  Wednesday, April 17, 2024 03:00 PM\n",
      "Return Time:  Monday, April 22, 2024 05:00 PM\n",
      "Ontime Return Cost:  71975.28\n",
      "\n",
      "\n",
      "NOTE: All vehicles must be rented at the same time and returned at the same time. Early returns will be charged the full rental rate.\n",
      "\n",
      "\n",
      "LATE FEE INFORMATION : \n",
      "For Daily Rentals: There will be a $480 late fee added to the daily rate for every day late or part thereof, which is equivalent to a $20 late fee for every hour late.\n",
      "\n",
      "\n"
     ]
    },
    {
     "name": "stdout",
     "output_type": "stream",
     "text": [
      "Would you like to confirm this reservation? (Y/N):  Y\n"
     ]
    },
    {
     "name": "stdout",
     "output_type": "stream",
     "text": [
      "Reservation confirmed. Thank you!\n",
      "\n",
      "\n",
      "---------------------------------- Welcome To Luxury Car Rentals --------------------------------\n",
      "1. Display Available Cars Inventory\n",
      "2. Rent Vehicle(s)\n",
      "3. Return Vehicle(s)\n",
      "4. Exit Menu\n",
      "--------------------------------------------------------------------------------------------------\n",
      "\n",
      "\n"
     ]
    },
    {
     "name": "stdout",
     "output_type": "stream",
     "text": [
      "Please select an option from the menu above:  1\n"
     ]
    },
    {
     "name": "stdout",
     "output_type": "stream",
     "text": [
      "\n",
      "\n",
      "Available Cars Inventory\n",
      "-------------------------------\n",
      "Vehicle ID :Vin1 | \u001b[4mFerrari 488 Pista Coupe\u001b[0m 2020 Color: Red Passengers: 2 Luggage: 4 Transmission: Auto Doors: 2 Rates: Hourly: $105 Daily: $2520 Weekly: $17640\n",
      "Vehicle ID :Vin2 | \u001b[4mLamborghini Aventador SVJ\u001b[0m 2022 Color: Black Passengers: 4 Luggage: 4 Transmission: Auto Doors: 4 Rates: Hourly: $125 Daily: $3000 Weekly: $21000\n",
      "Vehicle ID :Vin3 | \u001b[4mMcLaren 720S\u001b[0m 2022 Color: Blue Passengers: 2 Luggage: 2 Transmission: Auto Doors: 2 Rates: Hourly: $105 Daily: $2520 Weekly: $17640\n",
      "Vehicle ID :Vin4 | \u001b[4mPorsche 911 GT3\u001b[0m 2022 Color: White Passengers: 2 Luggage: 2 Transmission: Auto Doors: 2 Rates: Hourly: $85 Daily: $2040 Weekly: $14280\n",
      "Vehicle ID :Vin5 | \u001b[4mAudi R8\u001b[0m 2020 Color: Silver Passengers: 2 Luggage: 4 Transmission: Manual Doors: 2 Rates: Hourly: $125 Daily: $3000 Weekly: $21000\n",
      "Vehicle ID :Vin6 | \u001b[4mBMW M8\u001b[0m 2022 Color: Black Passengers: 2 Luggage: 2 Transmission: Manual Doors: 2 Rates: Hourly: $115 Daily: $2760 Weekly: $19320\n",
      "Vehicle ID :Vin7 | \u001b[4mMercedes-Benz AMG GT\u001b[0m 2024 Color: Red Passengers: 2 Luggage: 2 Transmission: Auto Doors: 2 Rates: Hourly: $146 Daily: $3504 Weekly: $24528\n",
      "Vehicle ID :Vin8 | \u001b[4mRoll Royce Phantom\u001b[0m 2022 Color: Blue Passengers: 4 Luggage: 5 Transmission: Auto Doors: 4 Rates: Hourly: $167 Daily: $4008 Weekly: $28056\n",
      "Vehicle ID :Vin9 | \u001b[4mLamborghini Aventador SV Roadster\u001b[0m 2018 Color: Yellow Passengers: 2 Luggage: 2 Transmission: Auto Doors: 2 Rates: Hourly: $95 Daily: $2280 Weekly: $15960\n",
      "Vehicle ID :Vin10 | \u001b[4mMercedes-Benz Brabus G Class 4x4 AMG\u001b[0m 2019 Color: Red Passengers: 5 Luggage: 9 Transmission: Auto Doors: 5 Rates: Hourly: $188 Daily: $4512 Weekly: $31584\n",
      "Vehicle ID :Vin11 | \u001b[4mNissan GT-R\u001b[0m 2018 Color: Blue Passengers: 2 Luggage: 4 Transmission: Manual Doors: 2 Rates: Hourly: $85 Daily: $2040 Weekly: $14280\n",
      "Vehicle ID :Vin12 | \u001b[4mRolls Royce Dawn Convertible\u001b[0m 2019 Color: Blue Passengers: 4 Luggage: 4 Transmission: Auto Doors: 2 Rates: Hourly: $146 Daily: $3504 Weekly: $24528\n",
      "Vehicle ID :Vin13 | \u001b[4mFerrari 488 GTS Convertible\u001b[0m 2019 Color: Blue Passengers: 2 Luggage: 2 Transmission: Auto Doors: 2 Rates: Hourly: $125 Daily: $3000 Weekly: $21000\n"
     ]
    },
    {
     "name": "stdout",
     "output_type": "stream",
     "text": [
      "Press Enter to continue... \n"
     ]
    },
    {
     "name": "stdout",
     "output_type": "stream",
     "text": [
      "\n",
      "\n",
      "\n",
      "\n",
      "---------------------------------- Welcome To Luxury Car Rentals --------------------------------\n",
      "1. Display Available Cars Inventory\n",
      "2. Rent Vehicle(s)\n",
      "3. Return Vehicle(s)\n",
      "4. Exit Menu\n",
      "--------------------------------------------------------------------------------------------------\n",
      "\n",
      "\n"
     ]
    },
    {
     "name": "stdout",
     "output_type": "stream",
     "text": [
      "Please select an option from the menu above:  2\n"
     ]
    },
    {
     "name": "stdout",
     "output_type": "stream",
     "text": [
      "Rent Vehicle(s)\n",
      "-------------------------------\n"
     ]
    },
    {
     "name": "stdout",
     "output_type": "stream",
     "text": [
      "Do you have an account with us? (yes/no):  yes\n",
      "Enter your Driver's License Number:  DL2222\n"
     ]
    },
    {
     "name": "stdout",
     "output_type": "stream",
     "text": [
      "Found it!\n",
      "Welcome back, JJ Joy!\n",
      "\n",
      "\n",
      "Active Rental:  {'DL2222': [['Vin17', 'Dodge', 'Charger SRT Hellcat Widebody', 2022, 'Blue', 5, 5, 'Auto', 4, 'Daily', 3120], ['Vin16', 'Rolls Royce', 'Cullinan', 2021, 'White', 7, 5, 'Auto', 4, 'Daily', 3768], ['Vin15', 'Lamborghini', 'Huracan EVO SPyder', 2021, 'Green', 2, 2, 'Auto', 2, 'Daily', 3768], ['Vin14', 'Maserati', 'Quatroporte S Granlusso', 2021, 'White', 5, 4, 'Auto', 4, 'Daily', 3504]]}\n",
      "\n",
      "\n",
      "It looks like you have an active rental. Please return the vehicle(s) before renting another one.\n"
     ]
    },
    {
     "name": "stdout",
     "output_type": "stream",
     "text": [
      "Press Enter to continue... \n"
     ]
    },
    {
     "name": "stdout",
     "output_type": "stream",
     "text": [
      "\n",
      "\n",
      "---------------------------------- Welcome To Luxury Car Rentals --------------------------------\n",
      "1. Display Available Cars Inventory\n",
      "2. Rent Vehicle(s)\n",
      "3. Return Vehicle(s)\n",
      "4. Exit Menu\n",
      "--------------------------------------------------------------------------------------------------\n",
      "\n",
      "\n"
     ]
    },
    {
     "name": "stdout",
     "output_type": "stream",
     "text": [
      "Please select an option from the menu above:  3\n"
     ]
    },
    {
     "name": "stdout",
     "output_type": "stream",
     "text": [
      "Return Vehicle(s)\n",
      "-------------------------------\n"
     ]
    },
    {
     "name": "stdout",
     "output_type": "stream",
     "text": [
      "Enter your Driver's License Number:  DL1234\n"
     ]
    },
    {
     "name": "stdout",
     "output_type": "stream",
     "text": [
      "Found it!\n",
      "Welcome back, Mee Toop!\n",
      "Found it!\n",
      "We'll need your return time information to calculate your final total cost.\n",
      "\n",
      "\n"
     ]
    },
    {
     "name": "stdout",
     "output_type": "stream",
     "text": [
      "Enter the date and time (MM/DD/YYYY HH:MM AM or PM. THE EXACT FORMAT MUST BE FOLLOWED):  4/16/2024 11:00 PM\n"
     ]
    },
    {
     "name": "stdout",
     "output_type": "stream",
     "text": [
      "The time can not be in the past. Please enter a correct date and time.\n"
     ]
    },
    {
     "name": "stdout",
     "output_type": "stream",
     "text": [
      "Enter the date and time (MM/DD/YYYY HH:MM AM or PM. THE EXACT FORMAT MUST BE FOLLOWED):  4/17/2024 11:00 PM\n"
     ]
    },
    {
     "name": "stdout",
     "output_type": "stream",
     "text": [
      "Validated time: Wednesday, April 17, 2024 11:00 PM\n",
      "duration :  15:00:00\n",
      "total_hours :  15.0\n",
      "\n",
      "\n",
      "----------------Billing Information------------------\n",
      "\n",
      "\n",
      "Customer Information: \n",
      "-------------------------\n",
      "Customer Account Number:  DL1234\n",
      "First Name:  Mee\n",
      "Last Name:  Toop\n",
      "Email:  \n",
      "Phone:  \n",
      "\n",
      "\n",
      "Rental Details:\n",
      "-------------------------------------------------\n",
      "Vehicle(s):\n",
      "Vehicle: Jeep Gladiator 6x6 2024 Color: Red Passengers: 7 Luggage: 8 Transmission: Auto Doors: 4 Rental Period: Hourly Rate: $208\n",
      "-------------------------------------------------\n",
      "Pickup Time :  Wednesday, April 17, 2024 08:00 AM\n",
      "Expected Return Time :  Wednesday, April 17, 2024 12:00 PM\n",
      "Expected Rental Duration :  4.0\n",
      "Actual Return Time :  Wednesday, April 17, 2024 11:00 PM\n",
      "Actual Rental Duration :  15.0\n",
      "Rental Rate :  208\n",
      "Rental Period Units :  Hours\n",
      "Late Fee :  2508.0\n",
      "Ontime Return Cost :  832.0\n",
      "----------------_Total Cost_------------------\n",
      "Total Cost (Original Return Cost + Late Fee) :  3340.0\n",
      "\n",
      "\n",
      "Thank You for renting with us!\n",
      "\n",
      "\n"
     ]
    },
    {
     "name": "stdout",
     "output_type": "stream",
     "text": [
      "Press Enter to continue... \n"
     ]
    },
    {
     "name": "stdout",
     "output_type": "stream",
     "text": [
      "\n",
      "\n",
      "---------------------------------- Welcome To Luxury Car Rentals --------------------------------\n",
      "1. Display Available Cars Inventory\n",
      "2. Rent Vehicle(s)\n",
      "3. Return Vehicle(s)\n",
      "4. Exit Menu\n",
      "--------------------------------------------------------------------------------------------------\n",
      "\n",
      "\n"
     ]
    },
    {
     "name": "stdout",
     "output_type": "stream",
     "text": [
      "Please select an option from the menu above:  1\n"
     ]
    },
    {
     "name": "stdout",
     "output_type": "stream",
     "text": [
      "\n",
      "\n",
      "Available Cars Inventory\n",
      "-------------------------------\n",
      "Vehicle ID :Vin1 | \u001b[4mFerrari 488 Pista Coupe\u001b[0m 2020 Color: Red Passengers: 2 Luggage: 4 Transmission: Auto Doors: 2 Rates: Hourly: $105 Daily: $2520 Weekly: $17640\n",
      "Vehicle ID :Vin2 | \u001b[4mLamborghini Aventador SVJ\u001b[0m 2022 Color: Black Passengers: 4 Luggage: 4 Transmission: Auto Doors: 4 Rates: Hourly: $125 Daily: $3000 Weekly: $21000\n",
      "Vehicle ID :Vin3 | \u001b[4mMcLaren 720S\u001b[0m 2022 Color: Blue Passengers: 2 Luggage: 2 Transmission: Auto Doors: 2 Rates: Hourly: $105 Daily: $2520 Weekly: $17640\n",
      "Vehicle ID :Vin4 | \u001b[4mPorsche 911 GT3\u001b[0m 2022 Color: White Passengers: 2 Luggage: 2 Transmission: Auto Doors: 2 Rates: Hourly: $85 Daily: $2040 Weekly: $14280\n",
      "Vehicle ID :Vin5 | \u001b[4mAudi R8\u001b[0m 2020 Color: Silver Passengers: 2 Luggage: 4 Transmission: Manual Doors: 2 Rates: Hourly: $125 Daily: $3000 Weekly: $21000\n",
      "Vehicle ID :Vin6 | \u001b[4mBMW M8\u001b[0m 2022 Color: Black Passengers: 2 Luggage: 2 Transmission: Manual Doors: 2 Rates: Hourly: $115 Daily: $2760 Weekly: $19320\n",
      "Vehicle ID :Vin7 | \u001b[4mMercedes-Benz AMG GT\u001b[0m 2024 Color: Red Passengers: 2 Luggage: 2 Transmission: Auto Doors: 2 Rates: Hourly: $146 Daily: $3504 Weekly: $24528\n",
      "Vehicle ID :Vin8 | \u001b[4mRoll Royce Phantom\u001b[0m 2022 Color: Blue Passengers: 4 Luggage: 5 Transmission: Auto Doors: 4 Rates: Hourly: $167 Daily: $4008 Weekly: $28056\n",
      "Vehicle ID :Vin9 | \u001b[4mLamborghini Aventador SV Roadster\u001b[0m 2018 Color: Yellow Passengers: 2 Luggage: 2 Transmission: Auto Doors: 2 Rates: Hourly: $95 Daily: $2280 Weekly: $15960\n",
      "Vehicle ID :Vin10 | \u001b[4mMercedes-Benz Brabus G Class 4x4 AMG\u001b[0m 2019 Color: Red Passengers: 5 Luggage: 9 Transmission: Auto Doors: 5 Rates: Hourly: $188 Daily: $4512 Weekly: $31584\n",
      "Vehicle ID :Vin11 | \u001b[4mNissan GT-R\u001b[0m 2018 Color: Blue Passengers: 2 Luggage: 4 Transmission: Manual Doors: 2 Rates: Hourly: $85 Daily: $2040 Weekly: $14280\n",
      "Vehicle ID :Vin12 | \u001b[4mRolls Royce Dawn Convertible\u001b[0m 2019 Color: Blue Passengers: 4 Luggage: 4 Transmission: Auto Doors: 2 Rates: Hourly: $146 Daily: $3504 Weekly: $24528\n",
      "Vehicle ID :Vin13 | \u001b[4mFerrari 488 GTS Convertible\u001b[0m 2019 Color: Blue Passengers: 2 Luggage: 2 Transmission: Auto Doors: 2 Rates: Hourly: $125 Daily: $3000 Weekly: $21000\n",
      "Vehicle ID :Vin20 | \u001b[4mJeep Gladiator 6x6\u001b[0m 2024 Color: Red Passengers: 7 Luggage: 8 Transmission: Auto Doors: 4 Rates: Hourly: $208 Daily: $4992 Weekly: $34944\n"
     ]
    },
    {
     "name": "stdout",
     "output_type": "stream",
     "text": [
      "Press Enter to continue... 3\n"
     ]
    },
    {
     "name": "stdout",
     "output_type": "stream",
     "text": [
      "\n",
      "\n",
      "\n",
      "\n",
      "---------------------------------- Welcome To Luxury Car Rentals --------------------------------\n",
      "1. Display Available Cars Inventory\n",
      "2. Rent Vehicle(s)\n",
      "3. Return Vehicle(s)\n",
      "4. Exit Menu\n",
      "--------------------------------------------------------------------------------------------------\n",
      "\n",
      "\n"
     ]
    },
    {
     "name": "stdout",
     "output_type": "stream",
     "text": [
      "Please select an option from the menu above:  3\n"
     ]
    },
    {
     "name": "stdout",
     "output_type": "stream",
     "text": [
      "Return Vehicle(s)\n",
      "-------------------------------\n"
     ]
    },
    {
     "name": "stdout",
     "output_type": "stream",
     "text": [
      "Enter your Driver's License Number:  DL222\n"
     ]
    },
    {
     "name": "stdout",
     "output_type": "stream",
     "text": [
      "Customer ID not found. Please try again.\n"
     ]
    },
    {
     "name": "stdout",
     "output_type": "stream",
     "text": [
      "Press Enter to continue... \n"
     ]
    },
    {
     "name": "stdout",
     "output_type": "stream",
     "text": [
      "\n",
      "\n",
      "---------------------------------- Welcome To Luxury Car Rentals --------------------------------\n",
      "1. Display Available Cars Inventory\n",
      "2. Rent Vehicle(s)\n",
      "3. Return Vehicle(s)\n",
      "4. Exit Menu\n",
      "--------------------------------------------------------------------------------------------------\n",
      "\n",
      "\n"
     ]
    },
    {
     "name": "stdout",
     "output_type": "stream",
     "text": [
      "Please select an option from the menu above:  3\n"
     ]
    },
    {
     "name": "stdout",
     "output_type": "stream",
     "text": [
      "Return Vehicle(s)\n",
      "-------------------------------\n"
     ]
    },
    {
     "name": "stdout",
     "output_type": "stream",
     "text": [
      "Enter your Driver's License Number:  DL2222\n"
     ]
    },
    {
     "name": "stdout",
     "output_type": "stream",
     "text": [
      "Found it!\n",
      "Welcome back, JJ Joy!\n",
      "Found it!\n",
      "We'll need your return time information to calculate your final total cost.\n",
      "\n",
      "\n"
     ]
    },
    {
     "name": "stdout",
     "output_type": "stream",
     "text": [
      "Enter the date and time (MM/DD/YYYY HH:MM AM or PM. THE EXACT FORMAT MUST BE FOLLOWED):  5/5/2024 7:00 PM\n"
     ]
    },
    {
     "name": "stdout",
     "output_type": "stream",
     "text": [
      "Validated time: Sunday, May 05, 2024 07:00 PM\n",
      "duration :  18 days, 4:00:00\n",
      "total_days :  18.166666666666668\n",
      "\n",
      "\n",
      "----------------Billing Information------------------\n",
      "\n",
      "\n",
      "Customer Information: \n",
      "-------------------------\n",
      "Customer Account Number:  DL2222\n",
      "First Name:  JJ\n",
      "Last Name:  Joy\n",
      "Email:  \n",
      "Phone:  \n",
      "\n",
      "\n",
      "Rental Details:\n",
      "-------------------------------------------------\n",
      "Vehicle(s):\n",
      "Vehicle: Dodge Charger SRT Hellcat Widebody 2022 Color: Blue Passengers: 5 Luggage: 5 Transmission: Auto Doors: 4 Rental Period: Daily Rate: $3120\n",
      "Vehicle: Rolls Royce Cullinan 2021 Color: White Passengers: 7 Luggage: 5 Transmission: Auto Doors: 4 Rental Period: Daily Rate: $3768\n",
      "Vehicle: Lamborghini Huracan EVO SPyder 2021 Color: Green Passengers: 2 Luggage: 2 Transmission: Auto Doors: 2 Rental Period: Daily Rate: $3768\n",
      "Vehicle: Maserati Quatroporte S Granlusso 2021 Color: White Passengers: 5 Luggage: 4 Transmission: Auto Doors: 4 Rental Period: Daily Rate: $3504\n",
      "-------------------------------------------------\n",
      "Pickup Time :  Wednesday, April 17, 2024 03:00 PM\n",
      "Expected Return Time :  Monday, April 22, 2024 05:00 PM\n",
      "Expected Rental Duration :  5.083\n",
      "Actual Return Time :  Sunday, May 05, 2024 07:00 PM\n",
      "Actual Rental Duration :  18.167\n",
      "Rental Rate :  3120\n",
      "Rental Period Units :  Days\n",
      "Late Fee :  47102.4\n",
      "Ontime Return Cost :  71975.28\n",
      "----------------_Total Cost_------------------\n",
      "Total Cost (Original Return Cost + Late Fee) :  119077.68\n",
      "\n",
      "\n",
      "Thank You for renting with us!\n",
      "\n",
      "\n"
     ]
    },
    {
     "name": "stdout",
     "output_type": "stream",
     "text": [
      "Press Enter to continue... \n"
     ]
    },
    {
     "name": "stdout",
     "output_type": "stream",
     "text": [
      "\n",
      "\n",
      "---------------------------------- Welcome To Luxury Car Rentals --------------------------------\n",
      "1. Display Available Cars Inventory\n",
      "2. Rent Vehicle(s)\n",
      "3. Return Vehicle(s)\n",
      "4. Exit Menu\n",
      "--------------------------------------------------------------------------------------------------\n",
      "\n",
      "\n"
     ]
    },
    {
     "name": "stdout",
     "output_type": "stream",
     "text": [
      "Please select an option from the menu above:  1\n"
     ]
    },
    {
     "name": "stdout",
     "output_type": "stream",
     "text": [
      "\n",
      "\n",
      "Available Cars Inventory\n",
      "-------------------------------\n",
      "Vehicle ID :Vin1 | \u001b[4mFerrari 488 Pista Coupe\u001b[0m 2020 Color: Red Passengers: 2 Luggage: 4 Transmission: Auto Doors: 2 Rates: Hourly: $105 Daily: $2520 Weekly: $17640\n",
      "Vehicle ID :Vin2 | \u001b[4mLamborghini Aventador SVJ\u001b[0m 2022 Color: Black Passengers: 4 Luggage: 4 Transmission: Auto Doors: 4 Rates: Hourly: $125 Daily: $3000 Weekly: $21000\n",
      "Vehicle ID :Vin3 | \u001b[4mMcLaren 720S\u001b[0m 2022 Color: Blue Passengers: 2 Luggage: 2 Transmission: Auto Doors: 2 Rates: Hourly: $105 Daily: $2520 Weekly: $17640\n",
      "Vehicle ID :Vin4 | \u001b[4mPorsche 911 GT3\u001b[0m 2022 Color: White Passengers: 2 Luggage: 2 Transmission: Auto Doors: 2 Rates: Hourly: $85 Daily: $2040 Weekly: $14280\n",
      "Vehicle ID :Vin5 | \u001b[4mAudi R8\u001b[0m 2020 Color: Silver Passengers: 2 Luggage: 4 Transmission: Manual Doors: 2 Rates: Hourly: $125 Daily: $3000 Weekly: $21000\n",
      "Vehicle ID :Vin6 | \u001b[4mBMW M8\u001b[0m 2022 Color: Black Passengers: 2 Luggage: 2 Transmission: Manual Doors: 2 Rates: Hourly: $115 Daily: $2760 Weekly: $19320\n",
      "Vehicle ID :Vin7 | \u001b[4mMercedes-Benz AMG GT\u001b[0m 2024 Color: Red Passengers: 2 Luggage: 2 Transmission: Auto Doors: 2 Rates: Hourly: $146 Daily: $3504 Weekly: $24528\n",
      "Vehicle ID :Vin8 | \u001b[4mRoll Royce Phantom\u001b[0m 2022 Color: Blue Passengers: 4 Luggage: 5 Transmission: Auto Doors: 4 Rates: Hourly: $167 Daily: $4008 Weekly: $28056\n",
      "Vehicle ID :Vin9 | \u001b[4mLamborghini Aventador SV Roadster\u001b[0m 2018 Color: Yellow Passengers: 2 Luggage: 2 Transmission: Auto Doors: 2 Rates: Hourly: $95 Daily: $2280 Weekly: $15960\n",
      "Vehicle ID :Vin10 | \u001b[4mMercedes-Benz Brabus G Class 4x4 AMG\u001b[0m 2019 Color: Red Passengers: 5 Luggage: 9 Transmission: Auto Doors: 5 Rates: Hourly: $188 Daily: $4512 Weekly: $31584\n",
      "Vehicle ID :Vin11 | \u001b[4mNissan GT-R\u001b[0m 2018 Color: Blue Passengers: 2 Luggage: 4 Transmission: Manual Doors: 2 Rates: Hourly: $85 Daily: $2040 Weekly: $14280\n",
      "Vehicle ID :Vin12 | \u001b[4mRolls Royce Dawn Convertible\u001b[0m 2019 Color: Blue Passengers: 4 Luggage: 4 Transmission: Auto Doors: 2 Rates: Hourly: $146 Daily: $3504 Weekly: $24528\n",
      "Vehicle ID :Vin13 | \u001b[4mFerrari 488 GTS Convertible\u001b[0m 2019 Color: Blue Passengers: 2 Luggage: 2 Transmission: Auto Doors: 2 Rates: Hourly: $125 Daily: $3000 Weekly: $21000\n",
      "Vehicle ID :Vin14 | \u001b[4mMaserati Quatroporte S Granlusso\u001b[0m 2021 Color: White Passengers: 5 Luggage: 4 Transmission: Auto Doors: 4 Rates: Hourly: $146 Daily: $3504 Weekly: $24528\n",
      "Vehicle ID :Vin15 | \u001b[4mLamborghini Huracan EVO SPyder\u001b[0m 2021 Color: Green Passengers: 2 Luggage: 2 Transmission: Auto Doors: 2 Rates: Hourly: $157 Daily: $3768 Weekly: $26376\n",
      "Vehicle ID :Vin16 | \u001b[4mRolls Royce Cullinan\u001b[0m 2021 Color: White Passengers: 7 Luggage: 5 Transmission: Auto Doors: 4 Rates: Hourly: $157 Daily: $3768 Weekly: $26376\n",
      "Vehicle ID :Vin17 | \u001b[4mDodge Charger SRT Hellcat Widebody\u001b[0m 2022 Color: Blue Passengers: 5 Luggage: 5 Transmission: Auto Doors: 4 Rates: Hourly: $130 Daily: $3120 Weekly: $21840\n",
      "Vehicle ID :Vin20 | \u001b[4mJeep Gladiator 6x6\u001b[0m 2024 Color: Red Passengers: 7 Luggage: 8 Transmission: Auto Doors: 4 Rates: Hourly: $208 Daily: $4992 Weekly: $34944\n"
     ]
    },
    {
     "name": "stdout",
     "output_type": "stream",
     "text": [
      "Press Enter to continue... \n"
     ]
    },
    {
     "name": "stdout",
     "output_type": "stream",
     "text": [
      "\n",
      "\n",
      "\n",
      "\n",
      "---------------------------------- Welcome To Luxury Car Rentals --------------------------------\n",
      "1. Display Available Cars Inventory\n",
      "2. Rent Vehicle(s)\n",
      "3. Return Vehicle(s)\n",
      "4. Exit Menu\n",
      "--------------------------------------------------------------------------------------------------\n",
      "\n",
      "\n"
     ]
    },
    {
     "name": "stdout",
     "output_type": "stream",
     "text": [
      "Please select an option from the menu above:  3\n"
     ]
    },
    {
     "name": "stdout",
     "output_type": "stream",
     "text": [
      "Return Vehicle(s)\n",
      "-------------------------------\n"
     ]
    },
    {
     "name": "stdout",
     "output_type": "stream",
     "text": [
      "Enter your Driver's License Number:  DL12345\n"
     ]
    },
    {
     "name": "stdout",
     "output_type": "stream",
     "text": [
      "Found it!\n",
      "Welcome back, Jake DD!\n",
      "Found it!\n",
      "We'll need your return time information to calculate your final total cost.\n",
      "\n",
      "\n"
     ]
    },
    {
     "name": "stdout",
     "output_type": "stream",
     "text": [
      "Enter the date and time (MM/DD/YYYY HH:MM AM or PM. THE EXACT FORMAT MUST BE FOLLOWED):  4/22/2024 12:00 AM\n"
     ]
    },
    {
     "name": "stdout",
     "output_type": "stream",
     "text": [
      "Validated time: Monday, April 22, 2024 12:00 AM\n",
      "duration :  4 days, 12:00:00\n",
      "total_days :  4.5\n",
      "\n",
      "\n",
      "----------------Billing Information------------------\n",
      "\n",
      "\n",
      "Customer Information: \n",
      "-------------------------\n",
      "Customer Account Number:  DL12345\n",
      "First Name:  Jake\n",
      "Last Name:  DD\n",
      "Email:  \n",
      "Phone:  \n",
      "\n",
      "\n",
      "Rental Details:\n",
      "-------------------------------------------------\n",
      "Vehicle(s):\n",
      "Vehicle: Mercedes-Benz Maybach GLS 600 AMG 2023 Color: Blue Passengers: 4 Luggage: 5 Transmission: Auto Doors: 4 Rental Period: Daily Rate: $3504\n",
      "-------------------------------------------------\n",
      "Pickup Time :  Wednesday, April 17, 2024 12:00 PM\n",
      "Expected Return Time :  Friday, April 19, 2024 12:00 PM\n",
      "Expected Rental Duration :  2.0\n",
      "Actual Return Time :  Monday, April 22, 2024 12:00 AM\n",
      "Actual Rental Duration :  4.5\n",
      "Rental Rate :  3504\n",
      "Rental Period Units :  Days\n",
      "Late Fee :  9960.0\n",
      "Ontime Return Cost :  7008.0\n",
      "----------------_Total Cost_------------------\n",
      "Total Cost (Original Return Cost + Late Fee) :  16968.0\n",
      "\n",
      "\n",
      "Thank You for renting with us!\n",
      "\n",
      "\n"
     ]
    },
    {
     "name": "stdout",
     "output_type": "stream",
     "text": [
      "Press Enter to continue... \n"
     ]
    },
    {
     "name": "stdout",
     "output_type": "stream",
     "text": [
      "\n",
      "\n",
      "---------------------------------- Welcome To Luxury Car Rentals --------------------------------\n",
      "1. Display Available Cars Inventory\n",
      "2. Rent Vehicle(s)\n",
      "3. Return Vehicle(s)\n",
      "4. Exit Menu\n",
      "--------------------------------------------------------------------------------------------------\n",
      "\n",
      "\n"
     ]
    },
    {
     "name": "stdout",
     "output_type": "stream",
     "text": [
      "Please select an option from the menu above:  1\n"
     ]
    },
    {
     "name": "stdout",
     "output_type": "stream",
     "text": [
      "\n",
      "\n",
      "Available Cars Inventory\n",
      "-------------------------------\n",
      "Vehicle ID :Vin1 | \u001b[4mFerrari 488 Pista Coupe\u001b[0m 2020 Color: Red Passengers: 2 Luggage: 4 Transmission: Auto Doors: 2 Rates: Hourly: $105 Daily: $2520 Weekly: $17640\n",
      "Vehicle ID :Vin2 | \u001b[4mLamborghini Aventador SVJ\u001b[0m 2022 Color: Black Passengers: 4 Luggage: 4 Transmission: Auto Doors: 4 Rates: Hourly: $125 Daily: $3000 Weekly: $21000\n",
      "Vehicle ID :Vin3 | \u001b[4mMcLaren 720S\u001b[0m 2022 Color: Blue Passengers: 2 Luggage: 2 Transmission: Auto Doors: 2 Rates: Hourly: $105 Daily: $2520 Weekly: $17640\n",
      "Vehicle ID :Vin4 | \u001b[4mPorsche 911 GT3\u001b[0m 2022 Color: White Passengers: 2 Luggage: 2 Transmission: Auto Doors: 2 Rates: Hourly: $85 Daily: $2040 Weekly: $14280\n",
      "Vehicle ID :Vin5 | \u001b[4mAudi R8\u001b[0m 2020 Color: Silver Passengers: 2 Luggage: 4 Transmission: Manual Doors: 2 Rates: Hourly: $125 Daily: $3000 Weekly: $21000\n",
      "Vehicle ID :Vin6 | \u001b[4mBMW M8\u001b[0m 2022 Color: Black Passengers: 2 Luggage: 2 Transmission: Manual Doors: 2 Rates: Hourly: $115 Daily: $2760 Weekly: $19320\n",
      "Vehicle ID :Vin7 | \u001b[4mMercedes-Benz AMG GT\u001b[0m 2024 Color: Red Passengers: 2 Luggage: 2 Transmission: Auto Doors: 2 Rates: Hourly: $146 Daily: $3504 Weekly: $24528\n",
      "Vehicle ID :Vin8 | \u001b[4mRoll Royce Phantom\u001b[0m 2022 Color: Blue Passengers: 4 Luggage: 5 Transmission: Auto Doors: 4 Rates: Hourly: $167 Daily: $4008 Weekly: $28056\n",
      "Vehicle ID :Vin9 | \u001b[4mLamborghini Aventador SV Roadster\u001b[0m 2018 Color: Yellow Passengers: 2 Luggage: 2 Transmission: Auto Doors: 2 Rates: Hourly: $95 Daily: $2280 Weekly: $15960\n",
      "Vehicle ID :Vin10 | \u001b[4mMercedes-Benz Brabus G Class 4x4 AMG\u001b[0m 2019 Color: Red Passengers: 5 Luggage: 9 Transmission: Auto Doors: 5 Rates: Hourly: $188 Daily: $4512 Weekly: $31584\n",
      "Vehicle ID :Vin11 | \u001b[4mNissan GT-R\u001b[0m 2018 Color: Blue Passengers: 2 Luggage: 4 Transmission: Manual Doors: 2 Rates: Hourly: $85 Daily: $2040 Weekly: $14280\n",
      "Vehicle ID :Vin12 | \u001b[4mRolls Royce Dawn Convertible\u001b[0m 2019 Color: Blue Passengers: 4 Luggage: 4 Transmission: Auto Doors: 2 Rates: Hourly: $146 Daily: $3504 Weekly: $24528\n",
      "Vehicle ID :Vin13 | \u001b[4mFerrari 488 GTS Convertible\u001b[0m 2019 Color: Blue Passengers: 2 Luggage: 2 Transmission: Auto Doors: 2 Rates: Hourly: $125 Daily: $3000 Weekly: $21000\n",
      "Vehicle ID :Vin14 | \u001b[4mMaserati Quatroporte S Granlusso\u001b[0m 2021 Color: White Passengers: 5 Luggage: 4 Transmission: Auto Doors: 4 Rates: Hourly: $146 Daily: $3504 Weekly: $24528\n",
      "Vehicle ID :Vin15 | \u001b[4mLamborghini Huracan EVO SPyder\u001b[0m 2021 Color: Green Passengers: 2 Luggage: 2 Transmission: Auto Doors: 2 Rates: Hourly: $157 Daily: $3768 Weekly: $26376\n",
      "Vehicle ID :Vin16 | \u001b[4mRolls Royce Cullinan\u001b[0m 2021 Color: White Passengers: 7 Luggage: 5 Transmission: Auto Doors: 4 Rates: Hourly: $157 Daily: $3768 Weekly: $26376\n",
      "Vehicle ID :Vin17 | \u001b[4mDodge Charger SRT Hellcat Widebody\u001b[0m 2022 Color: Blue Passengers: 5 Luggage: 5 Transmission: Auto Doors: 4 Rates: Hourly: $130 Daily: $3120 Weekly: $21840\n",
      "Vehicle ID :Vin19 | \u001b[4mMercedes-Benz Maybach GLS 600 AMG\u001b[0m 2023 Color: Blue Passengers: 4 Luggage: 5 Transmission: Auto Doors: 4 Rates: Hourly: $146 Daily: $3504 Weekly: $24528\n",
      "Vehicle ID :Vin20 | \u001b[4mJeep Gladiator 6x6\u001b[0m 2024 Color: Red Passengers: 7 Luggage: 8 Transmission: Auto Doors: 4 Rates: Hourly: $208 Daily: $4992 Weekly: $34944\n"
     ]
    },
    {
     "name": "stdout",
     "output_type": "stream",
     "text": [
      "Press Enter to continue... \n"
     ]
    },
    {
     "name": "stdout",
     "output_type": "stream",
     "text": [
      "\n",
      "\n",
      "\n",
      "\n",
      "---------------------------------- Welcome To Luxury Car Rentals --------------------------------\n",
      "1. Display Available Cars Inventory\n",
      "2. Rent Vehicle(s)\n",
      "3. Return Vehicle(s)\n",
      "4. Exit Menu\n",
      "--------------------------------------------------------------------------------------------------\n",
      "\n",
      "\n"
     ]
    },
    {
     "name": "stdout",
     "output_type": "stream",
     "text": [
      "Please select an option from the menu above:  3\n"
     ]
    },
    {
     "name": "stdout",
     "output_type": "stream",
     "text": [
      "Return Vehicle(s)\n",
      "-------------------------------\n"
     ]
    },
    {
     "name": "stdout",
     "output_type": "stream",
     "text": [
      "Enter your Driver's License Number:  DL1111\n"
     ]
    },
    {
     "name": "stdout",
     "output_type": "stream",
     "text": [
      "Found it!\n",
      "Welcome back, Meme Doow!\n",
      "Found it!\n",
      "We'll need your return time information to calculate your final total cost.\n",
      "\n",
      "\n"
     ]
    },
    {
     "name": "stdout",
     "output_type": "stream",
     "text": [
      "Enter the date and time (MM/DD/YYYY HH:MM AM or PM. THE EXACT FORMAT MUST BE FOLLOWED):  5/9/2024 5:00 PM\n"
     ]
    },
    {
     "name": "stdout",
     "output_type": "stream",
     "text": [
      "Validated time: Thursday, May 09, 2024 05:00 PM\n",
      "duration :  22 days, 4:00:00\n",
      "total_weeks :  3.1666666666666665\n",
      "\n",
      "\n",
      "----------------Billing Information------------------\n",
      "\n",
      "\n",
      "Customer Information: \n",
      "-------------------------\n",
      "Customer Account Number:  DL1111\n",
      "First Name:  Meme\n",
      "Last Name:  Doow\n",
      "Email:  \n",
      "Phone:  \n",
      "\n",
      "\n",
      "Rental Details:\n",
      "-------------------------------------------------\n",
      "Vehicle(s):\n",
      "Vehicle: Porsche 911 Carrera 4S Cabriolet 2023 Color: Red Passengers: 2 Luggage: 2 Transmission: Auto Doors: 2 Rental Period: Weekly Rate: $13440\n",
      "-------------------------------------------------\n",
      "Pickup Time :  Wednesday, April 17, 2024 01:00 PM\n",
      "Expected Return Time :  Friday, May 10, 2024 05:00 PM\n",
      "Expected Rental Duration :  3.31\n",
      "Actual Return Time :  Thursday, May 09, 2024 05:00 PM\n",
      "Actual Rental Duration :  3.167\n",
      "Rental Rate :  13440\n",
      "Rental Period Units :  Weeks\n",
      "Late Fee :  0\n",
      "Ontime Return Cost :  44486.4\n",
      "----------------_Total Cost_------------------\n",
      "Total Cost (Original Return Cost + Late Fee) :  44486.4\n",
      "\n",
      "\n",
      "Thank You for renting with us!\n",
      "\n",
      "\n"
     ]
    },
    {
     "name": "stdout",
     "output_type": "stream",
     "text": [
      "Press Enter to continue... \n"
     ]
    },
    {
     "name": "stdout",
     "output_type": "stream",
     "text": [
      "\n",
      "\n",
      "---------------------------------- Welcome To Luxury Car Rentals --------------------------------\n",
      "1. Display Available Cars Inventory\n",
      "2. Rent Vehicle(s)\n",
      "3. Return Vehicle(s)\n",
      "4. Exit Menu\n",
      "--------------------------------------------------------------------------------------------------\n",
      "\n",
      "\n"
     ]
    },
    {
     "name": "stdout",
     "output_type": "stream",
     "text": [
      "Please select an option from the menu above:  1\n"
     ]
    },
    {
     "name": "stdout",
     "output_type": "stream",
     "text": [
      "\n",
      "\n",
      "Available Cars Inventory\n",
      "-------------------------------\n",
      "Vehicle ID :Vin1 | \u001b[4mFerrari 488 Pista Coupe\u001b[0m 2020 Color: Red Passengers: 2 Luggage: 4 Transmission: Auto Doors: 2 Rates: Hourly: $105 Daily: $2520 Weekly: $17640\n",
      "Vehicle ID :Vin2 | \u001b[4mLamborghini Aventador SVJ\u001b[0m 2022 Color: Black Passengers: 4 Luggage: 4 Transmission: Auto Doors: 4 Rates: Hourly: $125 Daily: $3000 Weekly: $21000\n",
      "Vehicle ID :Vin3 | \u001b[4mMcLaren 720S\u001b[0m 2022 Color: Blue Passengers: 2 Luggage: 2 Transmission: Auto Doors: 2 Rates: Hourly: $105 Daily: $2520 Weekly: $17640\n",
      "Vehicle ID :Vin4 | \u001b[4mPorsche 911 GT3\u001b[0m 2022 Color: White Passengers: 2 Luggage: 2 Transmission: Auto Doors: 2 Rates: Hourly: $85 Daily: $2040 Weekly: $14280\n",
      "Vehicle ID :Vin5 | \u001b[4mAudi R8\u001b[0m 2020 Color: Silver Passengers: 2 Luggage: 4 Transmission: Manual Doors: 2 Rates: Hourly: $125 Daily: $3000 Weekly: $21000\n",
      "Vehicle ID :Vin6 | \u001b[4mBMW M8\u001b[0m 2022 Color: Black Passengers: 2 Luggage: 2 Transmission: Manual Doors: 2 Rates: Hourly: $115 Daily: $2760 Weekly: $19320\n",
      "Vehicle ID :Vin7 | \u001b[4mMercedes-Benz AMG GT\u001b[0m 2024 Color: Red Passengers: 2 Luggage: 2 Transmission: Auto Doors: 2 Rates: Hourly: $146 Daily: $3504 Weekly: $24528\n",
      "Vehicle ID :Vin8 | \u001b[4mRoll Royce Phantom\u001b[0m 2022 Color: Blue Passengers: 4 Luggage: 5 Transmission: Auto Doors: 4 Rates: Hourly: $167 Daily: $4008 Weekly: $28056\n",
      "Vehicle ID :Vin9 | \u001b[4mLamborghini Aventador SV Roadster\u001b[0m 2018 Color: Yellow Passengers: 2 Luggage: 2 Transmission: Auto Doors: 2 Rates: Hourly: $95 Daily: $2280 Weekly: $15960\n",
      "Vehicle ID :Vin10 | \u001b[4mMercedes-Benz Brabus G Class 4x4 AMG\u001b[0m 2019 Color: Red Passengers: 5 Luggage: 9 Transmission: Auto Doors: 5 Rates: Hourly: $188 Daily: $4512 Weekly: $31584\n",
      "Vehicle ID :Vin11 | \u001b[4mNissan GT-R\u001b[0m 2018 Color: Blue Passengers: 2 Luggage: 4 Transmission: Manual Doors: 2 Rates: Hourly: $85 Daily: $2040 Weekly: $14280\n",
      "Vehicle ID :Vin12 | \u001b[4mRolls Royce Dawn Convertible\u001b[0m 2019 Color: Blue Passengers: 4 Luggage: 4 Transmission: Auto Doors: 2 Rates: Hourly: $146 Daily: $3504 Weekly: $24528\n",
      "Vehicle ID :Vin13 | \u001b[4mFerrari 488 GTS Convertible\u001b[0m 2019 Color: Blue Passengers: 2 Luggage: 2 Transmission: Auto Doors: 2 Rates: Hourly: $125 Daily: $3000 Weekly: $21000\n",
      "Vehicle ID :Vin14 | \u001b[4mMaserati Quatroporte S Granlusso\u001b[0m 2021 Color: White Passengers: 5 Luggage: 4 Transmission: Auto Doors: 4 Rates: Hourly: $146 Daily: $3504 Weekly: $24528\n",
      "Vehicle ID :Vin15 | \u001b[4mLamborghini Huracan EVO SPyder\u001b[0m 2021 Color: Green Passengers: 2 Luggage: 2 Transmission: Auto Doors: 2 Rates: Hourly: $157 Daily: $3768 Weekly: $26376\n",
      "Vehicle ID :Vin16 | \u001b[4mRolls Royce Cullinan\u001b[0m 2021 Color: White Passengers: 7 Luggage: 5 Transmission: Auto Doors: 4 Rates: Hourly: $157 Daily: $3768 Weekly: $26376\n",
      "Vehicle ID :Vin17 | \u001b[4mDodge Charger SRT Hellcat Widebody\u001b[0m 2022 Color: Blue Passengers: 5 Luggage: 5 Transmission: Auto Doors: 4 Rates: Hourly: $130 Daily: $3120 Weekly: $21840\n",
      "Vehicle ID :Vin18 | \u001b[4mPorsche 911 Carrera 4S Cabriolet\u001b[0m 2023 Color: Red Passengers: 2 Luggage: 2 Transmission: Auto Doors: 2 Rates: Hourly: $80 Daily: $1920 Weekly: $13440\n",
      "Vehicle ID :Vin19 | \u001b[4mMercedes-Benz Maybach GLS 600 AMG\u001b[0m 2023 Color: Blue Passengers: 4 Luggage: 5 Transmission: Auto Doors: 4 Rates: Hourly: $146 Daily: $3504 Weekly: $24528\n",
      "Vehicle ID :Vin20 | \u001b[4mJeep Gladiator 6x6\u001b[0m 2024 Color: Red Passengers: 7 Luggage: 8 Transmission: Auto Doors: 4 Rates: Hourly: $208 Daily: $4992 Weekly: $34944\n"
     ]
    },
    {
     "name": "stdout",
     "output_type": "stream",
     "text": [
      "Press Enter to continue... 4\n"
     ]
    },
    {
     "name": "stdout",
     "output_type": "stream",
     "text": [
      "\n",
      "\n",
      "\n",
      "\n",
      "---------------------------------- Welcome To Luxury Car Rentals --------------------------------\n",
      "1. Display Available Cars Inventory\n",
      "2. Rent Vehicle(s)\n",
      "3. Return Vehicle(s)\n",
      "4. Exit Menu\n",
      "--------------------------------------------------------------------------------------------------\n",
      "\n",
      "\n"
     ]
    },
    {
     "name": "stdout",
     "output_type": "stream",
     "text": [
      "Please select an option from the menu above:  4\n"
     ]
    },
    {
     "name": "stdout",
     "output_type": "stream",
     "text": [
      "Exit Menu\n",
      "-------------------------------\n",
      "Thank you for using the Car Rental System. Goodbye!\n"
     ]
    },
    {
     "name": "stdout",
     "output_type": "stream",
     "text": [
      "Press Enter to continue... \n"
     ]
    },
    {
     "name": "stdout",
     "output_type": "stream",
     "text": [
      "\n",
      "\n",
      "\n",
      "\n",
      "---------------------------------- Welcome To Luxury Car Rentals --------------------------------\n",
      "1. Display Available Cars Inventory\n",
      "2. Rent Vehicle(s)\n",
      "3. Return Vehicle(s)\n",
      "4. Exit Menu\n",
      "--------------------------------------------------------------------------------------------------\n",
      "\n",
      "\n"
     ]
    },
    {
     "name": "stdout",
     "output_type": "stream",
     "text": [
      "Please select an option from the menu above:  2\n"
     ]
    },
    {
     "name": "stdout",
     "output_type": "stream",
     "text": [
      "Rent Vehicle(s)\n",
      "-------------------------------\n"
     ]
    },
    {
     "name": "stdout",
     "output_type": "stream",
     "text": [
      "Do you have an account with us? (yes/no):  yes\n",
      "Enter your Driver's License Number:  DL1234\n"
     ]
    },
    {
     "name": "stdout",
     "output_type": "stream",
     "text": [
      "\n",
      "\n",
      "Active Rental:  False\n",
      "\n",
      "\n",
      "Customer ID not found. Please try again.\n"
     ]
    },
    {
     "name": "stdout",
     "output_type": "stream",
     "text": [
      "Press Enter to continue... \n"
     ]
    },
    {
     "name": "stdout",
     "output_type": "stream",
     "text": [
      "\n",
      "\n",
      "---------------------------------- Welcome To Luxury Car Rentals --------------------------------\n",
      "1. Display Available Cars Inventory\n",
      "2. Rent Vehicle(s)\n",
      "3. Return Vehicle(s)\n",
      "4. Exit Menu\n",
      "--------------------------------------------------------------------------------------------------\n",
      "\n",
      "\n"
     ]
    },
    {
     "name": "stdout",
     "output_type": "stream",
     "text": [
      "Please select an option from the menu above:  2\n"
     ]
    },
    {
     "name": "stdout",
     "output_type": "stream",
     "text": [
      "Rent Vehicle(s)\n",
      "-------------------------------\n"
     ]
    },
    {
     "name": "stdout",
     "output_type": "stream",
     "text": [
      "Do you have an account with us? (yes/no):  no\n",
      "Enter your age:  11\n"
     ]
    },
    {
     "name": "stdout",
     "output_type": "stream",
     "text": [
      "You must be 18 years or older to rent a vehicle.\n"
     ]
    },
    {
     "name": "stdout",
     "output_type": "stream",
     "text": [
      "Press Enter to continue... \n"
     ]
    },
    {
     "name": "stdout",
     "output_type": "stream",
     "text": [
      "\n",
      "\n",
      "---------------------------------- Welcome To Luxury Car Rentals --------------------------------\n",
      "1. Display Available Cars Inventory\n",
      "2. Rent Vehicle(s)\n",
      "3. Return Vehicle(s)\n",
      "4. Exit Menu\n",
      "--------------------------------------------------------------------------------------------------\n",
      "\n",
      "\n"
     ]
    },
    {
     "name": "stdout",
     "output_type": "stream",
     "text": [
      "Please select an option from the menu above:  2\n"
     ]
    },
    {
     "name": "stdout",
     "output_type": "stream",
     "text": [
      "Rent Vehicle(s)\n",
      "-------------------------------\n"
     ]
    },
    {
     "name": "stdout",
     "output_type": "stream",
     "text": [
      "Do you have an account with us? (yes/no):  no\n",
      "Enter your age:  23\n",
      "Enter your first name:  Derek\n",
      "Enter your last name:  Meeks\n",
      "Enter your driver's license number:  DL1234\n",
      "Enter your email address:  me@me.com\n",
      "Enter your phone number:  \n"
     ]
    },
    {
     "name": "stdout",
     "output_type": "stream",
     "text": [
      "\n",
      "\n",
      "Customer Information: \n",
      "-------------------------\n",
      "Customer Account Number:  DL1234\n",
      "First Name:  Derek\n",
      "Last Name:  Meeks\n",
      "Email:  me@me.com\n",
      "Phone:  \n"
     ]
    },
    {
     "name": "stdout",
     "output_type": "stream",
     "text": [
      "Press Enter to continue... \n"
     ]
    },
    {
     "name": "stdout",
     "output_type": "stream",
     "text": [
      "\n",
      "\n"
     ]
    },
    {
     "name": "stdout",
     "output_type": "stream",
     "text": [
      "How many vehicles would you like to rent?  1\n"
     ]
    },
    {
     "name": "stdout",
     "output_type": "stream",
     "text": [
      "AVAILABILITY :  20  available cars\n",
      "\n",
      "\n",
      "Rental Period Choices:\n",
      "1. Hourly\n",
      "2. Daily\n",
      "3. Weekly\n",
      "\n",
      "\n",
      "Enter Option for rental period. Example, type: 3 for weekly rental. Note: (All vehicles must be rented at same time and returned at the same time.)\n"
     ]
    },
    {
     "name": "stdout",
     "output_type": "stream",
     "text": [
      " 1\n"
     ]
    },
    {
     "name": "stdout",
     "output_type": "stream",
     "text": [
      "\n",
      "\n",
      "------Available Vehicles------\n",
      "\n",
      "\n",
      "Vehicle ID :Vin1 | \u001b[4mFerrari 488 Pista Coupe\u001b[0m 2020 Color: Red Passengers: 2 Luggage: 4 Transmission: Auto Doors: 2 Rates: Hourly: $105 Daily: $2520 Weekly: $17640\n",
      "Vehicle ID :Vin2 | \u001b[4mLamborghini Aventador SVJ\u001b[0m 2022 Color: Black Passengers: 4 Luggage: 4 Transmission: Auto Doors: 4 Rates: Hourly: $125 Daily: $3000 Weekly: $21000\n",
      "Vehicle ID :Vin3 | \u001b[4mMcLaren 720S\u001b[0m 2022 Color: Blue Passengers: 2 Luggage: 2 Transmission: Auto Doors: 2 Rates: Hourly: $105 Daily: $2520 Weekly: $17640\n",
      "Vehicle ID :Vin4 | \u001b[4mPorsche 911 GT3\u001b[0m 2022 Color: White Passengers: 2 Luggage: 2 Transmission: Auto Doors: 2 Rates: Hourly: $85 Daily: $2040 Weekly: $14280\n",
      "Vehicle ID :Vin5 | \u001b[4mAudi R8\u001b[0m 2020 Color: Silver Passengers: 2 Luggage: 4 Transmission: Manual Doors: 2 Rates: Hourly: $125 Daily: $3000 Weekly: $21000\n",
      "Vehicle ID :Vin6 | \u001b[4mBMW M8\u001b[0m 2022 Color: Black Passengers: 2 Luggage: 2 Transmission: Manual Doors: 2 Rates: Hourly: $115 Daily: $2760 Weekly: $19320\n",
      "Vehicle ID :Vin7 | \u001b[4mMercedes-Benz AMG GT\u001b[0m 2024 Color: Red Passengers: 2 Luggage: 2 Transmission: Auto Doors: 2 Rates: Hourly: $146 Daily: $3504 Weekly: $24528\n",
      "Vehicle ID :Vin8 | \u001b[4mRoll Royce Phantom\u001b[0m 2022 Color: Blue Passengers: 4 Luggage: 5 Transmission: Auto Doors: 4 Rates: Hourly: $167 Daily: $4008 Weekly: $28056\n",
      "Vehicle ID :Vin9 | \u001b[4mLamborghini Aventador SV Roadster\u001b[0m 2018 Color: Yellow Passengers: 2 Luggage: 2 Transmission: Auto Doors: 2 Rates: Hourly: $95 Daily: $2280 Weekly: $15960\n",
      "Vehicle ID :Vin10 | \u001b[4mMercedes-Benz Brabus G Class 4x4 AMG\u001b[0m 2019 Color: Red Passengers: 5 Luggage: 9 Transmission: Auto Doors: 5 Rates: Hourly: $188 Daily: $4512 Weekly: $31584\n",
      "Vehicle ID :Vin11 | \u001b[4mNissan GT-R\u001b[0m 2018 Color: Blue Passengers: 2 Luggage: 4 Transmission: Manual Doors: 2 Rates: Hourly: $85 Daily: $2040 Weekly: $14280\n",
      "Vehicle ID :Vin12 | \u001b[4mRolls Royce Dawn Convertible\u001b[0m 2019 Color: Blue Passengers: 4 Luggage: 4 Transmission: Auto Doors: 2 Rates: Hourly: $146 Daily: $3504 Weekly: $24528\n",
      "Vehicle ID :Vin13 | \u001b[4mFerrari 488 GTS Convertible\u001b[0m 2019 Color: Blue Passengers: 2 Luggage: 2 Transmission: Auto Doors: 2 Rates: Hourly: $125 Daily: $3000 Weekly: $21000\n",
      "Vehicle ID :Vin14 | \u001b[4mMaserati Quatroporte S Granlusso\u001b[0m 2021 Color: White Passengers: 5 Luggage: 4 Transmission: Auto Doors: 4 Rates: Hourly: $146 Daily: $3504 Weekly: $24528\n",
      "Vehicle ID :Vin15 | \u001b[4mLamborghini Huracan EVO SPyder\u001b[0m 2021 Color: Green Passengers: 2 Luggage: 2 Transmission: Auto Doors: 2 Rates: Hourly: $157 Daily: $3768 Weekly: $26376\n",
      "Vehicle ID :Vin16 | \u001b[4mRolls Royce Cullinan\u001b[0m 2021 Color: White Passengers: 7 Luggage: 5 Transmission: Auto Doors: 4 Rates: Hourly: $157 Daily: $3768 Weekly: $26376\n",
      "Vehicle ID :Vin17 | \u001b[4mDodge Charger SRT Hellcat Widebody\u001b[0m 2022 Color: Blue Passengers: 5 Luggage: 5 Transmission: Auto Doors: 4 Rates: Hourly: $130 Daily: $3120 Weekly: $21840\n",
      "Vehicle ID :Vin18 | \u001b[4mPorsche 911 Carrera 4S Cabriolet\u001b[0m 2023 Color: Red Passengers: 2 Luggage: 2 Transmission: Auto Doors: 2 Rates: Hourly: $80 Daily: $1920 Weekly: $13440\n",
      "Vehicle ID :Vin19 | \u001b[4mMercedes-Benz Maybach GLS 600 AMG\u001b[0m 2023 Color: Blue Passengers: 4 Luggage: 5 Transmission: Auto Doors: 4 Rates: Hourly: $146 Daily: $3504 Weekly: $24528\n",
      "Vehicle ID :Vin20 | \u001b[4mJeep Gladiator 6x6\u001b[0m 2024 Color: Red Passengers: 7 Luggage: 8 Transmission: Auto Doors: 4 Rates: Hourly: $208 Daily: $4992 Weekly: $34944\n",
      "\n",
      "\n",
      "Enter the Vehicle ID for vehicle  1  Example, type: Vin11\n"
     ]
    },
    {
     "name": "stdout",
     "output_type": "stream",
     "text": [
      " Vin20\n"
     ]
    },
    {
     "name": "stdout",
     "output_type": "stream",
     "text": [
      "\n",
      "\n",
      "Please enter the pickup time for your reservation.\n"
     ]
    },
    {
     "name": "stdout",
     "output_type": "stream",
     "text": [
      "Enter the date and time (MM/DD/YYYY HH:MM AM/PM or MM/DD/YYYY HH AM/PM):  4/17/2024 7:00 AM\n"
     ]
    },
    {
     "name": "stdout",
     "output_type": "stream",
     "text": [
      "Validated time: Wednesday, April 17, 2024 07:00 AM\n",
      "\n",
      "\n",
      "Please enter the drop off or return time for your reservation.\n"
     ]
    },
    {
     "name": "stdout",
     "output_type": "stream",
     "text": [
      "Enter the date and time (MM/DD/YYYY HH:MM AM/PM or MM/DD/YYYY HH AM/PM):  4/17/2024 8:00 PM\n"
     ]
    },
    {
     "name": "stdout",
     "output_type": "stream",
     "text": [
      "Validated time: Wednesday, April 17, 2024 08:00 PM\n",
      "\n",
      "\n",
      "Rental Duration Details:\n",
      "-------------------------\n",
      "duration :  13:00:00\n",
      "total_hours :  13.0\n",
      "Rental Period: Hourly\n",
      "-------------------------------------------------------------------------------\n",
      "Rental Details:\n",
      "-------------------------------------------------\n",
      "Vehicle(s):\n",
      "Vehicle: Jeep Gladiator 6x6 2024 Color: Red Passengers: 7 Luggage: 8 Transmission: Auto Doors: 4 Rental Period: Hourly Rate: $208\n",
      "-------------------------------------------------\n",
      "Pickup Time:  Wednesday, April 17, 2024 07:00 AM\n",
      "Return Time:  Wednesday, April 17, 2024 08:00 PM\n",
      "Ontime Return Cost:  2704.0\n",
      "\n",
      "\n",
      "NOTE: All vehicles must be rented at the same time and returned at the same time. Early returns will be charged the full rental rate.\n",
      "\n",
      "\n",
      "LATE FEE INFORMATION : \n",
      "For Hourly Rentals: There will be a $20 late fee added to the hourly rate for every hour late.\n",
      "\n",
      "\n"
     ]
    },
    {
     "name": "stdout",
     "output_type": "stream",
     "text": [
      "Would you like to confirm this reservation? (Y/N):  N\n"
     ]
    },
    {
     "name": "stdout",
     "output_type": "stream",
     "text": [
      "Reservation cancelled.\n",
      "Rental has been cancelled.\n",
      "Vehicle ID :Vin1 | \u001b[4mFerrari 488 Pista Coupe\u001b[0m 2020 Color: Red Passengers: 2 Luggage: 4 Transmission: Auto Doors: 2 Rates: Hourly: $105 Daily: $2520 Weekly: $17640\n",
      "Vehicle ID :Vin2 | \u001b[4mLamborghini Aventador SVJ\u001b[0m 2022 Color: Black Passengers: 4 Luggage: 4 Transmission: Auto Doors: 4 Rates: Hourly: $125 Daily: $3000 Weekly: $21000\n",
      "Vehicle ID :Vin3 | \u001b[4mMcLaren 720S\u001b[0m 2022 Color: Blue Passengers: 2 Luggage: 2 Transmission: Auto Doors: 2 Rates: Hourly: $105 Daily: $2520 Weekly: $17640\n",
      "Vehicle ID :Vin4 | \u001b[4mPorsche 911 GT3\u001b[0m 2022 Color: White Passengers: 2 Luggage: 2 Transmission: Auto Doors: 2 Rates: Hourly: $85 Daily: $2040 Weekly: $14280\n",
      "Vehicle ID :Vin5 | \u001b[4mAudi R8\u001b[0m 2020 Color: Silver Passengers: 2 Luggage: 4 Transmission: Manual Doors: 2 Rates: Hourly: $125 Daily: $3000 Weekly: $21000\n",
      "Vehicle ID :Vin6 | \u001b[4mBMW M8\u001b[0m 2022 Color: Black Passengers: 2 Luggage: 2 Transmission: Manual Doors: 2 Rates: Hourly: $115 Daily: $2760 Weekly: $19320\n",
      "Vehicle ID :Vin7 | \u001b[4mMercedes-Benz AMG GT\u001b[0m 2024 Color: Red Passengers: 2 Luggage: 2 Transmission: Auto Doors: 2 Rates: Hourly: $146 Daily: $3504 Weekly: $24528\n",
      "Vehicle ID :Vin8 | \u001b[4mRoll Royce Phantom\u001b[0m 2022 Color: Blue Passengers: 4 Luggage: 5 Transmission: Auto Doors: 4 Rates: Hourly: $167 Daily: $4008 Weekly: $28056\n",
      "Vehicle ID :Vin9 | \u001b[4mLamborghini Aventador SV Roadster\u001b[0m 2018 Color: Yellow Passengers: 2 Luggage: 2 Transmission: Auto Doors: 2 Rates: Hourly: $95 Daily: $2280 Weekly: $15960\n",
      "Vehicle ID :Vin10 | \u001b[4mMercedes-Benz Brabus G Class 4x4 AMG\u001b[0m 2019 Color: Red Passengers: 5 Luggage: 9 Transmission: Auto Doors: 5 Rates: Hourly: $188 Daily: $4512 Weekly: $31584\n",
      "Vehicle ID :Vin11 | \u001b[4mNissan GT-R\u001b[0m 2018 Color: Blue Passengers: 2 Luggage: 4 Transmission: Manual Doors: 2 Rates: Hourly: $85 Daily: $2040 Weekly: $14280\n",
      "Vehicle ID :Vin12 | \u001b[4mRolls Royce Dawn Convertible\u001b[0m 2019 Color: Blue Passengers: 4 Luggage: 4 Transmission: Auto Doors: 2 Rates: Hourly: $146 Daily: $3504 Weekly: $24528\n",
      "Vehicle ID :Vin13 | \u001b[4mFerrari 488 GTS Convertible\u001b[0m 2019 Color: Blue Passengers: 2 Luggage: 2 Transmission: Auto Doors: 2 Rates: Hourly: $125 Daily: $3000 Weekly: $21000\n",
      "Vehicle ID :Vin14 | \u001b[4mMaserati Quatroporte S Granlusso\u001b[0m 2021 Color: White Passengers: 5 Luggage: 4 Transmission: Auto Doors: 4 Rates: Hourly: $146 Daily: $3504 Weekly: $24528\n",
      "Vehicle ID :Vin15 | \u001b[4mLamborghini Huracan EVO SPyder\u001b[0m 2021 Color: Green Passengers: 2 Luggage: 2 Transmission: Auto Doors: 2 Rates: Hourly: $157 Daily: $3768 Weekly: $26376\n",
      "Vehicle ID :Vin16 | \u001b[4mRolls Royce Cullinan\u001b[0m 2021 Color: White Passengers: 7 Luggage: 5 Transmission: Auto Doors: 4 Rates: Hourly: $157 Daily: $3768 Weekly: $26376\n",
      "Vehicle ID :Vin17 | \u001b[4mDodge Charger SRT Hellcat Widebody\u001b[0m 2022 Color: Blue Passengers: 5 Luggage: 5 Transmission: Auto Doors: 4 Rates: Hourly: $130 Daily: $3120 Weekly: $21840\n",
      "Vehicle ID :Vin18 | \u001b[4mPorsche 911 Carrera 4S Cabriolet\u001b[0m 2023 Color: Red Passengers: 2 Luggage: 2 Transmission: Auto Doors: 2 Rates: Hourly: $80 Daily: $1920 Weekly: $13440\n",
      "Vehicle ID :Vin19 | \u001b[4mMercedes-Benz Maybach GLS 600 AMG\u001b[0m 2023 Color: Blue Passengers: 4 Luggage: 5 Transmission: Auto Doors: 4 Rates: Hourly: $146 Daily: $3504 Weekly: $24528\n",
      "Vehicle ID :Vin20 | \u001b[4mJeep Gladiator 6x6\u001b[0m 2024 Color: Red Passengers: 7 Luggage: 8 Transmission: Auto Doors: 4 Rates: Hourly: $208 Daily: $4992 Weekly: $34944\n"
     ]
    },
    {
     "name": "stdout",
     "output_type": "stream",
     "text": [
      "Press Enter to continue... \n"
     ]
    },
    {
     "name": "stdout",
     "output_type": "stream",
     "text": [
      "\n",
      "\n",
      "\n",
      "---------------------------------- Welcome To Luxury Car Rentals --------------------------------\n",
      "1. Display Available Cars Inventory\n",
      "2. Rent Vehicle(s)\n",
      "3. Return Vehicle(s)\n",
      "4. Exit Menu\n",
      "--------------------------------------------------------------------------------------------------\n",
      "\n",
      "\n"
     ]
    },
    {
     "name": "stdout",
     "output_type": "stream",
     "text": [
      "Please select an option from the menu above:  2\n"
     ]
    },
    {
     "name": "stdout",
     "output_type": "stream",
     "text": [
      "Rent Vehicle(s)\n",
      "-------------------------------\n"
     ]
    },
    {
     "name": "stdout",
     "output_type": "stream",
     "text": [
      "Do you have an account with us? (yes/no):  no\n",
      "Enter your age:  22\n",
      "Enter your first name:  Derek \n",
      "Enter your last name:  Meeks\n",
      "Enter your driver's license number:  DL1234\n",
      "Enter your email address:  \n",
      "Enter your phone number:  \n"
     ]
    },
    {
     "name": "stdout",
     "output_type": "stream",
     "text": [
      "Customer already exists in the database. Please try again.\n"
     ]
    },
    {
     "name": "stdout",
     "output_type": "stream",
     "text": [
      "Press Enter to continue... \n"
     ]
    },
    {
     "name": "stdout",
     "output_type": "stream",
     "text": [
      "\n",
      "\n",
      "---------------------------------- Welcome To Luxury Car Rentals --------------------------------\n",
      "1. Display Available Cars Inventory\n",
      "2. Rent Vehicle(s)\n",
      "3. Return Vehicle(s)\n",
      "4. Exit Menu\n",
      "--------------------------------------------------------------------------------------------------\n",
      "\n",
      "\n"
     ]
    },
    {
     "name": "stdout",
     "output_type": "stream",
     "text": [
      "Please select an option from the menu above:  2\n"
     ]
    },
    {
     "name": "stdout",
     "output_type": "stream",
     "text": [
      "Rent Vehicle(s)\n",
      "-------------------------------\n"
     ]
    },
    {
     "name": "stdout",
     "output_type": "stream",
     "text": [
      "Do you have an account with us? (yes/no):  no\n",
      "Enter your age:  Mike\n"
     ]
    },
    {
     "name": "stdout",
     "output_type": "stream",
     "text": [
      "\n",
      "\n",
      "---------------------------------- Welcome To Luxury Car Rentals --------------------------------\n",
      "1. Display Available Cars Inventory\n",
      "2. Rent Vehicle(s)\n",
      "3. Return Vehicle(s)\n",
      "4. Exit Menu\n",
      "--------------------------------------------------------------------------------------------------\n",
      "\n",
      "\n"
     ]
    },
    {
     "name": "stdout",
     "output_type": "stream",
     "text": [
      "Please select an option from the menu above:  2\n"
     ]
    },
    {
     "name": "stdout",
     "output_type": "stream",
     "text": [
      "Rent Vehicle(s)\n",
      "-------------------------------\n"
     ]
    },
    {
     "name": "stdout",
     "output_type": "stream",
     "text": [
      "Do you have an account with us? (yes/no):  no\n",
      "Enter your age:  22\n",
      "Enter your first name:  Mike\n",
      "Enter your last name:  Moore\n",
      "Enter your driver's license number:  Dl12345\n",
      "Enter your email address:  me@moore.com\n",
      "Enter your phone number:  \n"
     ]
    },
    {
     "name": "stdout",
     "output_type": "stream",
     "text": [
      "\n",
      "\n",
      "Customer Information: \n",
      "-------------------------\n",
      "Customer Account Number:  Dl12345\n",
      "First Name:  Mike\n",
      "Last Name:  Moore\n",
      "Email:  me@moore.com\n",
      "Phone:  \n"
     ]
    },
    {
     "name": "stdout",
     "output_type": "stream",
     "text": [
      "Press Enter to continue... \n"
     ]
    },
    {
     "name": "stdout",
     "output_type": "stream",
     "text": [
      "\n",
      "\n"
     ]
    },
    {
     "name": "stdout",
     "output_type": "stream",
     "text": [
      "How many vehicles would you like to rent?  1\n"
     ]
    },
    {
     "name": "stdout",
     "output_type": "stream",
     "text": [
      "AVAILABILITY :  20  available cars\n",
      "\n",
      "\n",
      "Rental Period Choices:\n",
      "1. Hourly\n",
      "2. Daily\n",
      "3. Weekly\n",
      "\n",
      "\n",
      "Enter Option for rental period. Example, type: 3 for weekly rental. Note: (All vehicles must be rented at same time and returned at the same time.)\n"
     ]
    },
    {
     "name": "stdout",
     "output_type": "stream",
     "text": [
      " 2\n"
     ]
    },
    {
     "name": "stdout",
     "output_type": "stream",
     "text": [
      "\n",
      "\n",
      "------Available Vehicles------\n",
      "\n",
      "\n",
      "Vehicle ID :Vin1 | \u001b[4mFerrari 488 Pista Coupe\u001b[0m 2020 Color: Red Passengers: 2 Luggage: 4 Transmission: Auto Doors: 2 Rates: Hourly: $105 Daily: $2520 Weekly: $17640\n",
      "Vehicle ID :Vin2 | \u001b[4mLamborghini Aventador SVJ\u001b[0m 2022 Color: Black Passengers: 4 Luggage: 4 Transmission: Auto Doors: 4 Rates: Hourly: $125 Daily: $3000 Weekly: $21000\n",
      "Vehicle ID :Vin3 | \u001b[4mMcLaren 720S\u001b[0m 2022 Color: Blue Passengers: 2 Luggage: 2 Transmission: Auto Doors: 2 Rates: Hourly: $105 Daily: $2520 Weekly: $17640\n",
      "Vehicle ID :Vin4 | \u001b[4mPorsche 911 GT3\u001b[0m 2022 Color: White Passengers: 2 Luggage: 2 Transmission: Auto Doors: 2 Rates: Hourly: $85 Daily: $2040 Weekly: $14280\n",
      "Vehicle ID :Vin5 | \u001b[4mAudi R8\u001b[0m 2020 Color: Silver Passengers: 2 Luggage: 4 Transmission: Manual Doors: 2 Rates: Hourly: $125 Daily: $3000 Weekly: $21000\n",
      "Vehicle ID :Vin6 | \u001b[4mBMW M8\u001b[0m 2022 Color: Black Passengers: 2 Luggage: 2 Transmission: Manual Doors: 2 Rates: Hourly: $115 Daily: $2760 Weekly: $19320\n",
      "Vehicle ID :Vin7 | \u001b[4mMercedes-Benz AMG GT\u001b[0m 2024 Color: Red Passengers: 2 Luggage: 2 Transmission: Auto Doors: 2 Rates: Hourly: $146 Daily: $3504 Weekly: $24528\n",
      "Vehicle ID :Vin8 | \u001b[4mRoll Royce Phantom\u001b[0m 2022 Color: Blue Passengers: 4 Luggage: 5 Transmission: Auto Doors: 4 Rates: Hourly: $167 Daily: $4008 Weekly: $28056\n",
      "Vehicle ID :Vin9 | \u001b[4mLamborghini Aventador SV Roadster\u001b[0m 2018 Color: Yellow Passengers: 2 Luggage: 2 Transmission: Auto Doors: 2 Rates: Hourly: $95 Daily: $2280 Weekly: $15960\n",
      "Vehicle ID :Vin10 | \u001b[4mMercedes-Benz Brabus G Class 4x4 AMG\u001b[0m 2019 Color: Red Passengers: 5 Luggage: 9 Transmission: Auto Doors: 5 Rates: Hourly: $188 Daily: $4512 Weekly: $31584\n",
      "Vehicle ID :Vin11 | \u001b[4mNissan GT-R\u001b[0m 2018 Color: Blue Passengers: 2 Luggage: 4 Transmission: Manual Doors: 2 Rates: Hourly: $85 Daily: $2040 Weekly: $14280\n",
      "Vehicle ID :Vin12 | \u001b[4mRolls Royce Dawn Convertible\u001b[0m 2019 Color: Blue Passengers: 4 Luggage: 4 Transmission: Auto Doors: 2 Rates: Hourly: $146 Daily: $3504 Weekly: $24528\n",
      "Vehicle ID :Vin13 | \u001b[4mFerrari 488 GTS Convertible\u001b[0m 2019 Color: Blue Passengers: 2 Luggage: 2 Transmission: Auto Doors: 2 Rates: Hourly: $125 Daily: $3000 Weekly: $21000\n",
      "Vehicle ID :Vin14 | \u001b[4mMaserati Quatroporte S Granlusso\u001b[0m 2021 Color: White Passengers: 5 Luggage: 4 Transmission: Auto Doors: 4 Rates: Hourly: $146 Daily: $3504 Weekly: $24528\n",
      "Vehicle ID :Vin15 | \u001b[4mLamborghini Huracan EVO SPyder\u001b[0m 2021 Color: Green Passengers: 2 Luggage: 2 Transmission: Auto Doors: 2 Rates: Hourly: $157 Daily: $3768 Weekly: $26376\n",
      "Vehicle ID :Vin16 | \u001b[4mRolls Royce Cullinan\u001b[0m 2021 Color: White Passengers: 7 Luggage: 5 Transmission: Auto Doors: 4 Rates: Hourly: $157 Daily: $3768 Weekly: $26376\n",
      "Vehicle ID :Vin17 | \u001b[4mDodge Charger SRT Hellcat Widebody\u001b[0m 2022 Color: Blue Passengers: 5 Luggage: 5 Transmission: Auto Doors: 4 Rates: Hourly: $130 Daily: $3120 Weekly: $21840\n",
      "Vehicle ID :Vin18 | \u001b[4mPorsche 911 Carrera 4S Cabriolet\u001b[0m 2023 Color: Red Passengers: 2 Luggage: 2 Transmission: Auto Doors: 2 Rates: Hourly: $80 Daily: $1920 Weekly: $13440\n",
      "Vehicle ID :Vin19 | \u001b[4mMercedes-Benz Maybach GLS 600 AMG\u001b[0m 2023 Color: Blue Passengers: 4 Luggage: 5 Transmission: Auto Doors: 4 Rates: Hourly: $146 Daily: $3504 Weekly: $24528\n",
      "Vehicle ID :Vin20 | \u001b[4mJeep Gladiator 6x6\u001b[0m 2024 Color: Red Passengers: 7 Luggage: 8 Transmission: Auto Doors: 4 Rates: Hourly: $208 Daily: $4992 Weekly: $34944\n",
      "\n",
      "\n",
      "Enter the Vehicle ID for vehicle  1  Example, type: Vin11\n"
     ]
    },
    {
     "name": "stdout",
     "output_type": "stream",
     "text": [
      " Vin20\n"
     ]
    },
    {
     "name": "stdout",
     "output_type": "stream",
     "text": [
      "\n",
      "\n",
      "Please enter the pickup time for your reservation.\n"
     ]
    },
    {
     "name": "stdout",
     "output_type": "stream",
     "text": [
      "Enter the date and time (MM/DD/YYYY HH:MM AM/PM or MM/DD/YYYY HH AM/PM):  4/17/2024 8:00 AM\n"
     ]
    },
    {
     "name": "stdout",
     "output_type": "stream",
     "text": [
      "Validated time: Wednesday, April 17, 2024 08:00 AM\n",
      "\n",
      "\n",
      "Please enter the drop off or return time for your reservation.\n"
     ]
    },
    {
     "name": "stdout",
     "output_type": "stream",
     "text": [
      "Enter the date and time (MM/DD/YYYY HH:MM AM/PM or MM/DD/YYYY HH AM/PM):  4/18/2024 8:00 PM\n"
     ]
    },
    {
     "name": "stdout",
     "output_type": "stream",
     "text": [
      "Validated time: Thursday, April 18, 2024 08:00 PM\n",
      "\n",
      "\n",
      "Rental Duration Details:\n",
      "-------------------------\n",
      "duration :  1 day, 12:00:00\n",
      "total_days :  1.5\n",
      "Rental Period: Daily\n",
      "-------------------------------------------------------------------------------\n",
      "Rental Details:\n",
      "-------------------------------------------------\n",
      "Vehicle(s):\n",
      "Vehicle: Jeep Gladiator 6x6 2024 Color: Red Passengers: 7 Luggage: 8 Transmission: Auto Doors: 4 Rental Period: Daily Rate: $4992\n",
      "-------------------------------------------------\n",
      "Pickup Time:  Wednesday, April 17, 2024 08:00 AM\n",
      "Return Time:  Thursday, April 18, 2024 08:00 PM\n",
      "Ontime Return Cost:  7488.0\n",
      "\n",
      "\n",
      "NOTE: All vehicles must be rented at the same time and returned at the same time. Early returns will be charged the full rental rate.\n",
      "\n",
      "\n",
      "LATE FEE INFORMATION : \n",
      "For Daily Rentals: There will be a $480 late fee added to the daily rate for every day late or part thereof, which is equivalent to a $20 late fee for every hour late.\n",
      "\n",
      "\n"
     ]
    },
    {
     "name": "stdout",
     "output_type": "stream",
     "text": [
      "Would you like to confirm this reservation? (Y/N):  y\n"
     ]
    },
    {
     "name": "stdout",
     "output_type": "stream",
     "text": [
      "Reservation confirmed. Thank you!\n",
      "\n",
      "\n",
      "---------------------------------- Welcome To Luxury Car Rentals --------------------------------\n",
      "1. Display Available Cars Inventory\n",
      "2. Rent Vehicle(s)\n",
      "3. Return Vehicle(s)\n",
      "4. Exit Menu\n",
      "--------------------------------------------------------------------------------------------------\n",
      "\n",
      "\n"
     ]
    },
    {
     "name": "stdout",
     "output_type": "stream",
     "text": [
      "Please select an option from the menu above:  2\n"
     ]
    },
    {
     "name": "stdout",
     "output_type": "stream",
     "text": [
      "Rent Vehicle(s)\n",
      "-------------------------------\n"
     ]
    },
    {
     "name": "stdout",
     "output_type": "stream",
     "text": [
      "Do you have an account with us? (yes/no):  yes\n",
      "Enter your Driver's License Number:  DL1234\n"
     ]
    },
    {
     "name": "stdout",
     "output_type": "stream",
     "text": [
      "Found it!\n",
      "Welcome back, Derek Meeks!\n",
      "\n",
      "\n",
      "Active Rental:  False\n",
      "\n",
      "\n"
     ]
    },
    {
     "name": "stdout",
     "output_type": "stream",
     "text": [
      "Press Enter to continue... \n"
     ]
    },
    {
     "name": "stdout",
     "output_type": "stream",
     "text": [
      "\n",
      "\n"
     ]
    },
    {
     "name": "stdout",
     "output_type": "stream",
     "text": [
      "How many vehicles would you like to rent?  1\n"
     ]
    },
    {
     "name": "stdout",
     "output_type": "stream",
     "text": [
      "AVAILABILITY :  19  available cars\n",
      "\n",
      "\n",
      "Rental Period Choices:\n",
      "1. Hourly\n",
      "2. Daily\n",
      "3. Weekly\n",
      "\n",
      "\n",
      "Enter Option for rental period. Example, type: 3 for weekly rental. Note: (All vehicles must be rented at same time and returned at the same time.)\n"
     ]
    },
    {
     "name": "stdout",
     "output_type": "stream",
     "text": [
      " 1\n"
     ]
    },
    {
     "name": "stdout",
     "output_type": "stream",
     "text": [
      "\n",
      "\n",
      "------Available Vehicles------\n",
      "\n",
      "\n",
      "Vehicle ID :Vin1 | \u001b[4mFerrari 488 Pista Coupe\u001b[0m 2020 Color: Red Passengers: 2 Luggage: 4 Transmission: Auto Doors: 2 Rates: Hourly: $105 Daily: $2520 Weekly: $17640\n",
      "Vehicle ID :Vin2 | \u001b[4mLamborghini Aventador SVJ\u001b[0m 2022 Color: Black Passengers: 4 Luggage: 4 Transmission: Auto Doors: 4 Rates: Hourly: $125 Daily: $3000 Weekly: $21000\n",
      "Vehicle ID :Vin3 | \u001b[4mMcLaren 720S\u001b[0m 2022 Color: Blue Passengers: 2 Luggage: 2 Transmission: Auto Doors: 2 Rates: Hourly: $105 Daily: $2520 Weekly: $17640\n",
      "Vehicle ID :Vin4 | \u001b[4mPorsche 911 GT3\u001b[0m 2022 Color: White Passengers: 2 Luggage: 2 Transmission: Auto Doors: 2 Rates: Hourly: $85 Daily: $2040 Weekly: $14280\n",
      "Vehicle ID :Vin5 | \u001b[4mAudi R8\u001b[0m 2020 Color: Silver Passengers: 2 Luggage: 4 Transmission: Manual Doors: 2 Rates: Hourly: $125 Daily: $3000 Weekly: $21000\n",
      "Vehicle ID :Vin6 | \u001b[4mBMW M8\u001b[0m 2022 Color: Black Passengers: 2 Luggage: 2 Transmission: Manual Doors: 2 Rates: Hourly: $115 Daily: $2760 Weekly: $19320\n",
      "Vehicle ID :Vin7 | \u001b[4mMercedes-Benz AMG GT\u001b[0m 2024 Color: Red Passengers: 2 Luggage: 2 Transmission: Auto Doors: 2 Rates: Hourly: $146 Daily: $3504 Weekly: $24528\n",
      "Vehicle ID :Vin8 | \u001b[4mRoll Royce Phantom\u001b[0m 2022 Color: Blue Passengers: 4 Luggage: 5 Transmission: Auto Doors: 4 Rates: Hourly: $167 Daily: $4008 Weekly: $28056\n",
      "Vehicle ID :Vin9 | \u001b[4mLamborghini Aventador SV Roadster\u001b[0m 2018 Color: Yellow Passengers: 2 Luggage: 2 Transmission: Auto Doors: 2 Rates: Hourly: $95 Daily: $2280 Weekly: $15960\n",
      "Vehicle ID :Vin10 | \u001b[4mMercedes-Benz Brabus G Class 4x4 AMG\u001b[0m 2019 Color: Red Passengers: 5 Luggage: 9 Transmission: Auto Doors: 5 Rates: Hourly: $188 Daily: $4512 Weekly: $31584\n",
      "Vehicle ID :Vin11 | \u001b[4mNissan GT-R\u001b[0m 2018 Color: Blue Passengers: 2 Luggage: 4 Transmission: Manual Doors: 2 Rates: Hourly: $85 Daily: $2040 Weekly: $14280\n",
      "Vehicle ID :Vin12 | \u001b[4mRolls Royce Dawn Convertible\u001b[0m 2019 Color: Blue Passengers: 4 Luggage: 4 Transmission: Auto Doors: 2 Rates: Hourly: $146 Daily: $3504 Weekly: $24528\n",
      "Vehicle ID :Vin13 | \u001b[4mFerrari 488 GTS Convertible\u001b[0m 2019 Color: Blue Passengers: 2 Luggage: 2 Transmission: Auto Doors: 2 Rates: Hourly: $125 Daily: $3000 Weekly: $21000\n",
      "Vehicle ID :Vin14 | \u001b[4mMaserati Quatroporte S Granlusso\u001b[0m 2021 Color: White Passengers: 5 Luggage: 4 Transmission: Auto Doors: 4 Rates: Hourly: $146 Daily: $3504 Weekly: $24528\n",
      "Vehicle ID :Vin15 | \u001b[4mLamborghini Huracan EVO SPyder\u001b[0m 2021 Color: Green Passengers: 2 Luggage: 2 Transmission: Auto Doors: 2 Rates: Hourly: $157 Daily: $3768 Weekly: $26376\n",
      "Vehicle ID :Vin16 | \u001b[4mRolls Royce Cullinan\u001b[0m 2021 Color: White Passengers: 7 Luggage: 5 Transmission: Auto Doors: 4 Rates: Hourly: $157 Daily: $3768 Weekly: $26376\n",
      "Vehicle ID :Vin17 | \u001b[4mDodge Charger SRT Hellcat Widebody\u001b[0m 2022 Color: Blue Passengers: 5 Luggage: 5 Transmission: Auto Doors: 4 Rates: Hourly: $130 Daily: $3120 Weekly: $21840\n",
      "Vehicle ID :Vin18 | \u001b[4mPorsche 911 Carrera 4S Cabriolet\u001b[0m 2023 Color: Red Passengers: 2 Luggage: 2 Transmission: Auto Doors: 2 Rates: Hourly: $80 Daily: $1920 Weekly: $13440\n",
      "Vehicle ID :Vin19 | \u001b[4mMercedes-Benz Maybach GLS 600 AMG\u001b[0m 2023 Color: Blue Passengers: 4 Luggage: 5 Transmission: Auto Doors: 4 Rates: Hourly: $146 Daily: $3504 Weekly: $24528\n",
      "\n",
      "\n",
      "Enter the Vehicle ID for vehicle  1  Example, type: Vin11\n"
     ]
    },
    {
     "name": "stdout",
     "output_type": "stream",
     "text": [
      " Vin19\n"
     ]
    },
    {
     "name": "stdout",
     "output_type": "stream",
     "text": [
      "\n",
      "\n",
      "Please enter the pickup time for your reservation.\n"
     ]
    },
    {
     "name": "stdout",
     "output_type": "stream",
     "text": [
      "Enter the date and time (MM/DD/YYYY HH:MM AM/PM or MM/DD/YYYY HH AM/PM):  4/17/2024 7:00 AM\n"
     ]
    },
    {
     "name": "stdout",
     "output_type": "stream",
     "text": [
      "Validated time: Wednesday, April 17, 2024 07:00 AM\n",
      "\n",
      "\n",
      "Please enter the drop off or return time for your reservation.\n"
     ]
    },
    {
     "name": "stdout",
     "output_type": "stream",
     "text": [
      "Enter the date and time (MM/DD/YYYY HH:MM AM/PM or MM/DD/YYYY HH AM/PM):  4/17/2024 7:00 PM\n"
     ]
    },
    {
     "name": "stdout",
     "output_type": "stream",
     "text": [
      "Validated time: Wednesday, April 17, 2024 07:00 PM\n",
      "\n",
      "\n",
      "Rental Duration Details:\n",
      "-------------------------\n",
      "duration :  12:00:00\n",
      "total_hours :  12.0\n",
      "Rental Period: Hourly\n",
      "-------------------------------------------------------------------------------\n",
      "Rental Details:\n",
      "-------------------------------------------------\n",
      "Vehicle(s):\n",
      "Vehicle: Mercedes-Benz Maybach GLS 600 AMG 2023 Color: Blue Passengers: 4 Luggage: 5 Transmission: Auto Doors: 4 Rental Period: Hourly Rate: $146\n",
      "-------------------------------------------------\n",
      "Pickup Time:  Wednesday, April 17, 2024 07:00 AM\n",
      "Return Time:  Wednesday, April 17, 2024 07:00 PM\n",
      "Ontime Return Cost:  1752.0\n",
      "\n",
      "\n",
      "NOTE: All vehicles must be rented at the same time and returned at the same time. Early returns will be charged the full rental rate.\n",
      "\n",
      "\n",
      "LATE FEE INFORMATION : \n",
      "For Hourly Rentals: There will be a $20 late fee added to the hourly rate for every hour late.\n",
      "\n",
      "\n"
     ]
    },
    {
     "name": "stdout",
     "output_type": "stream",
     "text": [
      "Would you like to confirm this reservation? (Y/N):  y\n"
     ]
    },
    {
     "name": "stdout",
     "output_type": "stream",
     "text": [
      "Reservation confirmed. Thank you!\n",
      "\n",
      "\n",
      "---------------------------------- Welcome To Luxury Car Rentals --------------------------------\n",
      "1. Display Available Cars Inventory\n",
      "2. Rent Vehicle(s)\n",
      "3. Return Vehicle(s)\n",
      "4. Exit Menu\n",
      "--------------------------------------------------------------------------------------------------\n",
      "\n",
      "\n"
     ]
    },
    {
     "name": "stdout",
     "output_type": "stream",
     "text": [
      "Please select an option from the menu above:  2\n"
     ]
    },
    {
     "name": "stdout",
     "output_type": "stream",
     "text": [
      "Rent Vehicle(s)\n",
      "-------------------------------\n"
     ]
    },
    {
     "name": "stdout",
     "output_type": "stream",
     "text": [
      "Do you have an account with us? (yes/no):  no\n",
      "Enter your age:  33\n",
      "Enter your first name:  Mi\n",
      "Enter your last name:  Oo\n",
      "Enter your driver's license number:  DL123456\n",
      "Enter your email address:  me@moo.com\n",
      "Enter your phone number:  \n"
     ]
    },
    {
     "name": "stdout",
     "output_type": "stream",
     "text": [
      "\n",
      "\n",
      "Customer Information: \n",
      "-------------------------\n",
      "Customer Account Number:  DL123456\n",
      "First Name:  Mi\n",
      "Last Name:  Oo\n",
      "Email:  me@moo.com\n",
      "Phone:  \n"
     ]
    },
    {
     "name": "stdout",
     "output_type": "stream",
     "text": [
      "Press Enter to continue... \n"
     ]
    },
    {
     "name": "stdout",
     "output_type": "stream",
     "text": [
      "\n",
      "\n"
     ]
    },
    {
     "name": "stdout",
     "output_type": "stream",
     "text": [
      "How many vehicles would you like to rent?  1\n"
     ]
    },
    {
     "name": "stdout",
     "output_type": "stream",
     "text": [
      "AVAILABILITY :  18  available cars\n",
      "\n",
      "\n",
      "Rental Period Choices:\n",
      "1. Hourly\n",
      "2. Daily\n",
      "3. Weekly\n",
      "\n",
      "\n",
      "Enter Option for rental period. Example, type: 3 for weekly rental. Note: (All vehicles must be rented at same time and returned at the same time.)\n"
     ]
    },
    {
     "name": "stdout",
     "output_type": "stream",
     "text": [
      " 3\n"
     ]
    },
    {
     "name": "stdout",
     "output_type": "stream",
     "text": [
      "\n",
      "\n",
      "------Available Vehicles------\n",
      "\n",
      "\n",
      "Vehicle ID :Vin1 | \u001b[4mFerrari 488 Pista Coupe\u001b[0m 2020 Color: Red Passengers: 2 Luggage: 4 Transmission: Auto Doors: 2 Rates: Hourly: $105 Daily: $2520 Weekly: $17640\n",
      "Vehicle ID :Vin2 | \u001b[4mLamborghini Aventador SVJ\u001b[0m 2022 Color: Black Passengers: 4 Luggage: 4 Transmission: Auto Doors: 4 Rates: Hourly: $125 Daily: $3000 Weekly: $21000\n",
      "Vehicle ID :Vin3 | \u001b[4mMcLaren 720S\u001b[0m 2022 Color: Blue Passengers: 2 Luggage: 2 Transmission: Auto Doors: 2 Rates: Hourly: $105 Daily: $2520 Weekly: $17640\n",
      "Vehicle ID :Vin4 | \u001b[4mPorsche 911 GT3\u001b[0m 2022 Color: White Passengers: 2 Luggage: 2 Transmission: Auto Doors: 2 Rates: Hourly: $85 Daily: $2040 Weekly: $14280\n",
      "Vehicle ID :Vin5 | \u001b[4mAudi R8\u001b[0m 2020 Color: Silver Passengers: 2 Luggage: 4 Transmission: Manual Doors: 2 Rates: Hourly: $125 Daily: $3000 Weekly: $21000\n",
      "Vehicle ID :Vin6 | \u001b[4mBMW M8\u001b[0m 2022 Color: Black Passengers: 2 Luggage: 2 Transmission: Manual Doors: 2 Rates: Hourly: $115 Daily: $2760 Weekly: $19320\n",
      "Vehicle ID :Vin7 | \u001b[4mMercedes-Benz AMG GT\u001b[0m 2024 Color: Red Passengers: 2 Luggage: 2 Transmission: Auto Doors: 2 Rates: Hourly: $146 Daily: $3504 Weekly: $24528\n",
      "Vehicle ID :Vin8 | \u001b[4mRoll Royce Phantom\u001b[0m 2022 Color: Blue Passengers: 4 Luggage: 5 Transmission: Auto Doors: 4 Rates: Hourly: $167 Daily: $4008 Weekly: $28056\n",
      "Vehicle ID :Vin9 | \u001b[4mLamborghini Aventador SV Roadster\u001b[0m 2018 Color: Yellow Passengers: 2 Luggage: 2 Transmission: Auto Doors: 2 Rates: Hourly: $95 Daily: $2280 Weekly: $15960\n",
      "Vehicle ID :Vin10 | \u001b[4mMercedes-Benz Brabus G Class 4x4 AMG\u001b[0m 2019 Color: Red Passengers: 5 Luggage: 9 Transmission: Auto Doors: 5 Rates: Hourly: $188 Daily: $4512 Weekly: $31584\n",
      "Vehicle ID :Vin11 | \u001b[4mNissan GT-R\u001b[0m 2018 Color: Blue Passengers: 2 Luggage: 4 Transmission: Manual Doors: 2 Rates: Hourly: $85 Daily: $2040 Weekly: $14280\n",
      "Vehicle ID :Vin12 | \u001b[4mRolls Royce Dawn Convertible\u001b[0m 2019 Color: Blue Passengers: 4 Luggage: 4 Transmission: Auto Doors: 2 Rates: Hourly: $146 Daily: $3504 Weekly: $24528\n",
      "Vehicle ID :Vin13 | \u001b[4mFerrari 488 GTS Convertible\u001b[0m 2019 Color: Blue Passengers: 2 Luggage: 2 Transmission: Auto Doors: 2 Rates: Hourly: $125 Daily: $3000 Weekly: $21000\n",
      "Vehicle ID :Vin14 | \u001b[4mMaserati Quatroporte S Granlusso\u001b[0m 2021 Color: White Passengers: 5 Luggage: 4 Transmission: Auto Doors: 4 Rates: Hourly: $146 Daily: $3504 Weekly: $24528\n",
      "Vehicle ID :Vin15 | \u001b[4mLamborghini Huracan EVO SPyder\u001b[0m 2021 Color: Green Passengers: 2 Luggage: 2 Transmission: Auto Doors: 2 Rates: Hourly: $157 Daily: $3768 Weekly: $26376\n",
      "Vehicle ID :Vin16 | \u001b[4mRolls Royce Cullinan\u001b[0m 2021 Color: White Passengers: 7 Luggage: 5 Transmission: Auto Doors: 4 Rates: Hourly: $157 Daily: $3768 Weekly: $26376\n",
      "Vehicle ID :Vin17 | \u001b[4mDodge Charger SRT Hellcat Widebody\u001b[0m 2022 Color: Blue Passengers: 5 Luggage: 5 Transmission: Auto Doors: 4 Rates: Hourly: $130 Daily: $3120 Weekly: $21840\n",
      "Vehicle ID :Vin18 | \u001b[4mPorsche 911 Carrera 4S Cabriolet\u001b[0m 2023 Color: Red Passengers: 2 Luggage: 2 Transmission: Auto Doors: 2 Rates: Hourly: $80 Daily: $1920 Weekly: $13440\n",
      "\n",
      "\n",
      "Enter the Vehicle ID for vehicle  1  Example, type: Vin11\n"
     ]
    },
    {
     "name": "stdout",
     "output_type": "stream",
     "text": [
      " Vin18\n"
     ]
    },
    {
     "name": "stdout",
     "output_type": "stream",
     "text": [
      "\n",
      "\n",
      "Please enter the pickup time for your reservation.\n"
     ]
    },
    {
     "name": "stdout",
     "output_type": "stream",
     "text": [
      "Enter the date and time (MM/DD/YYYY HH:MM AM/PM or MM/DD/YYYY HH AM/PM):  4/20/2024 7:00 AM\n"
     ]
    },
    {
     "name": "stdout",
     "output_type": "stream",
     "text": [
      "Validated time: Saturday, April 20, 2024 07:00 AM\n",
      "\n",
      "\n",
      "Please enter the drop off or return time for your reservation.\n"
     ]
    },
    {
     "name": "stdout",
     "output_type": "stream",
     "text": [
      "Enter the date and time (MM/DD/YYYY HH:MM AM/PM or MM/DD/YYYY HH AM/PM):  5/1/2024 8:00 PM\n"
     ]
    },
    {
     "name": "stdout",
     "output_type": "stream",
     "text": [
      "Validated time: Wednesday, May 01, 2024 08:00 PM\n",
      "\n",
      "\n",
      "Rental Duration Details:\n",
      "-------------------------\n",
      "duration :  11 days, 13:00:00\n",
      "total_weeks :  1.6488095238095237\n",
      "Rental Period: Weekly\n",
      "-------------------------------------------------------------------------------\n",
      "Rental Details:\n",
      "-------------------------------------------------\n",
      "Vehicle(s):\n",
      "Vehicle: Porsche 911 Carrera 4S Cabriolet 2023 Color: Red Passengers: 2 Luggage: 2 Transmission: Auto Doors: 2 Rental Period: Weekly Rate: $13440\n",
      "-------------------------------------------------\n",
      "Pickup Time:  Saturday, April 20, 2024 07:00 AM\n",
      "Return Time:  Wednesday, May 01, 2024 08:00 PM\n",
      "Ontime Return Cost:  22162.56\n",
      "\n",
      "\n",
      "NOTE: All vehicles must be rented at the same time and returned at the same time. Early returns will be charged the full rental rate.\n",
      "\n",
      "\n",
      "LATE FEE INFORMATION : \n",
      "Weekly Rental: There will be a $3360 late fee for every week late or part thereof, which is equivalent to a $20 late fee for every hour late.\n",
      "\n",
      "\n"
     ]
    },
    {
     "name": "stdout",
     "output_type": "stream",
     "text": [
      "Would you like to confirm this reservation? (Y/N):  y\n"
     ]
    },
    {
     "name": "stdout",
     "output_type": "stream",
     "text": [
      "Reservation confirmed. Thank you!\n",
      "\n",
      "\n",
      "---------------------------------- Welcome To Luxury Car Rentals --------------------------------\n",
      "1. Display Available Cars Inventory\n",
      "2. Rent Vehicle(s)\n",
      "3. Return Vehicle(s)\n",
      "4. Exit Menu\n",
      "--------------------------------------------------------------------------------------------------\n",
      "\n",
      "\n"
     ]
    },
    {
     "name": "stdout",
     "output_type": "stream",
     "text": [
      "Please select an option from the menu above:  3\n"
     ]
    },
    {
     "name": "stdout",
     "output_type": "stream",
     "text": [
      "Return Vehicle(s)\n",
      "-------------------------------\n"
     ]
    },
    {
     "name": "stdout",
     "output_type": "stream",
     "text": [
      "Enter your Driver's License Number:  DL1234\n"
     ]
    },
    {
     "name": "stdout",
     "output_type": "stream",
     "text": [
      "Found it!\n",
      "Welcome back, Derek Meeks!\n",
      "Found it!\n",
      "We'll need your return time information to calculate your final total cost.\n",
      "\n",
      "\n"
     ]
    },
    {
     "name": "stdout",
     "output_type": "stream",
     "text": [
      "Enter the date and time (MM/DD/YYYY HH:MM AM/PM or MM/DD/YYYY HH AM/PM):  4/19/2024 8:00 PM\n"
     ]
    },
    {
     "name": "stdout",
     "output_type": "stream",
     "text": [
      "Validated time: Friday, April 19, 2024 08:00 PM\n",
      "duration :  2 days, 13:00:00\n",
      "total_hours :  61.0\n",
      "\n",
      "\n",
      "----------------Billing Information------------------\n",
      "\n",
      "\n",
      "Customer Information: \n",
      "-------------------------\n",
      "Customer Account Number:  DL1234\n",
      "First Name:  Derek\n",
      "Last Name:  Meeks\n",
      "Email:  me@me.com\n",
      "Phone:  \n",
      "\n",
      "\n",
      "Rental Details:\n",
      "-------------------------------------------------\n",
      "Vehicle(s):\n",
      "Vehicle: Mercedes-Benz Maybach GLS 600 AMG 2023 Color: Blue Passengers: 4 Luggage: 5 Transmission: Auto Doors: 4 Rental Period: Hourly Rate: $146\n",
      "-------------------------------------------------\n",
      "Pickup Time :  Wednesday, April 17, 2024 07:00 AM\n",
      "Expected Return Time :  Wednesday, April 17, 2024 07:00 PM\n",
      "Expected Rental Duration :  12.0\n",
      "Actual Return Time :  Friday, April 19, 2024 08:00 PM\n",
      "Actual Rental Duration :  61.0\n",
      "Rental Rate :  146\n",
      "Rental Period Units :  Hours\n",
      "Late Fee :  8134.0\n",
      "Ontime Return Cost :  1752.0\n",
      "----------------_Total Cost_------------------\n",
      "Total Cost (Original Return Cost + Late Fee) :  9886.0\n",
      "\n",
      "\n",
      "Thank You for renting with us!\n",
      "\n",
      "\n"
     ]
    },
    {
     "name": "stdout",
     "output_type": "stream",
     "text": [
      "Press Enter to continue... \n"
     ]
    },
    {
     "name": "stdout",
     "output_type": "stream",
     "text": [
      "\n",
      "\n",
      "---------------------------------- Welcome To Luxury Car Rentals --------------------------------\n",
      "1. Display Available Cars Inventory\n",
      "2. Rent Vehicle(s)\n",
      "3. Return Vehicle(s)\n",
      "4. Exit Menu\n",
      "--------------------------------------------------------------------------------------------------\n",
      "\n",
      "\n"
     ]
    },
    {
     "name": "stdout",
     "output_type": "stream",
     "text": [
      "Please select an option from the menu above:  2\n"
     ]
    },
    {
     "name": "stdout",
     "output_type": "stream",
     "text": [
      "Rent Vehicle(s)\n",
      "-------------------------------\n"
     ]
    },
    {
     "name": "stdout",
     "output_type": "stream",
     "text": [
      "Do you have an account with us? (yes/no):  yes\n",
      "Enter your Driver's License Number:  DL12345\n"
     ]
    },
    {
     "name": "stdout",
     "output_type": "stream",
     "text": [
      "\n",
      "\n",
      "Active Rental:  False\n",
      "\n",
      "\n",
      "Customer ID not found. Please try again.\n"
     ]
    },
    {
     "name": "stdout",
     "output_type": "stream",
     "text": [
      "Press Enter to continue... \n"
     ]
    },
    {
     "name": "stdout",
     "output_type": "stream",
     "text": [
      "\n",
      "\n",
      "---------------------------------- Welcome To Luxury Car Rentals --------------------------------\n",
      "1. Display Available Cars Inventory\n",
      "2. Rent Vehicle(s)\n",
      "3. Return Vehicle(s)\n",
      "4. Exit Menu\n",
      "--------------------------------------------------------------------------------------------------\n",
      "\n",
      "\n"
     ]
    },
    {
     "name": "stdout",
     "output_type": "stream",
     "text": [
      "Please select an option from the menu above:  2\n"
     ]
    },
    {
     "name": "stdout",
     "output_type": "stream",
     "text": [
      "Rent Vehicle(s)\n",
      "-------------------------------\n"
     ]
    },
    {
     "name": "stdout",
     "output_type": "stream",
     "text": [
      "Do you have an account with us? (yes/no):  yes\n",
      "Enter your Driver's License Number:  DL123456\n"
     ]
    },
    {
     "name": "stdout",
     "output_type": "stream",
     "text": [
      "Found it!\n",
      "Welcome back, Mi Oo!\n",
      "\n",
      "\n",
      "Active Rental:  {'DL123456': [['Vin18', 'Porsche', '911 Carrera 4S Cabriolet', 2023, 'Red', 2, 2, 'Auto', 2, 'Weekly', 13440]]}\n",
      "\n",
      "\n",
      "It looks like you have an active rental. Please return the vehicle(s) before renting another one.\n"
     ]
    },
    {
     "name": "stdout",
     "output_type": "stream",
     "text": [
      "Press Enter to continue... \n"
     ]
    },
    {
     "name": "stdout",
     "output_type": "stream",
     "text": [
      "\n",
      "\n",
      "---------------------------------- Welcome To Luxury Car Rentals --------------------------------\n",
      "1. Display Available Cars Inventory\n",
      "2. Rent Vehicle(s)\n",
      "3. Return Vehicle(s)\n",
      "4. Exit Menu\n",
      "--------------------------------------------------------------------------------------------------\n",
      "\n",
      "\n"
     ]
    },
    {
     "name": "stdout",
     "output_type": "stream",
     "text": [
      "Please select an option from the menu above:  4\n"
     ]
    },
    {
     "name": "stdout",
     "output_type": "stream",
     "text": [
      "Exit Menu\n",
      "-------------------------------\n",
      "Thank you for using the Car Rental System. Goodbye!\n"
     ]
    },
    {
     "name": "stdout",
     "output_type": "stream",
     "text": [
      "Rent Vehicle(s)\n",
      "-------------------------------\n"
     ]
    },
    {
     "name": "stdout",
     "output_type": "stream",
     "text": [
      "Do you have an account with us? (yes/no):  no\n",
      "Enter your age:  29\n",
      "Enter your first name:  Derek\n",
      "Enter your last name:  Meeks\n",
      "Enter your driver's license number:  DL1234\n",
      "Enter your email address:  me@mee.com\n",
      "Enter your phone number:  \n"
     ]
    },
    {
     "name": "stdout",
     "output_type": "stream",
     "text": [
      "\n",
      "\n",
      "Customer Information: \n",
      "-------------------------\n",
      "Customer Account Number:  DL1234\n",
      "First Name:  Derek\n",
      "Last Name:  Meeks\n",
      "Email:  me@mee.com\n",
      "Phone:  \n"
     ]
    },
    {
     "name": "stdout",
     "output_type": "stream",
     "text": [
      "Press Enter to continue... \n"
     ]
    },
    {
     "name": "stdout",
     "output_type": "stream",
     "text": [
      "\n",
      "\n"
     ]
    },
    {
     "name": "stdout",
     "output_type": "stream",
     "text": [
      "How many vehicles would you like to rent?  1\n"
     ]
    },
    {
     "name": "stdout",
     "output_type": "stream",
     "text": [
      "AVAILABILITY :  20  available cars\n",
      "\n",
      "\n",
      "Rental Period Choices:\n",
      "1. Hourly\n",
      "2. Daily\n",
      "3. Weekly\n",
      "\n",
      "\n",
      "Enter Option for rental period. Example, type: 3 for weekly rental. Note: (All vehicles must be rented at same time and returned at the same time.)\n"
     ]
    },
    {
     "name": "stdout",
     "output_type": "stream",
     "text": [
      " 1\n"
     ]
    },
    {
     "name": "stdout",
     "output_type": "stream",
     "text": [
      "\n",
      "\n",
      "------Available Vehicles------\n",
      "\n",
      "\n",
      "Vehicle ID :Vin1 | \u001b[4mFerrari 488 Pista Coupe\u001b[0m 2020 Color: Red Passengers: 2 Luggage: 4 Transmission: Auto Doors: 2 Rates: Hourly: $105 Daily: $2520 Weekly: $17640\n",
      "Vehicle ID :Vin2 | \u001b[4mLamborghini Aventador SVJ\u001b[0m 2022 Color: Black Passengers: 4 Luggage: 4 Transmission: Auto Doors: 4 Rates: Hourly: $125 Daily: $3000 Weekly: $21000\n",
      "Vehicle ID :Vin3 | \u001b[4mMcLaren 720S\u001b[0m 2022 Color: Blue Passengers: 2 Luggage: 2 Transmission: Auto Doors: 2 Rates: Hourly: $105 Daily: $2520 Weekly: $17640\n",
      "Vehicle ID :Vin4 | \u001b[4mPorsche 911 GT3\u001b[0m 2022 Color: White Passengers: 2 Luggage: 2 Transmission: Auto Doors: 2 Rates: Hourly: $85 Daily: $2040 Weekly: $14280\n",
      "Vehicle ID :Vin5 | \u001b[4mAudi R8\u001b[0m 2020 Color: Silver Passengers: 2 Luggage: 4 Transmission: Manual Doors: 2 Rates: Hourly: $125 Daily: $3000 Weekly: $21000\n",
      "Vehicle ID :Vin6 | \u001b[4mBMW M8\u001b[0m 2022 Color: Black Passengers: 2 Luggage: 2 Transmission: Manual Doors: 2 Rates: Hourly: $115 Daily: $2760 Weekly: $19320\n",
      "Vehicle ID :Vin7 | \u001b[4mMercedes-Benz AMG GT\u001b[0m 2024 Color: Red Passengers: 2 Luggage: 2 Transmission: Auto Doors: 2 Rates: Hourly: $146 Daily: $3504 Weekly: $24528\n",
      "Vehicle ID :Vin8 | \u001b[4mRoll Royce Phantom\u001b[0m 2022 Color: Blue Passengers: 4 Luggage: 5 Transmission: Auto Doors: 4 Rates: Hourly: $167 Daily: $4008 Weekly: $28056\n",
      "Vehicle ID :Vin9 | \u001b[4mLamborghini Aventador SV Roadster\u001b[0m 2018 Color: Yellow Passengers: 2 Luggage: 2 Transmission: Auto Doors: 2 Rates: Hourly: $95 Daily: $2280 Weekly: $15960\n",
      "Vehicle ID :Vin10 | \u001b[4mMercedes-Benz Brabus G Class 4x4 AMG\u001b[0m 2019 Color: Red Passengers: 5 Luggage: 9 Transmission: Auto Doors: 5 Rates: Hourly: $188 Daily: $4512 Weekly: $31584\n",
      "Vehicle ID :Vin11 | \u001b[4mNissan GT-R\u001b[0m 2018 Color: Blue Passengers: 2 Luggage: 4 Transmission: Manual Doors: 2 Rates: Hourly: $85 Daily: $2040 Weekly: $14280\n",
      "Vehicle ID :Vin12 | \u001b[4mRolls Royce Dawn Convertible\u001b[0m 2019 Color: Blue Passengers: 4 Luggage: 4 Transmission: Auto Doors: 2 Rates: Hourly: $146 Daily: $3504 Weekly: $24528\n",
      "Vehicle ID :Vin13 | \u001b[4mFerrari 488 GTS Convertible\u001b[0m 2019 Color: Blue Passengers: 2 Luggage: 2 Transmission: Auto Doors: 2 Rates: Hourly: $125 Daily: $3000 Weekly: $21000\n",
      "Vehicle ID :Vin14 | \u001b[4mMaserati Quatroporte S Granlusso\u001b[0m 2021 Color: White Passengers: 5 Luggage: 4 Transmission: Auto Doors: 4 Rates: Hourly: $146 Daily: $3504 Weekly: $24528\n",
      "Vehicle ID :Vin15 | \u001b[4mLamborghini Huracan EVO SPyder\u001b[0m 2021 Color: Green Passengers: 2 Luggage: 2 Transmission: Auto Doors: 2 Rates: Hourly: $157 Daily: $3768 Weekly: $26376\n",
      "Vehicle ID :Vin16 | \u001b[4mRolls Royce Cullinan\u001b[0m 2021 Color: White Passengers: 7 Luggage: 5 Transmission: Auto Doors: 4 Rates: Hourly: $157 Daily: $3768 Weekly: $26376\n",
      "Vehicle ID :Vin17 | \u001b[4mDodge Charger SRT Hellcat Widebody\u001b[0m 2022 Color: Blue Passengers: 5 Luggage: 5 Transmission: Auto Doors: 4 Rates: Hourly: $130 Daily: $3120 Weekly: $21840\n",
      "Vehicle ID :Vin18 | \u001b[4mPorsche 911 Carrera 4S Cabriolet\u001b[0m 2023 Color: Red Passengers: 2 Luggage: 2 Transmission: Auto Doors: 2 Rates: Hourly: $80 Daily: $1920 Weekly: $13440\n",
      "Vehicle ID :Vin19 | \u001b[4mMercedes-Benz Maybach GLS 600 AMG\u001b[0m 2023 Color: Blue Passengers: 4 Luggage: 5 Transmission: Auto Doors: 4 Rates: Hourly: $146 Daily: $3504 Weekly: $24528\n",
      "Vehicle ID :Vin20 | \u001b[4mJeep Gladiator 6x6\u001b[0m 2024 Color: Red Passengers: 7 Luggage: 8 Transmission: Auto Doors: 4 Rates: Hourly: $208 Daily: $4992 Weekly: $34944\n",
      "\n",
      "\n",
      "Enter the Vehicle ID for vehicle  1  Example, type: Vin11\n"
     ]
    },
    {
     "name": "stdout",
     "output_type": "stream",
     "text": [
      " Vin20\n"
     ]
    },
    {
     "name": "stdout",
     "output_type": "stream",
     "text": [
      "\n",
      "\n",
      "Please enter the pickup time for your reservation.\n"
     ]
    },
    {
     "name": "stdout",
     "output_type": "stream",
     "text": [
      "Enter the date and time (MM/DD/YYYY HH:MM AM/PM or MM/DD/YYYY HH AM/PM):  4/17/2024 9:00 PM\n"
     ]
    },
    {
     "name": "stdout",
     "output_type": "stream",
     "text": [
      "Validated time: Wednesday, April 17, 2024 09:00 PM\n",
      "\n",
      "\n",
      "Please enter the drop off or return time for your reservation.\n"
     ]
    },
    {
     "name": "stdout",
     "output_type": "stream",
     "text": [
      "Enter the date and time (MM/DD/YYYY HH:MM AM/PM or MM/DD/YYYY HH AM/PM):  4/18/2024 8:00 AM\n"
     ]
    },
    {
     "name": "stdout",
     "output_type": "stream",
     "text": [
      "Validated time: Thursday, April 18, 2024 08:00 AM\n",
      "\n",
      "\n",
      "Rental Duration Details:\n",
      "-------------------------\n",
      "duration :  11:00:00\n",
      "total_hours :  11.0\n",
      "Rental Period: Hourly\n",
      "-------------------------------------------------------------------------------\n",
      "Rental Details:\n",
      "-------------------------------------------------\n",
      "Vehicle(s):\n",
      "Vehicle: Jeep Gladiator 6x6 2024 Color: Red Passengers: 7 Luggage: 8 Transmission: Auto Doors: 4 Rental Period: Hourly Rate: $208\n",
      "-------------------------------------------------\n",
      "Pickup Time:  Wednesday, April 17, 2024 09:00 PM\n",
      "Return Time:  Thursday, April 18, 2024 08:00 AM\n",
      "Ontime Return Cost:  2288.0\n",
      "\n",
      "\n",
      "NOTE: All vehicles must be rented at the same time and returned at the same time. Early returns will be charged the full rental rate.\n",
      "\n",
      "\n",
      "LATE FEE INFORMATION : \n",
      "For Hourly Rentals: There will be a $20 late fee added to the hourly rate for every hour late.\n",
      "\n",
      "\n"
     ]
    },
    {
     "name": "stdout",
     "output_type": "stream",
     "text": [
      "Would you like to confirm this reservation? (Y/N):  Y\n"
     ]
    },
    {
     "name": "stdout",
     "output_type": "stream",
     "text": [
      "Reservation confirmed. Thank you!\n",
      "\n",
      "\n",
      "---------------------------------- Welcome To Luxury Car Rentals --------------------------------\n",
      "1. Display Available Cars Inventory\n",
      "2. Rent Vehicle(s)\n",
      "3. Return Vehicle(s)\n",
      "4. Exit Menu\n",
      "--------------------------------------------------------------------------------------------------\n",
      "\n",
      "\n"
     ]
    },
    {
     "name": "stdout",
     "output_type": "stream",
     "text": [
      "Please select an option from the menu above:  2\n"
     ]
    },
    {
     "name": "stdout",
     "output_type": "stream",
     "text": [
      "Rent Vehicle(s)\n",
      "-------------------------------\n"
     ]
    },
    {
     "name": "stdout",
     "output_type": "stream",
     "text": [
      "Do you have an account with us? (yes/no):  no\n",
      "Enter your age:  29\n",
      "Enter your first name:  Doop\n",
      "Enter your last name:  Soop\n",
      "Enter your driver's license number:  DL12344\n",
      "Enter your email address:  me@doo.com\n",
      "Enter your phone number:  \n"
     ]
    },
    {
     "name": "stdout",
     "output_type": "stream",
     "text": [
      "\n",
      "\n",
      "Customer Information: \n",
      "-------------------------\n",
      "Customer Account Number:  DL12344\n",
      "First Name:  Doop\n",
      "Last Name:  Soop\n",
      "Email:  me@doo.com\n",
      "Phone:  \n"
     ]
    },
    {
     "name": "stdout",
     "output_type": "stream",
     "text": [
      "Press Enter to continue... \n"
     ]
    },
    {
     "name": "stdout",
     "output_type": "stream",
     "text": [
      "\n",
      "\n"
     ]
    },
    {
     "name": "stdout",
     "output_type": "stream",
     "text": [
      "How many vehicles would you like to rent?  1\n"
     ]
    },
    {
     "name": "stdout",
     "output_type": "stream",
     "text": [
      "AVAILABILITY :  19  available cars\n",
      "\n",
      "\n",
      "Rental Period Choices:\n",
      "1. Hourly\n",
      "2. Daily\n",
      "3. Weekly\n",
      "\n",
      "\n",
      "Enter Option for rental period. Example, type: 3 for weekly rental. Note: (All vehicles must be rented at same time and returned at the same time.)\n"
     ]
    },
    {
     "name": "stdout",
     "output_type": "stream",
     "text": [
      " 2\n"
     ]
    },
    {
     "name": "stdout",
     "output_type": "stream",
     "text": [
      "\n",
      "\n",
      "------Available Vehicles------\n",
      "\n",
      "\n",
      "Vehicle ID :Vin1 | \u001b[4mFerrari 488 Pista Coupe\u001b[0m 2020 Color: Red Passengers: 2 Luggage: 4 Transmission: Auto Doors: 2 Rates: Hourly: $105 Daily: $2520 Weekly: $17640\n",
      "Vehicle ID :Vin2 | \u001b[4mLamborghini Aventador SVJ\u001b[0m 2022 Color: Black Passengers: 4 Luggage: 4 Transmission: Auto Doors: 4 Rates: Hourly: $125 Daily: $3000 Weekly: $21000\n",
      "Vehicle ID :Vin3 | \u001b[4mMcLaren 720S\u001b[0m 2022 Color: Blue Passengers: 2 Luggage: 2 Transmission: Auto Doors: 2 Rates: Hourly: $105 Daily: $2520 Weekly: $17640\n",
      "Vehicle ID :Vin4 | \u001b[4mPorsche 911 GT3\u001b[0m 2022 Color: White Passengers: 2 Luggage: 2 Transmission: Auto Doors: 2 Rates: Hourly: $85 Daily: $2040 Weekly: $14280\n",
      "Vehicle ID :Vin5 | \u001b[4mAudi R8\u001b[0m 2020 Color: Silver Passengers: 2 Luggage: 4 Transmission: Manual Doors: 2 Rates: Hourly: $125 Daily: $3000 Weekly: $21000\n",
      "Vehicle ID :Vin6 | \u001b[4mBMW M8\u001b[0m 2022 Color: Black Passengers: 2 Luggage: 2 Transmission: Manual Doors: 2 Rates: Hourly: $115 Daily: $2760 Weekly: $19320\n",
      "Vehicle ID :Vin7 | \u001b[4mMercedes-Benz AMG GT\u001b[0m 2024 Color: Red Passengers: 2 Luggage: 2 Transmission: Auto Doors: 2 Rates: Hourly: $146 Daily: $3504 Weekly: $24528\n",
      "Vehicle ID :Vin8 | \u001b[4mRoll Royce Phantom\u001b[0m 2022 Color: Blue Passengers: 4 Luggage: 5 Transmission: Auto Doors: 4 Rates: Hourly: $167 Daily: $4008 Weekly: $28056\n",
      "Vehicle ID :Vin9 | \u001b[4mLamborghini Aventador SV Roadster\u001b[0m 2018 Color: Yellow Passengers: 2 Luggage: 2 Transmission: Auto Doors: 2 Rates: Hourly: $95 Daily: $2280 Weekly: $15960\n",
      "Vehicle ID :Vin10 | \u001b[4mMercedes-Benz Brabus G Class 4x4 AMG\u001b[0m 2019 Color: Red Passengers: 5 Luggage: 9 Transmission: Auto Doors: 5 Rates: Hourly: $188 Daily: $4512 Weekly: $31584\n",
      "Vehicle ID :Vin11 | \u001b[4mNissan GT-R\u001b[0m 2018 Color: Blue Passengers: 2 Luggage: 4 Transmission: Manual Doors: 2 Rates: Hourly: $85 Daily: $2040 Weekly: $14280\n",
      "Vehicle ID :Vin12 | \u001b[4mRolls Royce Dawn Convertible\u001b[0m 2019 Color: Blue Passengers: 4 Luggage: 4 Transmission: Auto Doors: 2 Rates: Hourly: $146 Daily: $3504 Weekly: $24528\n",
      "Vehicle ID :Vin13 | \u001b[4mFerrari 488 GTS Convertible\u001b[0m 2019 Color: Blue Passengers: 2 Luggage: 2 Transmission: Auto Doors: 2 Rates: Hourly: $125 Daily: $3000 Weekly: $21000\n",
      "Vehicle ID :Vin14 | \u001b[4mMaserati Quatroporte S Granlusso\u001b[0m 2021 Color: White Passengers: 5 Luggage: 4 Transmission: Auto Doors: 4 Rates: Hourly: $146 Daily: $3504 Weekly: $24528\n",
      "Vehicle ID :Vin15 | \u001b[4mLamborghini Huracan EVO SPyder\u001b[0m 2021 Color: Green Passengers: 2 Luggage: 2 Transmission: Auto Doors: 2 Rates: Hourly: $157 Daily: $3768 Weekly: $26376\n",
      "Vehicle ID :Vin16 | \u001b[4mRolls Royce Cullinan\u001b[0m 2021 Color: White Passengers: 7 Luggage: 5 Transmission: Auto Doors: 4 Rates: Hourly: $157 Daily: $3768 Weekly: $26376\n",
      "Vehicle ID :Vin17 | \u001b[4mDodge Charger SRT Hellcat Widebody\u001b[0m 2022 Color: Blue Passengers: 5 Luggage: 5 Transmission: Auto Doors: 4 Rates: Hourly: $130 Daily: $3120 Weekly: $21840\n",
      "Vehicle ID :Vin18 | \u001b[4mPorsche 911 Carrera 4S Cabriolet\u001b[0m 2023 Color: Red Passengers: 2 Luggage: 2 Transmission: Auto Doors: 2 Rates: Hourly: $80 Daily: $1920 Weekly: $13440\n",
      "Vehicle ID :Vin19 | \u001b[4mMercedes-Benz Maybach GLS 600 AMG\u001b[0m 2023 Color: Blue Passengers: 4 Luggage: 5 Transmission: Auto Doors: 4 Rates: Hourly: $146 Daily: $3504 Weekly: $24528\n",
      "\n",
      "\n",
      "Enter the Vehicle ID for vehicle  1  Example, type: Vin11\n"
     ]
    },
    {
     "name": "stdout",
     "output_type": "stream",
     "text": [
      " Vin19\n"
     ]
    },
    {
     "name": "stdout",
     "output_type": "stream",
     "text": [
      "\n",
      "\n",
      "Please enter the pickup time for your reservation.\n"
     ]
    },
    {
     "name": "stdout",
     "output_type": "stream",
     "text": [
      "Enter the date and time (MM/DD/YYYY HH:MM AM/PM or MM/DD/YYYY HH AM/PM):  4/15/2020 4:00PM\n"
     ]
    },
    {
     "name": "stdout",
     "output_type": "stream",
     "text": [
      "Invalid format or incorrect date/time values. Please enter a valid date and time.\n"
     ]
    },
    {
     "name": "stdout",
     "output_type": "stream",
     "text": [
      "Enter the date and time (MM/DD/YYYY HH:MM AM/PM or MM/DD/YYYY HH AM/PM):  4/15/2020 4:00 PM\n"
     ]
    },
    {
     "name": "stdout",
     "output_type": "stream",
     "text": [
      "The time can not be in the past. Please enter a correct date and time.\n"
     ]
    },
    {
     "name": "stdout",
     "output_type": "stream",
     "text": [
      "Enter the date and time (MM/DD/YYYY HH:MM AM/PM or MM/DD/YYYY HH AM/PM):  4/17/2024 4:00 PM\n"
     ]
    },
    {
     "name": "stdout",
     "output_type": "stream",
     "text": [
      "Validated time: Wednesday, April 17, 2024 04:00 PM\n",
      "\n",
      "\n",
      "Please enter the drop off or return time for your reservation.\n"
     ]
    },
    {
     "name": "stdout",
     "output_type": "stream",
     "text": [
      "Enter the date and time (MM/DD/YYYY HH:MM AM/PM or MM/DD/YYYY HH AM/PM):  4/18/2024 3:00 AM\n"
     ]
    },
    {
     "name": "stdout",
     "output_type": "stream",
     "text": [
      "Validated time: Thursday, April 18, 2024 03:00 AM\n",
      "\n",
      "\n",
      "Rental Duration Details:\n",
      "-------------------------\n",
      "duration :  11:00:00\n",
      "total_days :  0.4583333333333333\n",
      "Rental Duration:  0.4583333333333333\n",
      "\n",
      "\n",
      "Invalid rental period. For daily rentals please rent for a minimum of 1 day with a maximum number of 7 days.\n",
      "\n",
      "\n"
     ]
    },
    {
     "name": "stdout",
     "output_type": "stream",
     "text": [
      "Press Enter to continue with daily rental OR Type: cancel and Press Enter to go back to main menu and try again \n",
      "Press Enter to continue... \n"
     ]
    },
    {
     "name": "stdout",
     "output_type": "stream",
     "text": [
      "\n",
      "\n",
      "Please enter the pickup time for your reservation.\n"
     ]
    },
    {
     "name": "stdout",
     "output_type": "stream",
     "text": [
      "Enter the date and time (MM/DD/YYYY HH:MM AM/PM or MM/DD/YYYY HH AM/PM):  4/17/2024 7:00 am\n"
     ]
    },
    {
     "name": "stdout",
     "output_type": "stream",
     "text": [
      "Validated time: Wednesday, April 17, 2024 07:00 AM\n",
      "\n",
      "\n",
      "Please enter the drop off or return time for your reservation.\n"
     ]
    },
    {
     "name": "stdout",
     "output_type": "stream",
     "text": [
      "Enter the date and time (MM/DD/YYYY HH:MM AM/PM or MM/DD/YYYY HH AM/PM):  4/18/2024 7:00 pm\n"
     ]
    },
    {
     "name": "stdout",
     "output_type": "stream",
     "text": [
      "Validated time: Thursday, April 18, 2024 07:00 PM\n",
      "\n",
      "\n",
      "duration :  1 day, 12:00:00\n",
      "total_days :  1.5\n",
      "Rental Period: Daily\n",
      "-------------------------------------------------------------------------------\n",
      "Rental Details:\n",
      "-------------------------------------------------\n",
      "Vehicle(s):\n",
      "Vehicle: Mercedes-Benz Maybach GLS 600 AMG 2023 Color: Blue Passengers: 4 Luggage: 5 Transmission: Auto Doors: 4 Rental Period: Daily Rate: $3504\n",
      "-------------------------------------------------\n",
      "Pickup Time:  Wednesday, April 17, 2024 07:00 AM\n",
      "Return Time:  Thursday, April 18, 2024 07:00 PM\n",
      "Ontime Return Cost:  5256.0\n",
      "\n",
      "\n",
      "NOTE: All vehicles must be rented at the same time and returned at the same time. Early returns will be charged the full rental rate.\n",
      "\n",
      "\n",
      "LATE FEE INFORMATION : \n",
      "For Daily Rentals: There will be a $480 late fee added to the daily rate for every day late or part thereof, which is equivalent to a $20 late fee for every hour late.\n",
      "\n",
      "\n"
     ]
    },
    {
     "name": "stdout",
     "output_type": "stream",
     "text": [
      "Would you like to confirm this reservation? (Y/N):  y\n"
     ]
    },
    {
     "name": "stdout",
     "output_type": "stream",
     "text": [
      "Reservation confirmed. Thank you!\n",
      "\n",
      "\n",
      "---------------------------------- Welcome To Luxury Car Rentals --------------------------------\n",
      "1. Display Available Cars Inventory\n",
      "2. Rent Vehicle(s)\n",
      "3. Return Vehicle(s)\n",
      "4. Exit Menu\n",
      "--------------------------------------------------------------------------------------------------\n",
      "\n",
      "\n"
     ]
    },
    {
     "name": "stdout",
     "output_type": "stream",
     "text": [
      "Please select an option from the menu above:  3\n"
     ]
    },
    {
     "name": "stdout",
     "output_type": "stream",
     "text": [
      "Return Vehicle(s)\n",
      "-------------------------------\n"
     ]
    },
    {
     "name": "stdout",
     "output_type": "stream",
     "text": [
      "Enter your Driver's License Number:  DL1234\n"
     ]
    },
    {
     "name": "stdout",
     "output_type": "stream",
     "text": [
      "Found it!\n",
      "Welcome back, Derek Meeks!\n",
      "Found it!\n",
      "We'll need your return time information to calculate your final total cost.\n",
      "\n",
      "\n"
     ]
    },
    {
     "name": "stdout",
     "output_type": "stream",
     "text": [
      "Enter the date and time (MM/DD/YYYY HH:MM AM/PM or MM/DD/YYYY HH AM/PM):  4/15/2020 4:00 PM\n"
     ]
    },
    {
     "name": "stdout",
     "output_type": "stream",
     "text": [
      "The time can not be in the past. Please enter a correct date and time.\n"
     ]
    },
    {
     "name": "stdout",
     "output_type": "stream",
     "text": [
      "Enter the date and time (MM/DD/YYYY HH:MM AM/PM or MM/DD/YYYY HH AM/PM):  4/17/2024 1:00 AM\n"
     ]
    },
    {
     "name": "stdout",
     "output_type": "stream",
     "text": [
      "Validated time: Wednesday, April 17, 2024 01:00 AM\n",
      "Invalid return time. The return time must be after the pickup time.\n"
     ]
    },
    {
     "name": "stdout",
     "output_type": "stream",
     "text": [
      "Press Enter to continue... \n"
     ]
    },
    {
     "name": "stdout",
     "output_type": "stream",
     "text": [
      "We'll need your return time information to calculate your final total cost.\n",
      "\n",
      "\n"
     ]
    },
    {
     "name": "stdout",
     "output_type": "stream",
     "text": [
      "Enter the date and time (MM/DD/YYYY HH:MM AM/PM or MM/DD/YYYY HH AM/PM):  4/17/2024 12:00 PM\n"
     ]
    },
    {
     "name": "stdout",
     "output_type": "stream",
     "text": [
      "Validated time: Wednesday, April 17, 2024 12:00 PM\n",
      "Invalid return time. The return time must be after the pickup time.\n"
     ]
    },
    {
     "name": "stdout",
     "output_type": "stream",
     "text": [
      "Press Enter to continue... \n"
     ]
    },
    {
     "name": "stdout",
     "output_type": "stream",
     "text": [
      "We'll need your return time information to calculate your final total cost.\n",
      "\n",
      "\n"
     ]
    },
    {
     "name": "stdout",
     "output_type": "stream",
     "text": [
      "Enter the date and time (MM/DD/YYYY HH:MM AM/PM or MM/DD/YYYY HH AM/PM):  4/18/2024 8:00 PM\n"
     ]
    },
    {
     "name": "stdout",
     "output_type": "stream",
     "text": [
      "Validated time: Thursday, April 18, 2024 08:00 PM\n",
      "duration :  23:00:00\n",
      "total_hours :  23.0\n",
      "\n",
      "\n",
      "----------------Billing Information------------------\n",
      "\n",
      "\n",
      "Customer Information: \n",
      "-------------------------\n",
      "Customer Account Number:  DL1234\n",
      "First Name:  Derek\n",
      "Last Name:  Meeks\n",
      "Email:  me@mee.com\n",
      "Phone:  \n",
      "\n",
      "\n",
      "Rental Details:\n",
      "-------------------------------------------------\n",
      "Vehicle(s):\n",
      "Vehicle: Jeep Gladiator 6x6 2024 Color: Red Passengers: 7 Luggage: 8 Transmission: Auto Doors: 4 Rental Period: Hourly Rate: $208\n",
      "-------------------------------------------------\n",
      "Pickup Time :  Wednesday, April 17, 2024 09:00 PM\n",
      "Expected Return Time :  Thursday, April 18, 2024 08:00 AM\n",
      "Expected Rental Duration :  11.0\n",
      "Actual Return Time :  Thursday, April 18, 2024 08:00 PM\n",
      "Actual Rental Duration :  23.0\n",
      "Rental Rate :  208\n",
      "Rental Period Units :  Hours\n",
      "Late Fee :  2736.0\n",
      "Ontime Return Cost :  2288.0\n",
      "----------------_Total Cost_------------------\n",
      "Total Cost (Original Return Cost + Late Fee) :  5024.0\n",
      "\n",
      "\n",
      "Thank You for renting with us!\n",
      "\n",
      "\n"
     ]
    },
    {
     "name": "stdout",
     "output_type": "stream",
     "text": [
      "Press Enter to continue... \n"
     ]
    },
    {
     "name": "stdout",
     "output_type": "stream",
     "text": [
      "\n",
      "\n",
      "---------------------------------- Welcome To Luxury Car Rentals --------------------------------\n",
      "1. Display Available Cars Inventory\n",
      "2. Rent Vehicle(s)\n",
      "3. Return Vehicle(s)\n",
      "4. Exit Menu\n",
      "--------------------------------------------------------------------------------------------------\n",
      "\n",
      "\n"
     ]
    },
    {
     "name": "stdout",
     "output_type": "stream",
     "text": [
      "Please select an option from the menu above:  2\n"
     ]
    },
    {
     "name": "stdout",
     "output_type": "stream",
     "text": [
      "Rent Vehicle(s)\n",
      "-------------------------------\n"
     ]
    },
    {
     "name": "stdout",
     "output_type": "stream",
     "text": [
      "Do you have an account with us? (yes/no):  yes\n",
      "Enter your Driver's License Number:  DL1234\n"
     ]
    },
    {
     "name": "stdout",
     "output_type": "stream",
     "text": [
      "Found it!\n",
      "Welcome back, Derek Meeks!\n",
      "\n",
      "\n",
      "Active Rental:  False\n",
      "\n",
      "\n"
     ]
    },
    {
     "name": "stdout",
     "output_type": "stream",
     "text": [
      "Press Enter to continue... \n"
     ]
    },
    {
     "name": "stdout",
     "output_type": "stream",
     "text": [
      "\n",
      "\n"
     ]
    },
    {
     "name": "stdout",
     "output_type": "stream",
     "text": [
      "How many vehicles would you like to rent?  1\n"
     ]
    },
    {
     "name": "stdout",
     "output_type": "stream",
     "text": [
      "AVAILABILITY :  19  available cars\n",
      "\n",
      "\n",
      "Rental Period Choices:\n",
      "1. Hourly\n",
      "2. Daily\n",
      "3. Weekly\n",
      "\n",
      "\n",
      "Enter Option for rental period. Example, type: 3 for weekly rental. Note: (All vehicles must be rented at same time and returned at the same time.)\n"
     ]
    },
    {
     "name": "stdout",
     "output_type": "stream",
     "text": [
      " 1\n"
     ]
    },
    {
     "name": "stdout",
     "output_type": "stream",
     "text": [
      "\n",
      "\n",
      "------Available Vehicles------\n",
      "\n",
      "\n",
      "Vehicle ID :Vin1 | \u001b[4mFerrari 488 Pista Coupe\u001b[0m 2020 Color: Red Passengers: 2 Luggage: 4 Transmission: Auto Doors: 2 Rates: Hourly: $105 Daily: $2520 Weekly: $17640\n",
      "Vehicle ID :Vin2 | \u001b[4mLamborghini Aventador SVJ\u001b[0m 2022 Color: Black Passengers: 4 Luggage: 4 Transmission: Auto Doors: 4 Rates: Hourly: $125 Daily: $3000 Weekly: $21000\n",
      "Vehicle ID :Vin3 | \u001b[4mMcLaren 720S\u001b[0m 2022 Color: Blue Passengers: 2 Luggage: 2 Transmission: Auto Doors: 2 Rates: Hourly: $105 Daily: $2520 Weekly: $17640\n",
      "Vehicle ID :Vin4 | \u001b[4mPorsche 911 GT3\u001b[0m 2022 Color: White Passengers: 2 Luggage: 2 Transmission: Auto Doors: 2 Rates: Hourly: $85 Daily: $2040 Weekly: $14280\n",
      "Vehicle ID :Vin5 | \u001b[4mAudi R8\u001b[0m 2020 Color: Silver Passengers: 2 Luggage: 4 Transmission: Manual Doors: 2 Rates: Hourly: $125 Daily: $3000 Weekly: $21000\n",
      "Vehicle ID :Vin6 | \u001b[4mBMW M8\u001b[0m 2022 Color: Black Passengers: 2 Luggage: 2 Transmission: Manual Doors: 2 Rates: Hourly: $115 Daily: $2760 Weekly: $19320\n",
      "Vehicle ID :Vin7 | \u001b[4mMercedes-Benz AMG GT\u001b[0m 2024 Color: Red Passengers: 2 Luggage: 2 Transmission: Auto Doors: 2 Rates: Hourly: $146 Daily: $3504 Weekly: $24528\n",
      "Vehicle ID :Vin8 | \u001b[4mRoll Royce Phantom\u001b[0m 2022 Color: Blue Passengers: 4 Luggage: 5 Transmission: Auto Doors: 4 Rates: Hourly: $167 Daily: $4008 Weekly: $28056\n",
      "Vehicle ID :Vin9 | \u001b[4mLamborghini Aventador SV Roadster\u001b[0m 2018 Color: Yellow Passengers: 2 Luggage: 2 Transmission: Auto Doors: 2 Rates: Hourly: $95 Daily: $2280 Weekly: $15960\n",
      "Vehicle ID :Vin10 | \u001b[4mMercedes-Benz Brabus G Class 4x4 AMG\u001b[0m 2019 Color: Red Passengers: 5 Luggage: 9 Transmission: Auto Doors: 5 Rates: Hourly: $188 Daily: $4512 Weekly: $31584\n",
      "Vehicle ID :Vin11 | \u001b[4mNissan GT-R\u001b[0m 2018 Color: Blue Passengers: 2 Luggage: 4 Transmission: Manual Doors: 2 Rates: Hourly: $85 Daily: $2040 Weekly: $14280\n",
      "Vehicle ID :Vin12 | \u001b[4mRolls Royce Dawn Convertible\u001b[0m 2019 Color: Blue Passengers: 4 Luggage: 4 Transmission: Auto Doors: 2 Rates: Hourly: $146 Daily: $3504 Weekly: $24528\n",
      "Vehicle ID :Vin13 | \u001b[4mFerrari 488 GTS Convertible\u001b[0m 2019 Color: Blue Passengers: 2 Luggage: 2 Transmission: Auto Doors: 2 Rates: Hourly: $125 Daily: $3000 Weekly: $21000\n",
      "Vehicle ID :Vin14 | \u001b[4mMaserati Quatroporte S Granlusso\u001b[0m 2021 Color: White Passengers: 5 Luggage: 4 Transmission: Auto Doors: 4 Rates: Hourly: $146 Daily: $3504 Weekly: $24528\n",
      "Vehicle ID :Vin15 | \u001b[4mLamborghini Huracan EVO SPyder\u001b[0m 2021 Color: Green Passengers: 2 Luggage: 2 Transmission: Auto Doors: 2 Rates: Hourly: $157 Daily: $3768 Weekly: $26376\n",
      "Vehicle ID :Vin16 | \u001b[4mRolls Royce Cullinan\u001b[0m 2021 Color: White Passengers: 7 Luggage: 5 Transmission: Auto Doors: 4 Rates: Hourly: $157 Daily: $3768 Weekly: $26376\n",
      "Vehicle ID :Vin17 | \u001b[4mDodge Charger SRT Hellcat Widebody\u001b[0m 2022 Color: Blue Passengers: 5 Luggage: 5 Transmission: Auto Doors: 4 Rates: Hourly: $130 Daily: $3120 Weekly: $21840\n",
      "Vehicle ID :Vin18 | \u001b[4mPorsche 911 Carrera 4S Cabriolet\u001b[0m 2023 Color: Red Passengers: 2 Luggage: 2 Transmission: Auto Doors: 2 Rates: Hourly: $80 Daily: $1920 Weekly: $13440\n",
      "Vehicle ID :Vin20 | \u001b[4mJeep Gladiator 6x6\u001b[0m 2024 Color: Red Passengers: 7 Luggage: 8 Transmission: Auto Doors: 4 Rates: Hourly: $208 Daily: $4992 Weekly: $34944\n",
      "\n",
      "\n",
      "Enter the Vehicle ID for vehicle  1  Example, type: Vin11\n"
     ]
    },
    {
     "name": "stdout",
     "output_type": "stream",
     "text": [
      " Vin18\n"
     ]
    },
    {
     "name": "stdout",
     "output_type": "stream",
     "text": [
      "\n",
      "\n",
      "Please enter the pickup time for your reservation.\n"
     ]
    },
    {
     "name": "stdout",
     "output_type": "stream",
     "text": [
      "Enter the date and time (MM/DD/YYYY HH:MM AM/PM or MM/DD/YYYY HH AM/PM):  4/20/2024 7:00 PM\n"
     ]
    },
    {
     "name": "stdout",
     "output_type": "stream",
     "text": [
      "Validated time: Saturday, April 20, 2024 07:00 PM\n",
      "\n",
      "\n",
      "Please enter the drop off or return time for your reservation.\n"
     ]
    },
    {
     "name": "stdout",
     "output_type": "stream",
     "text": [
      "Enter the date and time (MM/DD/YYYY HH:MM AM/PM or MM/DD/YYYY HH AM/PM):  4/21/2024 8:00 AM\n"
     ]
    },
    {
     "name": "stdout",
     "output_type": "stream",
     "text": [
      "Validated time: Sunday, April 21, 2024 08:00 AM\n",
      "\n",
      "\n",
      "Rental Duration Details:\n",
      "-------------------------\n",
      "duration :  13:00:00\n",
      "total_hours :  13.0\n",
      "Rental Period: Hourly\n",
      "-------------------------------------------------------------------------------\n",
      "Rental Details:\n",
      "-------------------------------------------------\n",
      "Vehicle(s):\n",
      "Vehicle: Porsche 911 Carrera 4S Cabriolet 2023 Color: Red Passengers: 2 Luggage: 2 Transmission: Auto Doors: 2 Rental Period: Hourly Rate: $80\n",
      "-------------------------------------------------\n",
      "Pickup Time:  Saturday, April 20, 2024 07:00 PM\n",
      "Return Time:  Sunday, April 21, 2024 08:00 AM\n",
      "Ontime Return Cost:  1040.0\n",
      "\n",
      "\n",
      "NOTE: All vehicles must be rented at the same time and returned at the same time. Early returns will be charged the full rental rate.\n",
      "\n",
      "\n",
      "LATE FEE INFORMATION : \n",
      "For Hourly Rentals: There will be a $20 late fee added to the hourly rate for every hour late.\n",
      "\n",
      "\n"
     ]
    },
    {
     "name": "stdout",
     "output_type": "stream",
     "text": [
      "Would you like to confirm this reservation? (Y/N):  y\n"
     ]
    },
    {
     "name": "stdout",
     "output_type": "stream",
     "text": [
      "Reservation confirmed. Thank you!\n",
      "\n",
      "\n",
      "---------------------------------- Welcome To Luxury Car Rentals --------------------------------\n",
      "1. Display Available Cars Inventory\n",
      "2. Rent Vehicle(s)\n",
      "3. Return Vehicle(s)\n",
      "4. Exit Menu\n",
      "--------------------------------------------------------------------------------------------------\n",
      "\n",
      "\n"
     ]
    },
    {
     "name": "stdout",
     "output_type": "stream",
     "text": [
      "Please select an option from the menu above:  1\n"
     ]
    },
    {
     "name": "stdout",
     "output_type": "stream",
     "text": [
      "\n",
      "\n",
      "Available Cars Inventory\n",
      "-------------------------------\n",
      "Vehicle ID :Vin1 | \u001b[4mFerrari 488 Pista Coupe\u001b[0m 2020 Color: Red Passengers: 2 Luggage: 4 Transmission: Auto Doors: 2 Rates: Hourly: $105 Daily: $2520 Weekly: $17640\n",
      "Vehicle ID :Vin2 | \u001b[4mLamborghini Aventador SVJ\u001b[0m 2022 Color: Black Passengers: 4 Luggage: 4 Transmission: Auto Doors: 4 Rates: Hourly: $125 Daily: $3000 Weekly: $21000\n",
      "Vehicle ID :Vin3 | \u001b[4mMcLaren 720S\u001b[0m 2022 Color: Blue Passengers: 2 Luggage: 2 Transmission: Auto Doors: 2 Rates: Hourly: $105 Daily: $2520 Weekly: $17640\n",
      "Vehicle ID :Vin4 | \u001b[4mPorsche 911 GT3\u001b[0m 2022 Color: White Passengers: 2 Luggage: 2 Transmission: Auto Doors: 2 Rates: Hourly: $85 Daily: $2040 Weekly: $14280\n",
      "Vehicle ID :Vin5 | \u001b[4mAudi R8\u001b[0m 2020 Color: Silver Passengers: 2 Luggage: 4 Transmission: Manual Doors: 2 Rates: Hourly: $125 Daily: $3000 Weekly: $21000\n",
      "Vehicle ID :Vin6 | \u001b[4mBMW M8\u001b[0m 2022 Color: Black Passengers: 2 Luggage: 2 Transmission: Manual Doors: 2 Rates: Hourly: $115 Daily: $2760 Weekly: $19320\n",
      "Vehicle ID :Vin7 | \u001b[4mMercedes-Benz AMG GT\u001b[0m 2024 Color: Red Passengers: 2 Luggage: 2 Transmission: Auto Doors: 2 Rates: Hourly: $146 Daily: $3504 Weekly: $24528\n",
      "Vehicle ID :Vin8 | \u001b[4mRoll Royce Phantom\u001b[0m 2022 Color: Blue Passengers: 4 Luggage: 5 Transmission: Auto Doors: 4 Rates: Hourly: $167 Daily: $4008 Weekly: $28056\n",
      "Vehicle ID :Vin9 | \u001b[4mLamborghini Aventador SV Roadster\u001b[0m 2018 Color: Yellow Passengers: 2 Luggage: 2 Transmission: Auto Doors: 2 Rates: Hourly: $95 Daily: $2280 Weekly: $15960\n",
      "Vehicle ID :Vin10 | \u001b[4mMercedes-Benz Brabus G Class 4x4 AMG\u001b[0m 2019 Color: Red Passengers: 5 Luggage: 9 Transmission: Auto Doors: 5 Rates: Hourly: $188 Daily: $4512 Weekly: $31584\n",
      "Vehicle ID :Vin11 | \u001b[4mNissan GT-R\u001b[0m 2018 Color: Blue Passengers: 2 Luggage: 4 Transmission: Manual Doors: 2 Rates: Hourly: $85 Daily: $2040 Weekly: $14280\n",
      "Vehicle ID :Vin12 | \u001b[4mRolls Royce Dawn Convertible\u001b[0m 2019 Color: Blue Passengers: 4 Luggage: 4 Transmission: Auto Doors: 2 Rates: Hourly: $146 Daily: $3504 Weekly: $24528\n",
      "Vehicle ID :Vin13 | \u001b[4mFerrari 488 GTS Convertible\u001b[0m 2019 Color: Blue Passengers: 2 Luggage: 2 Transmission: Auto Doors: 2 Rates: Hourly: $125 Daily: $3000 Weekly: $21000\n",
      "Vehicle ID :Vin14 | \u001b[4mMaserati Quatroporte S Granlusso\u001b[0m 2021 Color: White Passengers: 5 Luggage: 4 Transmission: Auto Doors: 4 Rates: Hourly: $146 Daily: $3504 Weekly: $24528\n",
      "Vehicle ID :Vin15 | \u001b[4mLamborghini Huracan EVO SPyder\u001b[0m 2021 Color: Green Passengers: 2 Luggage: 2 Transmission: Auto Doors: 2 Rates: Hourly: $157 Daily: $3768 Weekly: $26376\n",
      "Vehicle ID :Vin16 | \u001b[4mRolls Royce Cullinan\u001b[0m 2021 Color: White Passengers: 7 Luggage: 5 Transmission: Auto Doors: 4 Rates: Hourly: $157 Daily: $3768 Weekly: $26376\n",
      "Vehicle ID :Vin17 | \u001b[4mDodge Charger SRT Hellcat Widebody\u001b[0m 2022 Color: Blue Passengers: 5 Luggage: 5 Transmission: Auto Doors: 4 Rates: Hourly: $130 Daily: $3120 Weekly: $21840\n",
      "Vehicle ID :Vin20 | \u001b[4mJeep Gladiator 6x6\u001b[0m 2024 Color: Red Passengers: 7 Luggage: 8 Transmission: Auto Doors: 4 Rates: Hourly: $208 Daily: $4992 Weekly: $34944\n"
     ]
    }
   ],
   "source": [
    "main()\n"
   ]
  },
  {
   "cell_type": "code",
   "execution_count": null,
   "metadata": {},
   "outputs": [],
   "source": []
  }
 ],
 "metadata": {
  "kernelspec": {
   "display_name": "Python 3 (ipykernel)",
   "language": "python",
   "name": "python3"
  },
  "language_info": {
   "codemirror_mode": {
    "name": "ipython",
    "version": 3
   },
   "file_extension": ".py",
   "mimetype": "text/x-python",
   "name": "python",
   "nbconvert_exporter": "python",
   "pygments_lexer": "ipython3",
   "version": "3.11.7"
  }
 },
 "nbformat": 4,
 "nbformat_minor": 4
}
